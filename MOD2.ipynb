{
 "cells": [
  {
   "cell_type": "markdown",
   "metadata": {},
   "source": [
    "**Fundamentos de Programación en Python: Módulo 2**\n",
    "\n",
    "En este módulo, aprenderás sobre:\n",
    "\n",
    " Los tipos de datos y los métodos básicos de formateo, conversión de datos, entrada y salida de datos.\n",
    " Operadores.\n",
    " Variables.\n"
   ]
  },
  {
   "cell_type": "markdown",
   "metadata": {},
   "source": [
    "Una función puede tener:\n",
    "\n",
    "1. Un efecto.\n",
    "2. Un resultado.\n",
    "3. argumento(s)."
   ]
  },
  {
   "cell_type": "markdown",
   "metadata": {},
   "source": [
    "¿De dónde provienen las funciones?: \n",
    "\n",
    " 1. Pueden venir de Python mismo. \n",
    " 2. Pueden provenir de uno o varios de los módulos de Python llamados complementos\n",
    " 3. Pueden ser escritas por el usuario"
   ]
  },
  {
   "cell_type": "code",
   "execution_count": 36,
   "metadata": {},
   "outputs": [],
   "source": [
    "#nombreFunción(argumento) --> esto es una invocación de función. "
   ]
  },
  {
   "cell_type": "code",
   "execution_count": 37,
   "metadata": {},
   "outputs": [
    {
     "name": "stdout",
     "output_type": "stream",
     "text": [
      "\n",
      "esta es una función\n"
     ]
    }
   ],
   "source": [
    "print() #Esta función generea el efecto de imprimir en la terminal. \n",
    "print(\"esta es una función\") #Esta es una función integrada de Python. Tiene 1 argumento, el cuál es una cadena\n"
   ]
  },
  {
   "cell_type": "markdown",
   "metadata": {},
   "source": [
    "**Todas las funciones demandan la presencia de un par de parentesis"
   ]
  },
  {
   "cell_type": "markdown",
   "metadata": {},
   "source": [
    "print() puede operar con prácticamente todos los tipos de datos ofrecidos por Python. Cadenas, números, caracteres, valores lógicos, objetos: cualquiera de estos se puede pasar con éxito a print()."
   ]
  },
  {
   "cell_type": "code",
   "execution_count": 1,
   "metadata": {},
   "outputs": [
    {
     "data": {
      "text/plain": [
       "'hola mundo'"
      ]
     },
     "execution_count": 1,
     "metadata": {},
     "output_type": "execute_result"
    }
   ],
   "source": [
    "\"hola mundo\" #Esta es una cadena de caracteres, la cuál esta delimitada entre comillas. "
   ]
  },
  {
   "cell_type": "markdown",
   "metadata": {},
   "source": [
    "Las comillas significan algo así: el texto entre nosotros no es un código. No está diseñado para ser ejecutado, y se debe tomar tal como está.\n",
    "Casi cualquier cosa que ponga dentro de las comillas se tomará de manera literal, no como código, sino como datos."
   ]
  },
  {
   "cell_type": "markdown",
   "metadata": {},
   "source": [
    "La sintaxis de Python es bastante específica en esta área. A diferencia de la mayoría de los lenguajes de programación, Python requiere que no haya más de una instrucción por una línea. Una línea puede estar vacía (por ejemplo, puede no contener ninguna instrucción) pero no debe contener dos, tres o más instrucciones. Esto está estrictamente prohibido.\n",
    "\n",
    "Nota: Python hace una excepción a esta regla: permite que una instrucción se extienda por más de una línea (lo que puede ser útil cuando el código contiene construcciones complejas)."
   ]
  },
  {
   "cell_type": "code",
   "execution_count": 39,
   "metadata": {},
   "outputs": [
    {
     "name": "stdout",
     "output_type": "stream",
     "text": [
      "La Witsi Witsi Araña subió a su telaraña.\n",
      "\n",
      "Vino la lluvia y se la llevó.\n"
     ]
    }
   ],
   "source": [
    "print(\"La Witsi Witsi Araña subió a su telaraña.\")\n",
    "print()  #esta es una invocación vacía. Genera una línea vacía. \n",
    "print(\"Vino la lluvia y se la llevó.\")"
   ]
  },
  {
   "cell_type": "code",
   "execution_count": 40,
   "metadata": {},
   "outputs": [
    {
     "name": "stdout",
     "output_type": "stream",
     "text": [
      "La Witsi Witsi Araña\n",
      "subió a su telaraña.\n",
      "\n",
      "Vino la lluvia\n",
      "y se la llevó.\n"
     ]
    }
   ],
   "source": [
    "print(\"La Witsi Witsi Araña\\nsubió a su telaraña.\\n\") #\\: carácter de escape; n: newline (nueva linea)\n",
    "print(\"Vino la lluvia\\ny se la llevó.\")"
   ]
  },
  {
   "cell_type": "markdown",
   "metadata": {},
   "source": [
    "Tanto la barra diagonal inversa como la n forman un símbolo especial denominado carácter de nueva línea (newline character), que incita a la consola a iniciar una nueva línea de salida."
   ]
  },
  {
   "cell_type": "code",
   "execution_count": 2,
   "metadata": {},
   "outputs": [
    {
     "name": "stdout",
     "output_type": "stream",
     "text": [
      "\\\n",
      "terminal\\consola\n"
     ]
    }
   ],
   "source": [
    "#Si deseas colocar solo una barra invertida dentro de una cadena, \n",
    "#no olvides su naturaleza de escape: tienes que duplicarla, por ejemplo, la siguiente invocación causará un error:\n",
    "\n",
    "\"\"\" print(\"\\\") \"\"\"\n",
    "\n",
    "#Mientras que esta no lo hará:\n",
    "\n",
    "print(\"\\\\\")\n",
    "print('terminal\\\\consola')\n"
   ]
  },
  {
   "cell_type": "markdown",
   "metadata": {},
   "source": [
    "**La función print() utilizando argumentos múltiples**"
   ]
  },
  {
   "cell_type": "code",
   "execution_count": 42,
   "metadata": {},
   "outputs": [
    {
     "name": "stdout",
     "output_type": "stream",
     "text": [
      "La Witsi Witsi Arañar subió a su telaraña.\n",
      "La Witsi Witsi Arañar subió a su telaraña.\n"
     ]
    }
   ],
   "source": [
    "print(\"La Witsi Witsi Arañar\" , \"subió\" , \"a su telaraña.\")\n",
    "print(\"La Witsi Witsi Arañar\",\"subió\",\"a su telaraña.\")"
   ]
  },
  {
   "cell_type": "markdown",
   "metadata": {},
   "source": [
    "En este caso, las comas que separan los argumentos desempeñan un papel completamente diferente a la coma dentro de la cadena. El primero es una parte de la sintaxis de Python, el segundo está destinado a mostrarse en la consola.\n",
    "Dos conclusiones surgen de este ejemplo:\n",
    "1. Una función print() invocada con más de un argumento genera la salida en una sola línea.\n",
    "2. La función print() pone un espacio entre los argumentos emitidos por iniciativa propia.\n"
   ]
  },
  {
   "cell_type": "markdown",
   "metadata": {},
   "source": [
    "La forma en que pasamos los argumentos a la función print() es la más común en Python, y se denomina manera posicional (este nombre proviene del hecho de que el significado del argumento está dictado por su posición, por ejemplo, el segundo argumento se emitirá después del primero, y no al revés)."
   ]
  },
  {
   "cell_type": "markdown",
   "metadata": {},
   "source": [
    "**La función print() - los argumentos de palabras clave**"
   ]
  },
  {
   "cell_type": "markdown",
   "metadata": {},
   "source": [
    "La función print() tiene dos argumentos de palabras clave que se pueden utilizar. El nombre se deriva del hecho de que el significado de estos argumentos no se toma de su ubicación (posición) sino de la palabra especial (palabra clave) utilizada para identificarlos.El primero de ellos se llama end."
   ]
  },
  {
   "cell_type": "markdown",
   "metadata": {},
   "source": [
    "Para utilizarlo es necesario conocer algunas reglas:\n",
    "\n",
    "1. Un argumento de palabra clave consta de tres elementos: una palabra clave que identifica el argumento (end -termina aquí); un signo de igual (=); y un valor asignado a ese argumento.\n",
    "2. Cualquier argumento de palabra clave debe ponerse después del último argumento posicional (esto es muy importante).\n"
   ]
  },
  {
   "cell_type": "code",
   "execution_count": 1,
   "metadata": {},
   "outputs": [
    {
     "name": "stdout",
     "output_type": "stream",
     "text": [
      "Mi nombre es Python. Monty Python.\n",
      "Mi nombre es Python.**Monty Python.\n",
      "Mi nombre es Monty Python.\n"
     ]
    }
   ],
   "source": [
    "print(\"Mi nombre es\", \"Python.\", end=\" \")\n",
    "print(\"Monty Python.\")\n",
    "print(\"Mi nombre es\", \"Python.\", end=\"**\")\n",
    "print(\"Monty Python.\")\n",
    "print(\"Mi nombre es \", end=\"\") #a este argumento se le puede asignar una cadena que este vacía (no contiene ningún caracter)\n",
    "print(\"Monty Python.\")"
   ]
  },
  {
   "cell_type": "markdown",
   "metadata": {},
   "source": [
    "Como puedes ver, el argumento de palabra clave end determina los caracteres que la función print() envía a la salida una vez que llega al final de sus argumentos posicionales.\n",
    "\n",
    "El comportamiento predeterminado refleja la situación en la que el argumento de la palabra clave end se usa implícitamente de la siguiente manera: end=\"\\n\"."
   ]
  },
  {
   "cell_type": "code",
   "execution_count": 44,
   "metadata": {},
   "outputs": [
    {
     "name": "stdout",
     "output_type": "stream",
     "text": [
      "Mi nombre es Python.\n",
      "Monty Python.\n"
     ]
    }
   ],
   "source": [
    "print(\"Mi nombre es\", \"Python.\", end=\"\\n\") #el caracter de escapr \"\\n\" cancela el efecto del argumento de palabre clave \"end\".\n",
    "print(\"Monty Python.\")"
   ]
  },
  {
   "cell_type": "markdown",
   "metadata": {},
   "source": [
    "El segundo argumento de palabra clave se denomina sep (como separador)."
   ]
  },
  {
   "cell_type": "code",
   "execution_count": 45,
   "metadata": {},
   "outputs": [
    {
     "name": "stdout",
     "output_type": "stream",
     "text": [
      "Mi-nombre-es-Monty-Python.\n",
      "MinombreesMontyPython.\n"
     ]
    }
   ],
   "source": [
    "print(\"Mi\", \"nombre\", \"es\", \"Monty\", \"Python.\", sep=\"-\")\n",
    "print(\"Mi\", \"nombre\", \"es\", \"Monty\", \"Python.\", sep=\"\") #el valor del argumento sep también puede ser una cadena vacía.\n"
   ]
  },
  {
   "cell_type": "markdown",
   "metadata": {},
   "source": [
    "La función print() ahora utiliza un guión, en lugar de un espacio, para separar los argumentos generados."
   ]
  },
  {
   "cell_type": "markdown",
   "metadata": {},
   "source": [
    "Los dos argumentos de palabra clave se pueden combinar en una invocación como se muestra a continuación:"
   ]
  },
  {
   "cell_type": "code",
   "execution_count": 46,
   "metadata": {},
   "outputs": [
    {
     "name": "stdout",
     "output_type": "stream",
     "text": [
      "Mi_nombre_es*Monty*Python.*\n",
      "Fundamentos***Programación***en...Python\n"
     ]
    }
   ],
   "source": [
    "print(\"Mi\", \"nombre\", \"es\", sep=\"_\", end=\"*\")\n",
    "print(\"Monty\", \"Python.\", sep=\"*\", end=\"*\\n\")\n",
    "print(\"Fundamentos\",\"Programación\",\"en\",sep=\"***\", end=\"...\")\n",
    "print(\"Python\")"
   ]
  },
  {
   "cell_type": "markdown",
   "metadata": {},
   "source": [
    "**Literales de Python**"
   ]
  },
  {
   "cell_type": "markdown",
   "metadata": {},
   "source": [
    "- 123: es un literal\n",
    "- c (la letra c): no es un literal\n",
    "\n",
    "Un literal se refiere a datos cuyos valores están determinados por el literal mismo y se utilizan para codificar datos y ponerlos dentro del código. Ahora mostraremos algunas convenciones que se deben seguir al utilizar Python."
   ]
  },
  {
   "cell_type": "code",
   "execution_count": 47,
   "metadata": {},
   "outputs": [
    {
     "name": "stdout",
     "output_type": "stream",
     "text": [
      "2\n",
      "2\n"
     ]
    }
   ],
   "source": [
    "print(\"2\")\n",
    "print(2)"
   ]
  },
  {
   "cell_type": "markdown",
   "metadata": {},
   "source": [
    "A través de este ejemplo, encuentras dos tipos diferentes de literales:\n",
    "\n",
    "Una cadena, la cual ya conoces.\n",
    "Y un número entero, algo completamente nuevo.\n",
    "La función print() los muestra exactamente de la misma manera. Sin embargo, internamente, la memoria de la computadora los almacena de dos maneras completamente diferentes. La cadena existe como eso, solo una cadena, una serie de letras.\n",
    "\n",
    "El número es convertido a una representación maquina (una serie de bits). La función print() es capaz de mostrar ambos en una forma legible para humanos."
   ]
  },
  {
   "cell_type": "markdown",
   "metadata": {},
   "source": [
    "Si se codifica un literal y se coloca dentro del código de Python, la forma del literal determina la representación (tipo) que Python utilizará para almacenarlo en la memoria."
   ]
  },
  {
   "cell_type": "code",
   "execution_count": 3,
   "metadata": {},
   "outputs": [
    {
     "name": "stdout",
     "output_type": "stream",
     "text": [
      "<class 'str'>\n",
      "<class 'int'>\n"
     ]
    }
   ],
   "source": [
    "print(type(\"2\"))   #type () es una función que determina el tipo de objeto. \n",
    "print(type(2))"
   ]
  },
  {
   "cell_type": "markdown",
   "metadata": {},
   "source": [
    "**literales númericos**\n",
    "\n"
   ]
  },
  {
   "cell_type": "markdown",
   "metadata": {},
   "source": [
    "***Enteros***"
   ]
  },
  {
   "cell_type": "markdown",
   "metadata": {},
   "source": [
    "Es claro que la separación hace que sea más fácil de leer, especialmente cuando el número tiene demasiados dígitos. \n",
    "#Sin embargo, Python no acepta estas cosas. #Esta prohibido. ¿Qué es lo que Python permite? El uso de guion bajo en los literales numéricos.*"
   ]
  },
  {
   "cell_type": "code",
   "execution_count": 48,
   "metadata": {},
   "outputs": [
    {
     "name": "stdout",
     "output_type": "stream",
     "text": [
      "1111\n",
      "1111\n",
      "1111\n"
     ]
    }
   ],
   "source": [
    "print(1111)\n",
    "print(1_111)\n",
    "print(1_1_1_1) \n"
   ]
  },
  {
   "cell_type": "code",
   "execution_count": 49,
   "metadata": {},
   "outputs": [
    {
     "name": "stdout",
     "output_type": "stream",
     "text": [
      "83\n",
      "291\n"
     ]
    }
   ],
   "source": [
    "print(0o123) #Este es un número entero octal\n",
    "print(0X123) #Este es un número entero hexadecimal"
   ]
  },
  {
   "cell_type": "markdown",
   "metadata": {},
   "source": [
    "***Flotantes*** ***(punto-flotantes)***"
   ]
  },
  {
   "cell_type": "code",
   "execution_count": 50,
   "metadata": {},
   "outputs": [
    {
     "name": "stdout",
     "output_type": "stream",
     "text": [
      "0.4\n",
      "0.4\n",
      "4.0\n",
      "4.0\n",
      "300000000.0\n",
      "6.62607e-34\n",
      "1e-20\n"
     ]
    }
   ],
   "source": [
    "print(0.4)\n",
    "print(.4) #= print(0.4)\n",
    "print(4.0)\n",
    "print(4.) #= print(4.0)\n",
    "\n",
    "num = 3E8 #=3e8\n",
    "print(num)\n",
    "print(6.62607E-34)\n",
    "#Nota1: El exponente (el valor después de la E) debe ser un valor entero. La base (el valor antes de la E) puede o no ser un valor entero.\n",
    "print(0.00000000000000000001)\n",
    "#Nota2: Python siempre elige la presentación más corta del número, y esto se debe de tomar en consideración al crear literales."
   ]
  },
  {
   "cell_type": "markdown",
   "metadata": {},
   "source": [
    "<!-- 2.1.2.4 Literales de Python -->\n"
   ]
  },
  {
   "cell_type": "markdown",
   "metadata": {},
   "source": [
    "**Cadenas (str : {' '})** "
   ]
  },
  {
   "cell_type": "code",
   "execution_count": 51,
   "metadata": {},
   "outputs": [
    {
     "name": "stdout",
     "output_type": "stream",
     "text": [
      "Esto es una cadena\n",
      "Esta también es una cadena\n",
      "Esta es una cadena \"que respeta sus comillas\"\n",
      "Esta es una cadena \"que respeta sus comillas\"\n",
      "\"Estoy\" \n",
      "\"\"aprendiendo\"\"\n",
      " \"\"\"Python\"\"\"\n",
      "\n",
      "\n"
     ]
    }
   ],
   "source": [
    "print('Esto es una cadena')\n",
    "print(\"Esta también es una cadena\")\n",
    "print('Esta es una cadena \"que respeta sus comillas\"')\n",
    "print(\"Esta es una cadena \\\"que respeta sus comillas\\\"\")\n",
    "\n",
    "print('\"Estoy\" \\n\"\"aprendiendo\"\"\\n \"\"\"Python\"\"\"')\n",
    "print(\"\")\n",
    "print('') #una cadena puede estar vacía - puede no contener caracter alguno. Una cadena vacía sigue siendo una cadena. \n",
    "\n"
   ]
  },
  {
   "cell_type": "markdown",
   "metadata": {},
   "source": [
    "**Valores Booleanos**"
   ]
  },
  {
   "cell_type": "markdown",
   "metadata": {},
   "source": [
    "No son tan obvios como los anteriores y se emplean para representar un valor muy abstracto - la veracidad. Un programador escribe un programa, y el programa hace preguntas. Python ejecuta el programa, y provee las respuestas. El programa debe ser capaz de reaccionar acorde a las respuestas recibidas.\n",
    "\n",
    "Afortunadamente, las computadoras solo conocen dos tipos de respuestas:\n",
    "\n",
    "- Si, esto es verdad.\n",
    "- No, esto es falso.\n",
    "\n",
    "Estos dos valores booleanos tienen denotaciones estrictas en Python:\n",
    "\n",
    "- True\n",
    "- False\n",
    "\n",
    "No se pueden cambiar, se deben tomar estos símbolos como son, incluso respetando las mayúsculas y minúsculas."
   ]
  },
  {
   "cell_type": "code",
   "execution_count": 52,
   "metadata": {},
   "outputs": [
    {
     "name": "stdout",
     "output_type": "stream",
     "text": [
      "False\n",
      "True\n",
      "True\n",
      "False\n"
     ]
    }
   ],
   "source": [
    "print(1 > 2)\n",
    "print(3 < 4)\n",
    "\n",
    "print(True > False)  #True = 1, False= 0\n",
    "print(True < False)"
   ]
  },
  {
   "cell_type": "markdown",
   "metadata": {},
   "source": [
    "Los Valores Booleanos son dos objetos constantes Verdadero y Falso empleados para representar valores de verdad (en contextos numéricos 1 es True, mientras que 0 es False)."
   ]
  },
  {
   "cell_type": "markdown",
   "metadata": {},
   "source": [
    "**Literal None**"
   ]
  },
  {
   "cell_type": "markdown",
   "metadata": {},
   "source": [
    "Existe un literal especial más utilizado en Python: el literal None. Este literal es llamado un objeto de NonType (ningún tipo), y puede ser utilizado para representar la ausencia de un valor."
   ]
  },
  {
   "cell_type": "markdown",
   "metadata": {},
   "source": [
    "**Los Operadores Básicos**\n",
    "\n",
    "Un operador es un símbolo del lenguaje de programación, el cual es capaz de realizar operaciones con los valores. los operadores que están asociados con las operaciones aritméticas más conocidas:\n",
    "\n",
    "+, -, *, /, //, %, ** --> no están en este orden por casualidad. "
   ]
  },
  {
   "cell_type": "markdown",
   "metadata": {},
   "source": [
    "Cuando los datos y operadores se unen, forman juntos expresiones. La expresión más sencilla es el literal."
   ]
  },
  {
   "cell_type": "code",
   "execution_count": 53,
   "metadata": {},
   "outputs": [
    {
     "name": "stdout",
     "output_type": "stream",
     "text": [
      "4\n"
     ]
    }
   ],
   "source": [
    "print(2+2)"
   ]
  },
  {
   "cell_type": "code",
   "execution_count": 54,
   "metadata": {},
   "outputs": [
    {
     "name": "stdout",
     "output_type": "stream",
     "text": [
      "8\n",
      "8.0\n",
      "8.0\n",
      "8.0\n"
     ]
    }
   ],
   "source": [
    "#Exponenciación (**)\n",
    "print(2 ** 3)\n",
    "print(2 ** 3.)\n",
    "print(2. ** 3)\n",
    "print(2. ** 3.)"
   ]
  },
  {
   "cell_type": "markdown",
   "metadata": {},
   "source": [
    "Es posible formular las siguientes reglas con base en los resultados:\n",
    "\n",
    "- Cuando ambos ** argumentos son enteros, el resultado es entero también.\n",
    "- Cuando al menos un ** argumento es flotante, el resultado también es flotante."
   ]
  },
  {
   "cell_type": "code",
   "execution_count": 55,
   "metadata": {},
   "outputs": [
    {
     "name": "stdout",
     "output_type": "stream",
     "text": [
      "6\n",
      "6.0\n",
      "6.0\n",
      "6.0\n"
     ]
    }
   ],
   "source": [
    "#Multiplicación (*)\n",
    "print(2 * 3)\n",
    "print(2 * 3.)\n",
    "print(2. * 3)\n",
    "print(2. * 3.)"
   ]
  },
  {
   "cell_type": "code",
   "execution_count": 56,
   "metadata": {},
   "outputs": [
    {
     "name": "stdout",
     "output_type": "stream",
     "text": [
      "2.0\n",
      "2.0\n",
      "2.0\n",
      "2.0\n"
     ]
    }
   ],
   "source": [
    "#División (/)\n",
    "print(6 / 3)\n",
    "print(6 / 3.)\n",
    "print(6. / 3)\n",
    "print(6. / 3.) \n"
   ]
  },
  {
   "cell_type": "markdown",
   "metadata": {},
   "source": [
    "Nota: El resultado producido por el operador de división siempre es flotante. En caso de que necesitemos que el resultado de la división sea un número entero, podemos aplicar la sgte operación:\n",
    "\n"
   ]
  },
  {
   "cell_type": "code",
   "execution_count": 3,
   "metadata": {},
   "outputs": [
    {
     "name": "stdout",
     "output_type": "stream",
     "text": [
      "2\n",
      "2.0\n",
      "2.0\n",
      "2.0\n",
      "\n",
      "\n",
      "1.5\n",
      "1\n",
      "-1.5\n",
      "-2\n"
     ]
    }
   ],
   "source": [
    "#División entera(//)\n",
    "print(6 // 3)\n",
    "print(6 // 3.)\n",
    "print(6. // 3)\n",
    "print(6. // 3.)\n",
    "\n",
    "print(\"\\n\")\n",
    "\n",
    "print(6/4.)\n",
    "print(6 // 4)\n",
    "print(-6/4.)\n",
    "print(-6 // 4)\n"
   ]
  },
  {
   "cell_type": "markdown",
   "metadata": {},
   "source": [
    "Nota: El resultado de la división entera siempre se redondea al valor entero inferior mas cercano del resultado de la división no redondeada."
   ]
  },
  {
   "cell_type": "code",
   "execution_count": 58,
   "metadata": {},
   "outputs": [
    {
     "name": "stdout",
     "output_type": "stream",
     "text": [
      "3.0\n"
     ]
    }
   ],
   "source": [
    "#residuo(modulo)\n",
    "print(12 % 4.5) #devuelve el residuo de la división\n"
   ]
  },
  {
   "cell_type": "code",
   "execution_count": 4,
   "metadata": {},
   "outputs": [
    {
     "name": "stdout",
     "output_type": "stream",
     "text": [
      "0\n",
      "4.0\n",
      "-8\n",
      "-4.0\n"
     ]
    }
   ],
   "source": [
    "#suma:\n",
    "print(-4 + 4)\n",
    "print(-4. + 8)\n",
    "#resta:\n",
    "print(-4 - 4)\n",
    "print(4. - 8)\n"
   ]
  },
  {
   "cell_type": "markdown",
   "metadata": {},
   "source": [
    "Nota: la resta y la suma, al igual que la división y la multiplicación, son operadores binarios por que sus aplicaciones siempre reciben\n",
    "#dos argumentos, pero también tienen sus versiones unarias, como se muestra a continuación:"
   ]
  },
  {
   "cell_type": "code",
   "execution_count": 5,
   "metadata": {},
   "outputs": [
    {
     "name": "stdout",
     "output_type": "stream",
     "text": [
      "-1.1\n",
      "2\n"
     ]
    }
   ],
   "source": [
    "print(-1.1)\n",
    "print(+2)"
   ]
  },
  {
   "cell_type": "markdown",
   "metadata": {},
   "source": [
    "***prioridad y enlace de las operaciones***"
   ]
  },
  {
   "cell_type": "code",
   "execution_count": 3,
   "metadata": {},
   "outputs": [
    {
     "name": "stdout",
     "output_type": "stream",
     "text": [
      "10.0\n",
      "3\n"
     ]
    }
   ],
   "source": [
    "\"\"\" \n",
    "Prioridad\tOperador\n",
    "0\t           ()      #\n",
    "1\t          +, -\t unario\n",
    "2\t           **\t\n",
    "3\t        *, /, %\t\n",
    "4\t          +, -\t binario \n",
    "\"\"\"\n",
    "#De acuerdo con las reglas aritméticas, las sub-expresiones dentro de los paréntesis siempre se calculan primero.\n",
    "print((5 * ((25 % 13) + 100) / (2 * 13)) // 2)\n"
   ]
  },
  {
   "cell_type": "markdown",
   "metadata": {},
   "source": [
    "Cuando tenemos operadores con la misma prioridad, se debe tener en cuenta que los operadores utilizan enlazado hacia la izquierda, como es usual. Los operadores de exponenciación utilizan enlazado hacia la derecha, por ejemplo: "
   ]
  },
  {
   "cell_type": "code",
   "execution_count": 6,
   "metadata": {},
   "outputs": [
    {
     "name": "stdout",
     "output_type": "stream",
     "text": [
      "256\n"
     ]
    }
   ],
   "source": [
    "print(2**2**3)\n",
    "#      2**8 "
   ]
  },
  {
   "cell_type": "markdown",
   "metadata": {},
   "source": [
    "**Variables**\n",
    "\n",
    "Una variable es una ubicación nombrada reservada para almacenar valores en la memoria. Una variable es creada o inicializada automáticamente cuando se le asigna un valor por primera vez.\n",
    "\n",
    "Condiciones para nombrar una variable:\n",
    "- El nombre de la variable debe de estar compuesto por MAYUSCULAS, minúsculas, dígitos, y el carácter _ (guion bajo).\n",
    "- El nombre de la variable debe comenzar con una letra.\n",
    "- El carácter guion bajo es considerado una letra.\n",
    "- Las mayúsculas y minúsculas se tratan de forma distinta (un poco diferente que en el mundo real - Alicia y ALICIA son el mismo nombre, pero en Python   son dos nombres de variable distintos, subsecuentemente, son dos variables diferentes).\n",
    "- El nombre de las variables no pueden ser igual a alguna de las palabras reservadas de Python.\n"
   ]
  },
  {
   "cell_type": "code",
   "execution_count": 61,
   "metadata": {},
   "outputs": [
    {
     "data": {
      "text/plain": [
       "['False',\n",
       " 'None',\n",
       " 'True',\n",
       " 'and',\n",
       " 'as',\n",
       " 'assert',\n",
       " 'break',\n",
       " 'class',\n",
       " 'continue',\n",
       " 'def',\n",
       " 'del',\n",
       " 'elif',\n",
       " 'else',\n",
       " 'except',\n",
       " 'finally',\n",
       " 'for',\n",
       " 'from',\n",
       " 'global',\n",
       " 'if',\n",
       " 'import',\n",
       " 'in',\n",
       " 'is',\n",
       " 'lambda',\n",
       " 'nonlocal',\n",
       " 'not',\n",
       " 'or',\n",
       " 'pass',\n",
       " 'raise',\n",
       " 'return',\n",
       " 'try',\n",
       " 'while',\n",
       " 'with',\n",
       " 'yield']"
      ]
     },
     "execution_count": 61,
     "metadata": {},
     "output_type": "execute_result"
    }
   ],
   "source": [
    "#Palabras clave o reservadas en Python:\n",
    "['False', 'None', 'True', 'and', 'as', 'assert', 'break', 'class', 'continue', 'def', 'del', 'elif', 'else', 'except', 'finally', 'for', 'from', 'global', 'if', 'import', 'in', 'is', 'lambda', 'nonlocal', 'not', 'or', 'pass', 'raise', 'return', 'try', 'while', 'with', 'yield']"
   ]
  },
  {
   "cell_type": "markdown",
   "metadata": {},
   "source": [
    "¿Qué se puede poner dentro de una variable?\n",
    "\n",
    "Cualquier cosa.\n",
    "\n",
    "Se puede utilizar una variable para almacenar cualquier tipo de los valores que ya se han mencionado, y muchos mas de los cuales aun no se han explicado.\n",
    "\n",
    "El valor de la variable en lo que se ha puesto dentro de ella. Puede variar tanto como se necesite o requiera. El valor puede ser entero, después flotante, y eventualmente ser una cadena.\n",
    "\n",
    "Hablemos de dos cosas importantes - como son creadas las variables, y como poner valores dentro de ellas (o mejor dicho, como dar o pasarles valores).\n",
    "\n",
    "Una variable se crea cuando se le asigna un valor. A diferencia de otros lenguajes de programación, no es necesario declararla.\n",
    "\n",
    "Si se le asigna cualquier valor a una variable no existente, la variable será automáticamente creada. No se necesita hacer algo más.\n",
    "\n",
    "La creación (o su sintaxis) es muy simple: solo utiliza el nombre de la variable deseada, después el signo de igual (=) y el valor que se desea colocar dentro de la variable.\n",
    "\n"
   ]
  },
  {
   "cell_type": "code",
   "execution_count": 62,
   "metadata": {},
   "outputs": [
    {
     "name": "stdout",
     "output_type": "stream",
     "text": [
      "1\n"
     ]
    }
   ],
   "source": [
    "var = 1\n",
    "print(var) #imprime el valor asignado a la variable en la consola. "
   ]
  },
  {
   "cell_type": "code",
   "execution_count": 7,
   "metadata": {},
   "outputs": [
    {
     "name": "stdout",
     "output_type": "stream",
     "text": [
      "1 1000.0 John Doe\n"
     ]
    }
   ],
   "source": [
    "var = 1\n",
    "balance_cuenta = 1000.0\n",
    "nombreCliente = 'John Doe'\n",
    "print(var, balance_cuenta, nombreCliente)"
   ]
  },
  {
   "cell_type": "code",
   "execution_count": 64,
   "metadata": {},
   "outputs": [
    {
     "ename": "NameError",
     "evalue": "name 'Var' is not defined",
     "output_type": "error",
     "traceback": [
      "\u001b[1;31m---------------------------------------------------------------------------\u001b[0m",
      "\u001b[1;31mNameError\u001b[0m                                 Traceback (most recent call last)",
      "\u001b[1;32m~\\AppData\\Local\\Temp/ipykernel_2356/2476709727.py\u001b[0m in \u001b[0;36m<module>\u001b[1;34m\u001b[0m\n\u001b[0;32m      1\u001b[0m \u001b[0mvar\u001b[0m \u001b[1;33m=\u001b[0m \u001b[1;36m1\u001b[0m\u001b[1;33m\u001b[0m\u001b[1;33m\u001b[0m\u001b[0m\n\u001b[1;32m----> 2\u001b[1;33m \u001b[0mprint\u001b[0m\u001b[1;33m(\u001b[0m\u001b[0mVar\u001b[0m\u001b[1;33m)\u001b[0m \u001b[1;31m#no se puede utilizar una variable que no haya sido creada\u001b[0m\u001b[1;33m\u001b[0m\u001b[1;33m\u001b[0m\u001b[0m\n\u001b[0m",
      "\u001b[1;31mNameError\u001b[0m: name 'Var' is not defined"
     ]
    }
   ],
   "source": [
    "var = 1\n",
    "print(Var) #no se puede utilizar una variable que no haya sido creada"
   ]
  },
  {
   "cell_type": "markdown",
   "metadata": {},
   "source": [
    "Se puede utilizar print() para combinar texto con variables utilizando el operador + para mostrar cadenas con variables, por ejemplo:\n",
    "\n"
   ]
  },
  {
   "cell_type": "code",
   "execution_count": null,
   "metadata": {},
   "outputs": [],
   "source": [
    "var = \"3.7.1\"\n",
    "print(\"Versión de Python: \" + var)\n"
   ]
  },
  {
   "cell_type": "markdown",
   "metadata": {},
   "source": [
    "¿Cómo se le asigna un valor nuevo a una variable que ya ha sido creada? De la misma manera. Solo se necesita el signo de igual.\n",
    "El signo de igual (=) es de hecho un operador de asignación. Python no trata el signo '=' como un \"igual a\", si no más bien como un \"asigna un valor\". "
   ]
  },
  {
   "cell_type": "code",
   "execution_count": null,
   "metadata": {},
   "outputs": [
    {
     "name": "stdout",
     "output_type": "stream",
     "text": [
      "1\n",
      "2\n",
      "500\n",
      "hola mundo\n"
     ]
    }
   ],
   "source": [
    "var = 1\n",
    "print(var)\n",
    "var = var + 1\n",
    "print(var)\n",
    "\n",
    "var = 100\n",
    "var = 200 + 300 #en efecto, una variable puede ser actualizada.\n",
    "print(var)\n",
    "var = \"hola mundo\"\n",
    "print(var)\n",
    "\n",
    "juan = 3\n",
    "maria = 5\n",
    "adan = 6\n",
    "totalManzanas = juan + maria + adan #a una variable se le pueden asignar otras variables\n",
    "print(totalManzanas)\n"
   ]
  },
  {
   "cell_type": "code",
   "execution_count": 1,
   "metadata": {},
   "outputs": [
    {
     "name": "stdout",
     "output_type": "stream",
     "text": [
      "8 10 5\n"
     ]
    }
   ],
   "source": [
    "x, y, z = 5, 10, 8 #se pueden crear varias variables en una sola linea. \n",
    "x, y, z = z, y, x\n",
    "\n",
    "print(x,y,z)\n"
   ]
  },
  {
   "cell_type": "code",
   "execution_count": 4,
   "metadata": {},
   "outputs": [
    {
     "name": "stdout",
     "output_type": "stream",
     "text": [
      "1*1*1\n"
     ]
    }
   ],
   "source": [
    "x = y = z = 1\n",
    "print(x,y,z, sep=\"*\")"
   ]
  },
  {
   "cell_type": "code",
   "execution_count": 9,
   "metadata": {},
   "outputs": [
    {
     "name": "stdout",
     "output_type": "stream",
     "text": [
      "7.38  millas son  19.72  kilómetros \n",
      "12.25  kilómetros son  4.58  millas \n"
     ]
    }
   ],
   "source": [
    "kilometros = 12.25\n",
    "millas = 7.38\n",
    "\n",
    "millas_a_kilometros = kilometros*1.61\n",
    "kilometros_a_millas = millas*(1/1.61)\n",
    "\n",
    "print(millas, \" millas son \", round(millas_a_kilometros, 2), \" kilómetros \")     #dentro de print() hay otra función: round()\n",
    "print(kilometros, \" kilómetros son \", round(kilometros_a_millas, 2), \" millas \")"
   ]
  },
  {
   "cell_type": "markdown",
   "metadata": {},
   "source": [
    "***operadores abreviados***"
   ]
  },
  {
   "cell_type": "code",
   "execution_count": null,
   "metadata": {
    "vscode": {
     "languageId": "bat"
    }
   },
   "outputs": [],
   "source": [
    "i = i + 2 * j ⇒ i += 2 * j\n",
    "\n",
    "var = var / 2 ⇒ var /= 2\n",
    "\n",
    "rem = rem % 10 ⇒ rem %= 10\n",
    "\n",
    "j = j - (i + var + rem) ⇒ j -= (i + var + rem)\n",
    "\n",
    "x = x ** 2 ⇒ x **= 2"
   ]
  },
  {
   "cell_type": "markdown",
   "metadata": {},
   "source": [
    "**La función input()**\n",
    "\n",
    "La función input() es capaz de leer datos que fueron introducidos por el usuario y pasar esos datos al programa en ejecución.\n",
    "\n",
    "- El programa solicita al usuario que inserte algún dato desde la consola (seguramente utilizando el teclado, aunque también es posible introducir datos utilizando la voz o alguna imagen).\n",
    "- La función input() es invocada sin argumentos (es la manera mas sencilla de utilizar la función); la función pondrá la consola en modo de entrada; aparecerá un cursor que parpadea, y podrás introducir datos con el teclado, al terminar presiona la tecla Enter; todos los datos introducidos serán enviados al programa a través del resultado de la función.\n",
    "* Nota: el resultado debe ser asignado a una variable; esto es crucial, si no se hace los datos introducidos se perderán.\n",
    "- Después se utiliza la función print() para mostrar los datos que se obtuvieron, con algunas observaciones adicionales."
   ]
  },
  {
   "cell_type": "code",
   "execution_count": null,
   "metadata": {},
   "outputs": [
    {
     "name": "stdout",
     "output_type": "stream",
     "text": [
      "Dime algo...\n",
      "Mmm... 5 ...¿en serio?\n"
     ]
    }
   ],
   "source": [
    "print(\"Dime algo...\")\n",
    "algo = input()\n",
    "print(\"Mmm...\", algo, \"...¿en serio?\")"
   ]
  },
  {
   "cell_type": "markdown",
   "metadata": {},
   "source": [
    "La función input() puede hacer algo más: puede mostrar un mensaje al usuario sin la ayuda de la función print(). El mensaje será mostrado en consola antes de que el usuario tenga oportunidad de escribir algo."
   ]
  },
  {
   "cell_type": "code",
   "execution_count": null,
   "metadata": {},
   "outputs": [
    {
     "name": "stdout",
     "output_type": "stream",
     "text": [
      "Mmm... hola ...¿En serio?\n"
     ]
    }
   ],
   "source": [
    "algo = input(\"Dime algo...\")  \n",
    "print(\"Mmm...\", algo, \"...¿En serio?\")"
   ]
  },
  {
   "cell_type": "markdown",
   "metadata": {},
   "source": [
    "el resultado de la función input() es una cadena.\n",
    "\n",
    "Una cadena que contiene todos los caracteres que el usuario introduce desde el teclado. No es un entero ni un flotante.\n",
    "\n",
    "Esto significa que no se debe utilizar como un argumento para operaciones matemáticas, por ejemplo, no se pueden utilizar estos datos para elevarlos al cuadrado, para dividirlos entre algo o por algo.\n"
   ]
  },
  {
   "cell_type": "code",
   "execution_count": null,
   "metadata": {},
   "outputs": [
    {
     "ename": "TypeError",
     "evalue": "unsupported operand type(s) for ** or pow(): 'str' and 'float'",
     "output_type": "error",
     "traceback": [
      "\u001b[1;31m---------------------------------------------------------------------------\u001b[0m",
      "\u001b[1;31mTypeError\u001b[0m                                 Traceback (most recent call last)",
      "\u001b[1;32m~\\AppData\\Local\\Temp/ipykernel_2356/3868920699.py\u001b[0m in \u001b[0;36m<module>\u001b[1;34m\u001b[0m\n\u001b[0;32m      1\u001b[0m \u001b[0mcualquierNumero\u001b[0m \u001b[1;33m=\u001b[0m \u001b[0minput\u001b[0m\u001b[1;33m(\u001b[0m\u001b[1;34m\"Inserta un número: \"\u001b[0m\u001b[1;33m)\u001b[0m\u001b[1;33m\u001b[0m\u001b[1;33m\u001b[0m\u001b[0m\n\u001b[1;32m----> 2\u001b[1;33m \u001b[0malgo\u001b[0m \u001b[1;33m=\u001b[0m \u001b[0mcualquierNumero\u001b[0m \u001b[1;33m**\u001b[0m \u001b[1;36m2.0\u001b[0m\u001b[1;33m\u001b[0m\u001b[1;33m\u001b[0m\u001b[0m\n\u001b[0m\u001b[0;32m      3\u001b[0m \u001b[0mprint\u001b[0m\u001b[1;33m(\u001b[0m\u001b[0mcualquierNumero\u001b[0m\u001b[1;33m,\u001b[0m \u001b[1;34m\"al cuadrado es\"\u001b[0m\u001b[1;33m,\u001b[0m \u001b[0malgo\u001b[0m\u001b[1;33m)\u001b[0m\u001b[1;33m\u001b[0m\u001b[1;33m\u001b[0m\u001b[0m\n",
      "\u001b[1;31mTypeError\u001b[0m: unsupported operand type(s) for ** or pow(): 'str' and 'float'"
     ]
    }
   ],
   "source": [
    "cualquierNumero = input(\"Inserta un número: \")\n",
    "algo = cualquierNumero ** 2.0\n",
    "print(cualquierNumero, \"al cuadrado es\", algo)\n"
   ]
  },
  {
   "cell_type": "markdown",
   "metadata": {},
   "source": [
    "**Conversión de datos o casting**\n",
    "\n",
    "Python ofrece dos simples funciones para especificar un tipo de dato y resolver este problema, aquí están: int() y float().\n",
    "\n",
    "Sus nombres indican cual es su función:\n",
    "\n",
    "La función int() toma un argumento (por ejemplo, una cadena: int(string)) e intenta convertirlo a un valor entero; si llegase a fallar, el programa entero fallará también (existe una manera de solucionar esto, se explicará mas adelante).\n",
    "La función float() toma un argumento (por ejemplo, una cadena: float(string)) e intenta convertirlo a flotante (el resto es lo mismo).\n",
    "\n",
    "Esto es muy simple y muy efectivo. Sin embargo, estas funciones se pueden invocar directamente pasando el resultado de la función input() directamente. No hay necesidad de emplear variables como almacenamiento intermedio."
   ]
  },
  {
   "cell_type": "code",
   "execution_count": null,
   "metadata": {},
   "outputs": [
    {
     "name": "stdout",
     "output_type": "stream",
     "text": [
      "34.0 al cuadrado es 1156.0\n"
     ]
    }
   ],
   "source": [
    "algo = float(input(\"Inserta un número: \"))\n",
    "resultado = algo ** 2.0\n",
    "print(algo, \"al cuadrado es\", resultado)"
   ]
  },
  {
   "cell_type": "code",
   "execution_count": null,
   "metadata": {},
   "outputs": [
    {
     "name": "stdout",
     "output_type": "stream",
     "text": [
      "La longitud de la hipotenusa es:  3.605551275463989\n",
      "La longitud de la hipotenusa es:  4.242640687119285\n"
     ]
    }
   ],
   "source": [
    "cateto_a = float(input(\"Inserta la longitud del primer cateto: \"))\n",
    "cateto_b = float(input(\"Inserta la longitud del segundo cateto \"))\n",
    "hipo = (cateto_a**2 + cateto_b**2) ** .5\n",
    "print(\"La longitud de la hipotenusa es: \", hipo)\n",
    "\n",
    "#Debido a que la función print() acepta una expresión como argumento, se puede quitar la variable del código.Como se muestra en el siguiente código:\n",
    "\n",
    "cateto_a = float(input(\"Inserta la longitud del primer cateto: \"))\n",
    "cateto_b = float(input(\"Inserta la longitud del segundo cateto \"))\n",
    "print(\"La longitud de la hipotenusa es: \", (cateto_a**2 + cateto_b**2) ** .5)"
   ]
  },
  {
   "cell_type": "code",
   "execution_count": 68,
   "metadata": {},
   "outputs": [
    {
     "name": "stdout",
     "output_type": "stream",
     "text": [
      "y = 0.09901951266867294\n"
     ]
    }
   ],
   "source": [
    "x = float(input(\"Ingresa el valor para x: \"))\n",
    "y = 1/(x+(1/(x+1/(x+1/x))))\n",
    "\n",
    "# coloca tu código aquí\n",
    "\n",
    "print(\"y =\", y)"
   ]
  },
  {
   "cell_type": "markdown",
   "metadata": {},
   "source": [
    "**Operadores de cadenas**"
   ]
  },
  {
   "cell_type": "code",
   "execution_count": null,
   "metadata": {},
   "outputs": [
    {
     "name": "stdout",
     "output_type": "stream",
     "text": [
      "Gracias.\n",
      "\n",
      "Tu nombre es Jonathan Blandón.\n"
     ]
    }
   ],
   "source": [
    "\n",
    "#concatenación (+)\n",
    "nom = input(\"¿Me puedes dar tu nombre por favor? \")\n",
    "ape = input(\"¿Me puedes dar tu apellido por favor? \")\n",
    "print(\"Gracias.\")\n",
    "print(\"\\nTu nombre es \" + nom + \" \" + ape + \".\") #Simplemente concatena (junta) dos cadenas en una. Además, puede ser utilizado más de una vez en una misma expresión."
   ]
  },
  {
   "cell_type": "code",
   "execution_count": null,
   "metadata": {
    "vscode": {
     "languageId": "bat"
    }
   },
   "outputs": [],
   "source": [
    "#replicación (*)\n",
    "\n",
    "\"James\" * 3 nos da \"JamesJamesJames\".\n",
    "3 * \"an\" nos da \"ananan\".\n",
    "5 * \"2\" (o \"2\" * 5) da como resultado \"22222\" (no 10)."
   ]
  },
  {
   "cell_type": "code",
   "execution_count": 66,
   "metadata": {},
   "outputs": [
    {
     "name": "stdout",
     "output_type": "stream",
     "text": [
      "jamesjamesjames\n"
     ]
    }
   ],
   "source": [
    "print('james'*3)"
   ]
  },
  {
   "cell_type": "markdown",
   "metadata": {},
   "source": [
    "***Conversión de tipos de datos: str()***\n",
    "\n",
    "También se puede convertir un numero a una cadena, lo cual es más fácil y rápido, esta operación es posible hacerla siempre. Una función capaz de hacer esto se llama str():\n",
    "\n",
    "str(número)"
   ]
  },
  {
   "cell_type": "code",
   "execution_count": 67,
   "metadata": {},
   "outputs": [
    {
     "name": "stdout",
     "output_type": "stream",
     "text": [
      "La longitud de la hipotenusa es: 5.0\n"
     ]
    }
   ],
   "source": [
    "cateto_a = float(input(\"Ingresa la longitud del primer cateto: \"))\n",
    "cateto_b = float(input(\"Ingresa la longitud del segundo cateto: \"))\n",
    "print(\"La longitud de la hipotenusa es: \" + str((cateto_a**2 + cateto_b**2) ** .5)) #ahora se puede utilizar el signo + como un operador de cadena. \n",
    "#= print(\"La longitud de la hipotenusa es: \", (cateto_a**2 + cateto_b**2) ** .5)\n"
   ]
  }
 ],
 "metadata": {
  "interpreter": {
   "hash": "5eba2f6daac758e0c4eb74cbbf3fd787eaf14bd08a71327f2f2275e3d00aa03b"
  },
  "kernelspec": {
   "display_name": "Python 3.9.7 ('base')",
   "language": "python",
   "name": "python3"
  },
  "language_info": {
   "codemirror_mode": {
    "name": "ipython",
    "version": 3
   },
   "file_extension": ".py",
   "mimetype": "text/x-python",
   "name": "python",
   "nbconvert_exporter": "python",
   "pygments_lexer": "ipython3",
   "version": "3.9.7"
  },
  "orig_nbformat": 4
 },
 "nbformat": 4,
 "nbformat_minor": 2
}
