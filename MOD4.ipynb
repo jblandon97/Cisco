{
 "cells": [
  {
   "cell_type": "markdown",
   "metadata": {},
   "source": [
    "**Funciones**"
   ]
  },
  {
   "cell_type": "markdown",
   "metadata": {},
   "source": [
    "Una función es un bloque de código que realiza una tarea especifica cuando la función es llamada (invocada). Las funciones son útiles para hacer que el código sea reutilizable, que este mejor organizado y más legible. Las funciones contienen parámetros y pueden regresar valores."
   ]
  },
  {
   "cell_type": "markdown",
   "metadata": {},
   "source": [
    "Existen al menos cuatro tipos de funciones básicas en Python:\n",
    "\n",
    "- Funciones integradas las cuales son partes importantes de Python (como lo es la función print()). Puedes ver una lista completa de las funciones integradas de Python en la siguiente liga: https://docs.python.org/3/library/functions.html.\n",
    "- También están las que se encuentran en módulos pre-instalados (se hablará acerca de ellas en el Módulo 5).\n",
    "- Funciones definidas por el usuario las cuales son escritas por los programadores para los programadores, puedes escribir tus propias funciones y utilizarlas libremente en tu código.\n",
    "Las funciones lambda (aprenderás acerca de ellas en el Módulo 6)."
   ]
  },
  {
   "cell_type": "code",
   "execution_count": null,
   "metadata": {
    "vscode": {
     "languageId": "bat"
    }
   },
   "outputs": [],
   "source": [
    "def nombreFuncion():\n",
    "    cuerpoFuncion"
   ]
  },
  {
   "cell_type": "markdown",
   "metadata": {},
   "source": [
    "- Siempre comienza con la palabra reservada def (que significa definir)\n",
    "- Después de def va el nombre de la función (las reglas para darle nombre a las funciones son las mismas que para las variables).\n",
    "- Después del nombre de la función, hay un espacio para un par de paréntesis (ahorita no contienen algo, pero eso cambiará pronto).\n",
    "- La línea debe de terminar con dos puntos.\n",
    "- La línea inmediatamente después de def marca el comienzo del cuerpo de la función - donde varias o (al menos una). instrucción anidada, será ejecutada cada vez que la función sea invocada; nota: la función termina donde el anidamiento termina, se debe ser cauteloso."
   ]
  },
  {
   "cell_type": "code",
   "execution_count": null,
   "metadata": {},
   "outputs": [],
   "source": [
    "\n",
    "print(\"Ingresa un valor: \")\n",
    "a = int(input())\n",
    "\n",
    "print(\"Ingresa un valor: \")\n",
    "b = int(input())\n",
    "\n",
    "print(\"Ingresa un valor: \")\n",
    "c = int(input())\n",
    "\n",
    "\"\"\"\n",
    "'print(\"Ingresa un valor: \")' se repite tres veces !. \n",
    "\n",
    "\"\"\"\n",
    "  \n"
   ]
  },
  {
   "cell_type": "markdown",
   "metadata": {},
   "source": [
    "¿Es posible separar ese código repetido, darle un nombre y hacerlo reutilizable? Significaría que el cambio hecho en un solo lugar será propagado a todos los lugares donde se utilice."
   ]
  },
  {
   "cell_type": "code",
   "execution_count": null,
   "metadata": {},
   "outputs": [],
   "source": [
    "def message():\n",
    "    print(\"Ingresa un valor:\")\n",
    "\n",
    "\n",
    "a = int(input())\n",
    "b = int(input())\n",
    "c = int(input())"
   ]
  },
  {
   "cell_type": "markdown",
   "metadata": {},
   "source": [
    "El código ahora contiene la definición de la función, pero no se esta utilizando la función, no se esta invocando en el código. Esto significa que Python lee la definición de la función y la recuerda, pero no la ejecuta sin permiso.\n",
    "\n",
    "Se ha modificado el código, se ha insertado la invocación de la función entre las declaraciones:"
   ]
  },
  {
   "cell_type": "code",
   "execution_count": 7,
   "metadata": {},
   "outputs": [
    {
     "name": "stdout",
     "output_type": "stream",
     "text": [
      "Ingresa un valor:\n",
      "Ingresa un valor:\n",
      "Ingresa un valor:\n"
     ]
    }
   ],
   "source": [
    "def message():\n",
    "    print(\"Ingresa un valor:\")\n",
    "\n",
    "message()\n",
    "a = int(input(message()))\n",
    "message()\n",
    "b = int(input())\n",
    "message()\n",
    "c = int(input()) "
   ]
  },
  {
   "cell_type": "markdown",
   "metadata": {},
   "source": [
    "¿Que ocurrió?:\n",
    "\n",
    "- Cuando se invoca una función, Python recuerda el lugar donde esto ocurre y salta hacia dentro de la función invocada.\n",
    "- El cuerpo de la función es entonces ejecutado.\n",
    "- Al llegar al final de la función, Python regresa al lugar inmediato después de donde ocurrió la invocación."
   ]
  },
  {
   "cell_type": "markdown",
   "metadata": {},
   "source": [
    "No se debe invocar una función antes de que se haya definido. Python lee el código de arriba hacia abajo. No va a adelantarse en el código para determinar si la función invocada esta definida mas adelante, el lugar correcto para definirla es antes de ser invocada."
   ]
  },
  {
   "cell_type": "code",
   "execution_count": 17,
   "metadata": {},
   "outputs": [
    {
     "name": "stdout",
     "output_type": "stream",
     "text": [
      "Se comienza aquí.\n"
     ]
    },
    {
     "ename": "TypeError",
     "evalue": "'int' object is not callable",
     "output_type": "error",
     "traceback": [
      "\u001b[1;31m---------------------------------------------------------------------------\u001b[0m",
      "\u001b[1;31mTypeError\u001b[0m                                 Traceback (most recent call last)",
      "\u001b[1;32m~\\AppData\\Local\\Temp/ipykernel_6972/2508154437.py\u001b[0m in \u001b[0;36m<module>\u001b[1;34m\u001b[0m\n\u001b[0;32m      1\u001b[0m \u001b[0mprint\u001b[0m\u001b[1;33m(\u001b[0m\u001b[1;34m\"Se comienza aquí.\"\u001b[0m\u001b[1;33m)\u001b[0m\u001b[1;33m\u001b[0m\u001b[1;33m\u001b[0m\u001b[0m\n\u001b[1;32m----> 2\u001b[1;33m \u001b[0mmensaje\u001b[0m\u001b[1;33m(\u001b[0m\u001b[1;33m)\u001b[0m\u001b[1;33m\u001b[0m\u001b[1;33m\u001b[0m\u001b[0m\n\u001b[0m\u001b[0;32m      3\u001b[0m \u001b[0mprint\u001b[0m\u001b[1;33m(\u001b[0m\u001b[1;34m\"Se termina aquí.\"\u001b[0m\u001b[1;33m)\u001b[0m\u001b[1;33m\u001b[0m\u001b[1;33m\u001b[0m\u001b[0m\n\u001b[0;32m      4\u001b[0m \u001b[1;33m\u001b[0m\u001b[0m\n\u001b[0;32m      5\u001b[0m \u001b[1;32mdef\u001b[0m \u001b[0mmensaje\u001b[0m\u001b[1;33m(\u001b[0m\u001b[1;33m)\u001b[0m\u001b[1;33m:\u001b[0m\u001b[1;33m\u001b[0m\u001b[1;33m\u001b[0m\u001b[0m\n",
      "\u001b[1;31mTypeError\u001b[0m: 'int' object is not callable"
     ]
    }
   ],
   "source": [
    "print(\"Se comienza aquí.\")\n",
    "mensaje()\n",
    "print(\"Se termina aquí.\")\n",
    "\n",
    "def mensaje():\n",
    "    print(\"Ingresa un valor: \")\n",
    "\n"
   ]
  },
  {
   "cell_type": "markdown",
   "metadata": {},
   "source": [
    "Otra consideración a tener en cuenta: \n",
    "\n",
    "una función y una variable no pueden compartir el mismo nombre. El siguiente fragmento de código es erróneo:\n"
   ]
  },
  {
   "cell_type": "code",
   "execution_count": 1,
   "metadata": {},
   "outputs": [
    {
     "name": "stdout",
     "output_type": "stream",
     "text": [
      "Ingresa un valor: \n"
     ]
    }
   ],
   "source": [
    "def mensaje():\n",
    "    print(\"Ingresa un valor: \")\n",
    "\n",
    "mensaje = 1\n",
    "\n",
    "mensaje()"
   ]
  },
  {
   "cell_type": "markdown",
   "metadata": {},
   "source": [
    "El asignar un valor al nombre \"mensaje\" causa que Python olvide su rol anterior. La función con el nombre de mensaje ya no estará disponible."
   ]
  },
  {
   "cell_type": "code",
   "execution_count": 9,
   "metadata": {},
   "outputs": [
    {
     "name": "stdout",
     "output_type": "stream",
     "text": [
      "Hola, carlos maricon\n"
     ]
    }
   ],
   "source": [
    "#También es posible definir funciones con argumentos, como la siguiente \n",
    "#que contiene un solo parámetro:\n",
    "\n",
    "def hola(nombre):    # definiendo una función\n",
    "    print(\"Hola,\", nombre)    # cuerpo de la función\n",
    "\n",
    "\n",
    "nombre = input(\"Ingresa tu nombre: \")\n",
    "\n",
    "hola(nombre)    # invocación de la función"
   ]
  },
  {
   "cell_type": "code",
   "execution_count": 18,
   "metadata": {},
   "outputs": [
    {
     "ename": "TypeError",
     "evalue": "hola() takes 0 positional arguments but 1 was given",
     "output_type": "error",
     "traceback": [
      "\u001b[1;31m---------------------------------------------------------------------------\u001b[0m",
      "\u001b[1;31mTypeError\u001b[0m                                 Traceback (most recent call last)",
      "\u001b[1;32m~\\AppData\\Local\\Temp/ipykernel_6972/3964252001.py\u001b[0m in \u001b[0;36m<module>\u001b[1;34m\u001b[0m\n\u001b[0;32m      2\u001b[0m     \u001b[0mprint\u001b[0m\u001b[1;33m(\u001b[0m\u001b[1;34m\"hola\"\u001b[0m\u001b[1;33m)\u001b[0m\u001b[1;33m\u001b[0m\u001b[1;33m\u001b[0m\u001b[0m\n\u001b[0;32m      3\u001b[0m \u001b[1;33m\u001b[0m\u001b[0m\n\u001b[1;32m----> 4\u001b[1;33m \u001b[0mhola\u001b[0m\u001b[1;33m(\u001b[0m\u001b[1;36m5\u001b[0m\u001b[1;33m)\u001b[0m\u001b[1;33m\u001b[0m\u001b[1;33m\u001b[0m\u001b[0m\n\u001b[0m",
      "\u001b[1;31mTypeError\u001b[0m: hola() takes 0 positional arguments but 1 was given"
     ]
    }
   ],
   "source": [
    "def hola():\n",
    "    print(\"hola\")\n",
    "\n",
    "hola(5) \n",
    "#este código generara un TypeError: \n",
    "#la función hola() toma 0 argumentos !. "
   ]
  },
  {
   "cell_type": "markdown",
   "metadata": {},
   "source": [
    "***Funciones con parámetros***"
   ]
  },
  {
   "cell_type": "code",
   "execution_count": 10,
   "metadata": {},
   "outputs": [],
   "source": [
    "def funcion(parametro): \n",
    "    pass\n",
    "\n",
    "argumento ='valor del argumento'\n",
    "funcion(argumento) #Se debe proveer el mismo numero de argumentos como haya parámetros definidos.\n",
    "\n"
   ]
  },
  {
   "cell_type": "markdown",
   "metadata": {},
   "source": [
    "- Los parámetros solo existen dentro de las funciones (este es su entorno natural).\n",
    "- Los argumentos existen fuera de las funciones, y son los que pasan los valores a los parámetros correspondientes en el momento en que la función se manda llamar o se invoca, especificando el argumento correspondiente.."
   ]
  },
  {
   "cell_type": "code",
   "execution_count": 23,
   "metadata": {},
   "outputs": [
    {
     "ename": "TypeError",
     "evalue": "mensaje() missing 1 required positional argument: 'numero'",
     "output_type": "error",
     "traceback": [
      "\u001b[1;31m---------------------------------------------------------------------------\u001b[0m",
      "\u001b[1;31mTypeError\u001b[0m                                 Traceback (most recent call last)",
      "\u001b[1;32m~\\AppData\\Local\\Temp/ipykernel_6972/3835938135.py\u001b[0m in \u001b[0;36m<module>\u001b[1;34m\u001b[0m\n\u001b[0;32m      2\u001b[0m     \u001b[0mprint\u001b[0m\u001b[1;33m(\u001b[0m\u001b[1;34m\"Ingresa un número:\"\u001b[0m\u001b[1;33m,\u001b[0m \u001b[0mnumero\u001b[0m\u001b[1;33m)\u001b[0m\u001b[1;33m\u001b[0m\u001b[1;33m\u001b[0m\u001b[0m\n\u001b[0;32m      3\u001b[0m \u001b[1;33m\u001b[0m\u001b[0m\n\u001b[1;32m----> 4\u001b[1;33m \u001b[0mmensaje\u001b[0m\u001b[1;33m(\u001b[0m\u001b[1;33m)\u001b[0m\u001b[1;33m\u001b[0m\u001b[1;33m\u001b[0m\u001b[0m\n\u001b[0m",
      "\u001b[1;31mTypeError\u001b[0m: mensaje() missing 1 required positional argument: 'numero'"
     ]
    }
   ],
   "source": [
    "def mensaje(numero):\n",
    "    print(\"Ingresa un número:\", numero)\n",
    "\n",
    "mensaje()"
   ]
  },
  {
   "cell_type": "markdown",
   "metadata": {},
   "source": [
    "Claro que es posible tener una variable con el mismo nombre del parámetro de la función:"
   ]
  },
  {
   "cell_type": "code",
   "execution_count": 24,
   "metadata": {},
   "outputs": [
    {
     "name": "stdout",
     "output_type": "stream",
     "text": [
      "Ingresa un número: 1\n",
      "1234\n"
     ]
    }
   ],
   "source": [
    "def mensaje(numero):\n",
    "    print(\"Ingresa un número:\", numero)\n",
    "\n",
    "numero = 1234\n",
    "mensaje(1)\n",
    "print(numero)"
   ]
  },
  {
   "cell_type": "markdown",
   "metadata": {},
   "source": [
    "Una función puede tener tantos parámetros como se desee, pero entre más parámetros, es más difícil memorizar su rol y propósito."
   ]
  },
  {
   "cell_type": "code",
   "execution_count": 25,
   "metadata": {},
   "outputs": [
    {
     "name": "stdout",
     "output_type": "stream",
     "text": [
      "Ingresa teléfono número 11\n",
      "Ingresa precio número 5\n",
      "Ingresa número número número\n"
     ]
    }
   ],
   "source": [
    "def mensaje(que, numero):\n",
    "    print(\"Ingresa\", que, \"número\", numero)\n",
    "\n",
    "mensaje(\"teléfono\", 11)\n",
    "mensaje(\"precio\", 5)\n",
    "mensaje(\"número\", \"número\")"
   ]
  },
  {
   "cell_type": "markdown",
   "metadata": {},
   "source": [
    "***Paso de parámetros posicionales.***\n",
    "\n",
    "En el siguiente ejemplo el argumento \"Skywalker\" será asignado al parametro primerNombre. El argumento \"Luke\" será asignado al parametro segundoNombre:"
   ]
  },
  {
   "cell_type": "code",
   "execution_count": 1,
   "metadata": {},
   "outputs": [
    {
     "name": "stdout",
     "output_type": "stream",
     "text": [
      "Hola, mi nombre es Skywalker Luke\n",
      "Hola, mi nombre es Quick Jesse\n",
      "Hola, mi nombre es Kent Clark\n"
     ]
    }
   ],
   "source": [
    "def presentar(primerNombre, segundoNombre):\n",
    "    print(\"Hola, mi nombre es\", primerNombre, segundoNombre)\n",
    "\n",
    "presentar(\"Skywalker\" ,\"Luke\" )  \n",
    "presentar(\"Quick\", \"Jesse\")\n",
    "presentar(\"Kent\", \"Clark\")"
   ]
  },
  {
   "cell_type": "markdown",
   "metadata": {},
   "source": [
    "***Paso de argumentos con palabras clave.***\n"
   ]
  },
  {
   "cell_type": "code",
   "execution_count": 2,
   "metadata": {},
   "outputs": [
    {
     "name": "stdout",
     "output_type": "stream",
     "text": [
      "Hola, mi nombre es James Bond\n",
      "Hola, mi nombre es Luke Skywalker\n"
     ]
    }
   ],
   "source": [
    "def presentar (primerNombre, segundoNombre):\n",
    "    print(\"Hola, mi nombre es\", primerNombre, segundoNombre)\n",
    "\n",
    "presentar(primerNombre = \"James\", segundoNombre = \"Bond\") \n",
    "presentar(segundoNombre = \"Skywalker\", primerNombre = \"Luke\")"
   ]
  },
  {
   "cell_type": "code",
   "execution_count": 109,
   "metadata": {},
   "outputs": [
    {
     "ename": "TypeError",
     "evalue": "presentar() got an unexpected keyword argument 'Apellido'",
     "output_type": "error",
     "traceback": [
      "\u001b[1;31m---------------------------------------------------------------------------\u001b[0m",
      "\u001b[1;31mTypeError\u001b[0m                                 Traceback (most recent call last)",
      "\u001b[1;32m~\\AppData\\Local\\Temp/ipykernel_12804/3311534346.py\u001b[0m in \u001b[0;36m<module>\u001b[1;34m\u001b[0m\n\u001b[1;32m----> 1\u001b[1;33m \u001b[0mpresentar\u001b[0m\u001b[1;33m(\u001b[0m\u001b[0mApellido\u001b[0m \u001b[1;33m=\u001b[0m \u001b[1;34m\"James\"\u001b[0m\u001b[1;33m,\u001b[0m \u001b[0msegundoNombre\u001b[0m \u001b[1;33m=\u001b[0m \u001b[1;34m\"Bond\"\u001b[0m\u001b[1;33m)\u001b[0m \u001b[1;31m#este código arrojará un error. No se puede utilizar una palabra clave diferente al parametro.\u001b[0m\u001b[1;33m\u001b[0m\u001b[1;33m\u001b[0m\u001b[0m\n\u001b[0m\u001b[0;32m      2\u001b[0m \u001b[0mpresentar\u001b[0m\u001b[1;33m(\u001b[0m\u001b[0msegundoNombre\u001b[0m \u001b[1;33m=\u001b[0m \u001b[1;34m\"Skywalker\"\u001b[0m\u001b[1;33m,\u001b[0m \u001b[0mprimerNombre\u001b[0m \u001b[1;33m=\u001b[0m \u001b[1;34m\"Luke\"\u001b[0m\u001b[1;33m)\u001b[0m\u001b[1;33m\u001b[0m\u001b[1;33m\u001b[0m\u001b[0m\n",
      "\u001b[1;31mTypeError\u001b[0m: presentar() got an unexpected keyword argument 'Apellido'"
     ]
    }
   ],
   "source": [
    "presentar(Apellido = \"James\", segundoNombre = \"Bond\") #este código arrojará un error. \n",
    "                                                      #No se puede utilizar una palabra clave diferente al parametro. \n",
    "\n",
    "presentar(segundoNombre = \"Skywalker\", primerNombre = \"Luke\")"
   ]
  },
  {
   "cell_type": "code",
   "execution_count": 1,
   "metadata": {},
   "outputs": [
    {
     "name": "stdout",
     "output_type": "stream",
     "text": [
      "1 + 2 + 3 = 6\n",
      "2 + 3.0 + 1 = 6.0\n"
     ]
    }
   ],
   "source": [
    "def suma(a:int, b:int, c:int) -> str:  #se puede indicar el tipo de dato que recibirá y retornará la función. No altera la función. \n",
    "    print(a, \"+\", b, \"+\", c, \"=\", a + b + c)\n",
    "\n",
    "suma(1,2,3) #Paso de argumentos posicionales\n",
    "suma(c = 1, a = 2, b = 3) #Paso de argumentos con palabras claves\n"
   ]
  },
  {
   "cell_type": "markdown",
   "metadata": {},
   "source": [
    "Combinar argumentos posicionales y de palabras clave. se deben colocar primero los argumentos posicionales y después los de palabras clave."
   ]
  },
  {
   "cell_type": "code",
   "execution_count": 14,
   "metadata": {},
   "outputs": [
    {
     "name": "stdout",
     "output_type": "stream",
     "text": [
      "3 + 2 + 1 = 6\n"
     ]
    },
    {
     "ename": "TypeError",
     "evalue": "suma() got multiple values for argument 'a'",
     "output_type": "error",
     "traceback": [
      "\u001b[1;31m---------------------------------------------------------------------------\u001b[0m",
      "\u001b[1;31mTypeError\u001b[0m                                 Traceback (most recent call last)",
      "\u001b[1;32m~\\AppData\\Local\\Temp/ipykernel_1336/3843915439.py\u001b[0m in \u001b[0;36m<module>\u001b[1;34m\u001b[0m\n\u001b[0;32m      1\u001b[0m \u001b[0msuma\u001b[0m\u001b[1;33m(\u001b[0m\u001b[1;36m3\u001b[0m\u001b[1;33m,\u001b[0m \u001b[0mc\u001b[0m \u001b[1;33m=\u001b[0m \u001b[1;36m1\u001b[0m\u001b[1;33m,\u001b[0m \u001b[0mb\u001b[0m \u001b[1;33m=\u001b[0m \u001b[1;36m2\u001b[0m\u001b[1;33m)\u001b[0m\u001b[1;33m\u001b[0m\u001b[1;33m\u001b[0m\u001b[0m\n\u001b[1;32m----> 2\u001b[1;33m \u001b[0msuma\u001b[0m\u001b[1;33m(\u001b[0m\u001b[1;36m3\u001b[0m\u001b[1;33m,\u001b[0m \u001b[0ma\u001b[0m \u001b[1;33m=\u001b[0m \u001b[1;36m1\u001b[0m\u001b[1;33m,\u001b[0m \u001b[0mb\u001b[0m \u001b[1;33m=\u001b[0m \u001b[1;36m2\u001b[0m\u001b[1;33m)\u001b[0m\u001b[1;33m\u001b[0m\u001b[1;33m\u001b[0m\u001b[0m\n\u001b[0m",
      "\u001b[1;31mTypeError\u001b[0m: suma() got multiple values for argument 'a'"
     ]
    }
   ],
   "source": [
    "suma(3, c = 1, b = 2) \n",
    "suma(3, a = 1, b = 2) #Esta línea de código generara un error. 'a' tiene más de un valor. \n",
    "                "
   ]
  },
  {
   "cell_type": "code",
   "execution_count": null,
   "metadata": {},
   "outputs": [],
   "source": [
    "def suma(a, b=2, c): #se deben colocar primero los argumentos posicionales y después los de palabras clave.\n",
    "    print(a + b + c)\n",
    "\n",
    "suma(a=1, c=3)\n"
   ]
  },
  {
   "cell_type": "markdown",
   "metadata": {},
   "source": [
    "Se le puede asignar un valor a uno o más parametros desde la función directamente, de tal manera que al invocarla solo sea estrictamente necesario pasar argumentos a los parametros cuyo valor no ha sido predefinido: "
   ]
  },
  {
   "cell_type": "code",
   "execution_count": 9,
   "metadata": {},
   "outputs": [
    {
     "name": "stdout",
     "output_type": "stream",
     "text": [
      "Hola, mi nombre es Juan Perez\n",
      "Hola, mi nombre es Juan González\n"
     ]
    }
   ],
   "source": [
    "def presentar(primerNombre, segundoNombre=\"González\"):  #Valores predefinidos\n",
    "    print(\"Hola, mi nombre es\", primerNombre, segundoNombre)\n",
    "    \n",
    "\n",
    "presentar('Juan')  #Se puede pasar solo un argumento, dado que el segundo ya esta predefinido. \n",
    "presentar('Juan','Perez')\n",
    "\n",
    "\n"
   ]
  },
  {
   "cell_type": "code",
   "execution_count": 10,
   "metadata": {},
   "outputs": [
    {
     "name": "stdout",
     "output_type": "stream",
     "text": [
      "Hola, mi nombre es  Juan González\n"
     ]
    }
   ],
   "source": [
    "def presentar(primerNombre=\"Juan\", segundoNombre=\"González\"): #Valores predefinidos\n",
    "    print(\"Hola, mi nombre es \", primerNombre, segundoNombre)\n",
    "\n",
    "presentar()\n",
    "\n",
    "#Se puede pasar cero argumentos, dado que los dos valores están predefinidos.  "
   ]
  },
  {
   "cell_type": "markdown",
   "metadata": {},
   "source": [
    "***Efectos y resultados: la instrucción return***"
   ]
  },
  {
   "cell_type": "markdown",
   "metadata": {},
   "source": [
    "Las funciones, al igual que las funciones matemáticas, pueden tener resultados. Para lograr que las funciones devuelvan un valor (pero no solo para ese propósito) se utiliza la instrucción return (regresar o retornar)."
   ]
  },
  {
   "cell_type": "markdown",
   "metadata": {},
   "source": [
    "Cuando es empleada sin ningún argumento, return provoca la terminación inmediata de la ejecución de la función, y un retorno instantáneo (de ahí el nombre) al punto de invocación:"
   ]
  },
  {
   "cell_type": "code",
   "execution_count": 15,
   "metadata": {},
   "outputs": [
    {
     "name": "stdout",
     "output_type": "stream",
     "text": [
      "Tres ...\n",
      "Dos ...\n",
      "Uno ...\n"
     ]
    }
   ],
   "source": [
    "\n",
    "#Cuando se emplea sin ningún argumento:\n",
    "\n",
    "\n",
    "def felizAñoNuevo(deseos = True):\n",
    "    print(\"Tres ...\")\n",
    "    print(\"Dos ...\")\n",
    "    print(\"Uno ...\")\n",
    "    if not deseos:\n",
    "        return \n",
    "    \n",
    "    print(\"¡Feliz año nuevo!\") \n",
    "\n",
    "\n",
    "felizAñoNuevo(False)"
   ]
  },
  {
   "cell_type": "markdown",
   "metadata": {},
   "source": [
    "¿Que ocurre si la utilizamos con una expresión? Dos cosas:\n",
    "\n",
    "- Provoca la terminación inmediata de la ejecución de la función (nada nuevo en comparación con la primer variante).\n",
    "- Además, la función evaluará el valor de la expresión y lo devolverá (de ahí el nombre una vez mas) como el resultado de la función."
   ]
  },
  {
   "cell_type": "code",
   "execution_count": 16,
   "metadata": {},
   "outputs": [
    {
     "name": "stdout",
     "output_type": "stream",
     "text": [
      "La funcion_aburrida ha devuelto su resultado. Es:  123\n"
     ]
    }
   ],
   "source": [
    "def funcion_aburrida():\n",
    "    return 123\n",
    "\n",
    "x = funcion_aburrida()\n",
    "\n",
    "print (\"La funcion_aburrida ha devuelto su resultado. Es: \", x) "
   ]
  },
  {
   "cell_type": "markdown",
   "metadata": {},
   "source": [
    "La instrucción return, enriquecida con la expresión , \"transporta\" el valor de la expresión al lugar donde se ha invocado la función. El resultado se puede usar libremente aquí, por ejemplo, para ser asignado a una variable que será impresa con print()\n",
    "\n",
    "También puede ignorarse por completo y perderse sin dejar rastro:\n",
    "\n"
   ]
  },
  {
   "cell_type": "code",
   "execution_count": 19,
   "metadata": {},
   "outputs": [
    {
     "name": "stdout",
     "output_type": "stream",
     "text": [
      "¡Esta lección es interesante!\n",
      "'Modo aburrimiento' ON.\n",
      "Esta lección es aburrida ...\n"
     ]
    }
   ],
   "source": [
    "def funcion_aburrida():\n",
    "   print(\"'Modo aburrimiento' ON.\")\n",
    "   return 123\n",
    "\n",
    "print(\"¡Esta lección es interesante!\")\n",
    "funcion_aburrida()\n",
    "print(\"Esta lección es aburrida ...\") "
   ]
  },
  {
   "cell_type": "code",
   "execution_count": 80,
   "metadata": {},
   "outputs": [
    {
     "name": "stdout",
     "output_type": "stream",
     "text": [
      "Mis deseos\n",
      "\n",
      "\n",
      "Mis Deseos\n",
      "¡Feliz Cumpleaños!\n"
     ]
    }
   ],
   "source": [
    "# Ejemplo 1\n",
    "def deseos():\n",
    "    print(\"Mis deseos\")\n",
    "    return \"¡Felíz Cumpleaños!\"\n",
    "\n",
    "deseos()    # salida: Mis deseos\n",
    "\n",
    "print('\\n')\n",
    "# Ejemplo 2\n",
    "def deseos():\n",
    "    print(\"Mis Deseos\")\n",
    "    return \"¡Feliz Cumpleaños!\"\n",
    "\n",
    "print(deseos())    # salidas: Mis Deseos\n",
    "                   #          ¡Feliz Cumpleaños!"
   ]
  },
  {
   "cell_type": "markdown",
   "metadata": {},
   "source": [
    "En conclusión:\n",
    "\n",
    "- Siempre se te permite ignorar el resultado de la función y estar satisfecho con el efecto de la función (si la función tiene alguno).\n",
    "- Si una función intenta devolver un resultado útil, debe contener la segunda variante de la instrucción return."
   ]
  },
  {
   "cell_type": "markdown",
   "metadata": {},
   "source": [
    "Si una función no devuelve un cierto valor utilizando una cláusula de expresión return, se asume que devuelve implícitamente None. ¿Qué es None? Es una palabra reservada de python y representa ningun valor. No debe participar en ninguna expresión. Solo hay dos tipos de circunstancias en las que None se puede usar de manera segura:\n",
    "\n",
    "- Cuando se le asigna a una variable (o se devuelve como el resultado de una función).\n",
    "- Cuando se compara con una variable para diagnosticar su estado interno.\n"
   ]
  },
  {
   "cell_type": "code",
   "execution_count": 20,
   "metadata": {},
   "outputs": [
    {
     "ename": "TypeError",
     "evalue": "unsupported operand type(s) for +: 'NoneType' and 'int'",
     "output_type": "error",
     "traceback": [
      "\u001b[1;31m---------------------------------------------------------------------------\u001b[0m",
      "\u001b[1;31mTypeError\u001b[0m                                 Traceback (most recent call last)",
      "\u001b[1;32m~\\AppData\\Local\\Temp/ipykernel_12804/4211095599.py\u001b[0m in \u001b[0;36m<module>\u001b[1;34m\u001b[0m\n\u001b[1;32m----> 1\u001b[1;33m \u001b[0mprint\u001b[0m\u001b[1;33m(\u001b[0m\u001b[1;32mNone\u001b[0m \u001b[1;33m+\u001b[0m \u001b[1;36m2\u001b[0m\u001b[1;33m)\u001b[0m\u001b[1;33m\u001b[0m\u001b[1;33m\u001b[0m\u001b[0m\n\u001b[0m",
      "\u001b[1;31mTypeError\u001b[0m: unsupported operand type(s) for +: 'NoneType' and 'int'"
     ]
    }
   ],
   "source": [
    "print(None + 2)"
   ]
  },
  {
   "cell_type": "code",
   "execution_count": 21,
   "metadata": {},
   "outputs": [
    {
     "name": "stdout",
     "output_type": "stream",
     "text": [
      "Lo siento, no tienes ningún valor\n"
     ]
    }
   ],
   "source": [
    "valor = None\n",
    "if valor == None:\n",
    "    print(\"Lo siento, no tienes ningún valor\") "
   ]
  },
  {
   "cell_type": "code",
   "execution_count": 29,
   "metadata": {},
   "outputs": [
    {
     "name": "stdout",
     "output_type": "stream",
     "text": [
      "True\n",
      "None\n"
     ]
    }
   ],
   "source": [
    "def strangeFunction(n):\n",
    "    if(n % 2 == 0):\n",
    "        return True\n",
    "\n",
    "print(strangeFunction(2))\n",
    "print(strangeFunction(1))"
   ]
  },
  {
   "cell_type": "code",
   "execution_count": 17,
   "metadata": {},
   "outputs": [],
   "source": [
    "def hola(): #La función devolverá un valor None implícito\n",
    "    return\n",
    "    print(\"¡Hola!\")\n",
    "\n",
    "hola() "
   ]
  },
  {
   "cell_type": "code",
   "execution_count": 18,
   "metadata": {},
   "outputs": [
    {
     "name": "stdout",
     "output_type": "stream",
     "text": [
      "True\n",
      "False\n",
      "None\n"
     ]
    }
   ],
   "source": [
    "def isInt(data):\n",
    "    if type(data) == int:\n",
    "        return True\n",
    "    elif type(data) == float:\n",
    "        return False \n",
    "    \n",
    "print(isInt(5))\n",
    "print(isInt(5.0))\n",
    "print(isInt(\"5\"))"
   ]
  },
  {
   "cell_type": "code",
   "execution_count": 19,
   "metadata": {},
   "outputs": [
    {
     "name": "stdout",
     "output_type": "stream",
     "text": [
      "19.283746556473833\n"
     ]
    }
   ],
   "source": [
    "#Cálculo de IMC \n",
    "\n",
    "def imc(peso, altura):\n",
    "    return peso / altura ** 2\n",
    "\n",
    "print(imc(52.5, 1.65))\n"
   ]
  },
  {
   "cell_type": "code",
   "execution_count": null,
   "metadata": {},
   "outputs": [
    {
     "name": "stdout",
     "output_type": "stream",
     "text": [
      "27.565214082533313\n"
     ]
    }
   ],
   "source": [
    "#Cálculo de IMC (mejorada)\n",
    "def piespulgam(pies, pulgadas =0.0 ):\n",
    "    return pies * 0.3048 + pulgadas * 0.0254\n",
    "\n",
    "\n",
    "def lbsakg(lb):\n",
    "    return lb * 0.45359237\n",
    "\n",
    "\n",
    "def imc(peso, altura):\n",
    "    if altura < 1.0 or altura > 2.5 or \\\n",
    "    peso < 20 or peso > 200:\n",
    "        return None\n",
    "    \n",
    "    return peso / altura ** 2\n",
    "\n",
    "\n",
    "print(imc(peso = lbsakg(176), altura = piespulgam(5, 7)))"
   ]
  },
  {
   "cell_type": "code",
   "execution_count": 20,
   "metadata": {},
   "outputs": [
    {
     "name": "stdout",
     "output_type": "stream",
     "text": [
      "True\n",
      "False\n"
     ]
    }
   ],
   "source": [
    "#verificar si tres lados de ciertas longitudes pueden formar un triángulo.\n",
    "\n",
    "def esUnTriangulo(a, b, c):\n",
    "    if a + b <= c:\n",
    "        return False\n",
    "    if b + c <= a:\n",
    "        return False\n",
    "    if c + a <= b:\n",
    "        return False\n",
    "    return True\n",
    "\n",
    "print(esUnTriangulo (1, 1, 1))\n",
    "print(esUnTriangulo (1, 1, 3))\n"
   ]
  },
  {
   "cell_type": "code",
   "execution_count": 23,
   "metadata": {},
   "outputs": [
    {
     "name": "stdout",
     "output_type": "stream",
     "text": [
      "True\n",
      "False\n"
     ]
    }
   ],
   "source": [
    "#verificar si tres lados de ciertas longitudes pueden formar un triángulo.\n",
    "\n",
    "def esUnTriangulo(a, b, c):\n",
    "    if a + b <= c or b + c <= a or \\\n",
    "    c + a <= b:\n",
    "        return False\n",
    "    return True\n",
    "\n",
    "print(esUnTriangulo(1, 1, 1))\n",
    "print(esUnTriangulo(1, 0, 2))"
   ]
  },
  {
   "cell_type": "code",
   "execution_count": null,
   "metadata": {},
   "outputs": [],
   "source": [
    "#verificar si tres lados de ciertas longitudes pueden formar un triángulo y si este es rectángulo \n",
    "\n",
    "def esUnTriangulo(a, b, c):\n",
    "    return a + b > c and b + c > a and c + a > b\n",
    "\n",
    "def esUnTrianguloRectangulo(a, b, c):\n",
    "    if not esUnTriangulo  (a, b, c):\n",
    "        return False\n",
    "    if c > a and c > b:\n",
    "        return c ** 2 == a ** 2 + b ** 2     #Teorema de Pitagoras\n",
    "    if a > b and a > c:\n",
    "        return a ** 2 == b ** 2 + c ** 2\n",
    "\n",
    "a = float(input(\"Ingresa la longitud del primer lado: \"))\n",
    "b = float(input(\"Ingresa la longitud del segundo lado: \"))\n",
    "c = float(input(\"Ingresa la longitud del tercer lado: \"))\n",
    "\n",
    "if esUnTriangulo(a, b, c):\n",
    "    print(\"Felicidades, puede ser un triángulo.\", end=\" \")\n",
    "    if esUnTrianguloRectangulo(a, b, c):\n",
    "     print(\"Puede ser Rectángulo.\")\n",
    "    else:\n",
    "     print(\"Pero no puede ser un triángulo rectángulo.\")\n",
    "else:\n",
    "    print(\"Lo siento, no puede ser un triángulo.\",  end=\" \")\n",
    "\n",
    "\n"
   ]
  },
  {
   "cell_type": "code",
   "execution_count": null,
   "metadata": {},
   "outputs": [
    {
     "name": "stdout",
     "output_type": "stream",
     "text": [
      "1 1\n",
      "2 2\n",
      "3 6\n",
      "4 24\n",
      "5 120\n"
     ]
    }
   ],
   "source": [
    "#calcular el factorial de una lista de números\n",
    "\n",
    "def factorialFun(n):\n",
    "    if n < 0:\n",
    "        return None\n",
    "    if n < 2:\n",
    "        return 1\n",
    "    \n",
    "    producto = 1\n",
    "    for i in range(2, n + 1):\n",
    "        producto *= i\n",
    "    return producto\n",
    "\n",
    "for n in range(1, 6): # probando\n",
    "    print(n, factorialFun(n))"
   ]
  },
  {
   "cell_type": "code",
   "execution_count": null,
   "metadata": {},
   "outputs": [
    {
     "name": "stdout",
     "output_type": "stream",
     "text": [
      "1 -> 1\n",
      "2 -> 1\n",
      "3 -> 2\n",
      "4 -> 3\n",
      "5 -> 5\n",
      "6 -> 8\n",
      "7 -> 13\n",
      "8 -> 21\n",
      "9 -> 34\n"
     ]
    }
   ],
   "source": [
    "#Serie Fibonacci\n",
    "\n",
    "def fib(n):\n",
    "    if n < 1:\n",
    "         return None\n",
    "    if n < 3:\n",
    "        return 1\n",
    "\n",
    "    elem1 = elem2 = 1 #: elem1, elem2 = 1,1\n",
    "    #sum = 0\n",
    "    for i in range(3, n + 1):\n",
    "        sum = elem1 + elem2\n",
    "        elem1, elem2 = elem2, sum\n",
    "    return sum\n",
    "\n",
    "for n in range(1, 10): # probando\n",
    "    print(n, \"->\", fib(n))\n"
   ]
  },
  {
   "cell_type": "markdown",
   "metadata": {},
   "source": [
    "***Efectos y resultados: listas y funciones***"
   ]
  },
  {
   "cell_type": "markdown",
   "metadata": {},
   "source": [
    "¿Se puede enviar una lista a una función como un argumento? ¡Por supuesto que se puede! Cualquier entidad reconocible por Python puede desempeñar el papel de un argumento de función, aunque debes asegurarte de que la función sea capaz de hacer uso de él."
   ]
  },
  {
   "cell_type": "code",
   "execution_count": 24,
   "metadata": {},
   "outputs": [
    {
     "name": "stdout",
     "output_type": "stream",
     "text": [
      "12\n"
     ]
    }
   ],
   "source": [
    "def sumaDeLista(lst):\n",
    "    sum = 0\n",
    "    \n",
    "    for elem in lst:\n",
    "        sum += elem\n",
    "    \n",
    "    return sum\n",
    "\n",
    "#y se invoca así:\n",
    "\n",
    "print(sumaDeLista([5, 4, 3])) "
   ]
  },
  {
   "cell_type": "code",
   "execution_count": 31,
   "metadata": {},
   "outputs": [
    {
     "ename": "TypeError",
     "evalue": "'int' object is not iterable",
     "output_type": "error",
     "traceback": [
      "\u001b[1;31m---------------------------------------------------------------------------\u001b[0m",
      "\u001b[1;31mTypeError\u001b[0m                                 Traceback (most recent call last)",
      "\u001b[1;32m~\\AppData\\Local\\Temp/ipykernel_12804/121260087.py\u001b[0m in \u001b[0;36m<module>\u001b[1;34m\u001b[0m\n\u001b[1;32m----> 1\u001b[1;33m \u001b[0mprint\u001b[0m\u001b[1;33m(\u001b[0m\u001b[0msumaDeLista\u001b[0m\u001b[1;33m(\u001b[0m\u001b[1;36m5\u001b[0m\u001b[1;33m)\u001b[0m\u001b[1;33m)\u001b[0m\u001b[1;33m\u001b[0m\u001b[1;33m\u001b[0m\u001b[0m\n\u001b[0m",
      "\u001b[1;32m~\\AppData\\Local\\Temp/ipykernel_12804/3842870030.py\u001b[0m in \u001b[0;36msumaDeLista\u001b[1;34m(lst)\u001b[0m\n\u001b[0;32m      2\u001b[0m     \u001b[0msum\u001b[0m \u001b[1;33m=\u001b[0m \u001b[1;36m0\u001b[0m\u001b[1;33m\u001b[0m\u001b[1;33m\u001b[0m\u001b[0m\n\u001b[0;32m      3\u001b[0m \u001b[1;33m\u001b[0m\u001b[0m\n\u001b[1;32m----> 4\u001b[1;33m     \u001b[1;32mfor\u001b[0m \u001b[0melem\u001b[0m \u001b[1;32min\u001b[0m \u001b[0mlst\u001b[0m\u001b[1;33m:\u001b[0m\u001b[1;33m\u001b[0m\u001b[1;33m\u001b[0m\u001b[0m\n\u001b[0m\u001b[0;32m      5\u001b[0m         \u001b[0msum\u001b[0m \u001b[1;33m+=\u001b[0m \u001b[0melem\u001b[0m\u001b[1;33m\u001b[0m\u001b[1;33m\u001b[0m\u001b[0m\n\u001b[0;32m      6\u001b[0m \u001b[1;33m\u001b[0m\u001b[0m\n",
      "\u001b[1;31mTypeError\u001b[0m: 'int' object is not iterable"
     ]
    }
   ],
   "source": [
    "print(sumaDeLista(5)) #el bucle for no puede iterar un solo valor entero.\n"
   ]
  },
  {
   "cell_type": "code",
   "execution_count": 84,
   "metadata": {},
   "outputs": [
    {
     "name": "stdout",
     "output_type": "stream",
     "text": [
      "[1, 4, 9, 16, 25]\n"
     ]
    }
   ],
   "source": [
    "def listUpdater(lst):\n",
    "    updList = []\n",
    "    for elem in lst:\n",
    "        elem **= 2\n",
    "        updList.append(elem)\n",
    "    return updList\n",
    "\n",
    "l = [1, 2, 3, 4, 5]\n",
    "print(listUpdater(l))\n"
   ]
  },
  {
   "cell_type": "code",
   "execution_count": 32,
   "metadata": {},
   "outputs": [
    {
     "name": "stdout",
     "output_type": "stream",
     "text": [
      "[4, 3, 2, 1, 0]\n"
     ]
    }
   ],
   "source": [
    "def strangeListFunction(n):\n",
    "    strangeList = []\n",
    "    \n",
    "    for i in range(0, n):\n",
    "        strangeList.insert(0, i)\n",
    "    \n",
    "    return strangeList  #Si, una función también puede retornar una lista !. \n",
    "print(strangeListFunction(5))"
   ]
  },
  {
   "cell_type": "code",
   "execution_count": 46,
   "metadata": {},
   "outputs": [
    {
     "name": "stdout",
     "output_type": "stream",
     "text": [
      "1900 ->OK\n",
      "2000 ->OK\n",
      "2016 ->OK\n",
      "1987 ->OK\n"
     ]
    }
   ],
   "source": [
    "def isYearLeap(year): #devuelve True si el año es un año bisiesto, o False sí no lo es.\n",
    "\n",
    "  if year % 4 == 0 and (year % 100 != 0 or year % 400 == 0):\t  \n",
    "      year = True\n",
    "  else:\n",
    "      year = False\n",
    "  return year\n",
    "\t\n",
    "\t \n",
    "\n",
    "testData = [1900, 2000, 2016, 1987]\n",
    "testResults = [False, True, True, False]\n",
    "for i in range(len(testData)):\n",
    "\tyr = testData[i]\n",
    "\tprint(yr,\"->\",end=\"\")\n",
    "\tresult = isYearLeap(yr)\n",
    "\tif result == testResults[i]:\n",
    "\t\tprint(\"OK\")\n",
    "\telse:\n",
    "\t\tprint(\"Error\")"
   ]
  },
  {
   "cell_type": "code",
   "execution_count": 27,
   "metadata": {},
   "outputs": [
    {
     "name": "stdout",
     "output_type": "stream",
     "text": [
      "1900 Hola ->Error\n",
      "2000 2 ->OK\n",
      "2016 1 ->OK\n",
      "1987 11 ->OK\n"
     ]
    }
   ],
   "source": [
    "def isYearLeap(year):\n",
    " if year % 4 == 0 and (year % 100 != 0 or year % 400 == 0):\t  \n",
    "      year = True\n",
    " else:\n",
    "      year = False\n",
    " return year\n",
    "\n",
    "def daysInMonth(year, month):\n",
    "  try:\n",
    "    if month <= 7:\n",
    "      if month % 2 == 0: days = 30\n",
    "      else: days = 31\n",
    "    elif month % 2 == 0: days = 31\n",
    "    else: days = 30\n",
    "    \n",
    "    if month == 2: \n",
    "      if isYearLeap(year) == True: days = 29\n",
    "      else: days = 28\n",
    "    \n",
    "    return days\n",
    "  except:\n",
    "       return None\n",
    "      \n",
    "  \n",
    "\n",
    "testYears = [1900, 2000, 2016, 1987]\n",
    "testMonths = ['Hola', 2, 1, 11]\n",
    "testResults = [28, 29, 31, 30]\n",
    "for i in range(len(testYears)):\n",
    "\tyr = testYears[i]\n",
    "\tmo = testMonths[i]\n",
    "\tprint(yr, mo, \"->\", end=\"\")\n",
    "\tresult = daysInMonth(yr, mo)\n",
    "\tif result == testResults[i]:\n",
    "\t\tprint(\"OK\")\n",
    "\telse:\n",
    "\t\tprint(\"Error\")\n",
    "\n"
   ]
  },
  {
   "cell_type": "code",
   "execution_count": 28,
   "metadata": {},
   "outputs": [
    {
     "name": "stdout",
     "output_type": "stream",
     "text": [
      "2 3 5 7 11 13 17 19 "
     ]
    }
   ],
   "source": [
    "\n",
    "#imprimir los números primos presentes en un rango de números\n",
    "def isPrime(num):\n",
    " contador = 0\n",
    " for i in range (1, num+1):\n",
    "     if num % i == 0:contador += 1\n",
    " if contador > 2:return False\n",
    " else: return True\n",
    "\n",
    "\n",
    "for i in range(1, 20):\n",
    "    if isPrime(i + 1):\n",
    "        print(i + 1, end=\" \")\n"
   ]
  },
  {
   "cell_type": "markdown",
   "metadata": {},
   "source": [
    "***Las funciones y sus alcances (scopes)***"
   ]
  },
  {
   "cell_type": "markdown",
   "metadata": {},
   "source": [
    "El alcance de un nombre (por ejemplo, el nombre de una variable) es la parte del código donde el nombre es reconocido correctamente.\n",
    "\n",
    "Por ejemplo, el alcance del parámetro de una función es la función en si misma. El parámetro es inaccesible fuera de la función."
   ]
  },
  {
   "cell_type": "code",
   "execution_count": 29,
   "metadata": {},
   "outputs": [
    {
     "ename": "NameError",
     "evalue": "name 'h' is not defined",
     "output_type": "error",
     "traceback": [
      "\u001b[1;31m---------------------------------------------------------------------------\u001b[0m",
      "\u001b[1;31mNameError\u001b[0m                                 Traceback (most recent call last)",
      "\u001b[1;32m~\\AppData\\Local\\Temp/ipykernel_1336/3622812748.py\u001b[0m in \u001b[0;36m<module>\u001b[1;34m\u001b[0m\n\u001b[0;32m      3\u001b[0m \u001b[1;33m\u001b[0m\u001b[0m\n\u001b[0;32m      4\u001b[0m \u001b[0mscopeTest\u001b[0m\u001b[1;33m(\u001b[0m\u001b[1;33m)\u001b[0m\u001b[1;33m\u001b[0m\u001b[1;33m\u001b[0m\u001b[0m\n\u001b[1;32m----> 5\u001b[1;33m \u001b[0mprint\u001b[0m\u001b[1;33m(\u001b[0m\u001b[0mh\u001b[0m\u001b[1;33m)\u001b[0m \u001b[1;31m#¿Qué es 'h'?\u001b[0m\u001b[1;33m\u001b[0m\u001b[1;33m\u001b[0m\u001b[0m\n\u001b[0m",
      "\u001b[1;31mNameError\u001b[0m: name 'h' is not defined"
     ]
    }
   ],
   "source": [
    "def scopeTest():\n",
    "     h = 123\n",
    "\n",
    "scopeTest()\n",
    "print(h) #¿Qué es 'h'?\n"
   ]
  },
  {
   "cell_type": "markdown",
   "metadata": {},
   "source": [
    "Ahora ¿ Una variable creada fuera de una función es visible dentro de una función. En otras palabras, ¿El nombre de la variable se propaga dentro del cuerpo de la función?. La respuesta es: una variable que existe fuera de una función tiene alcance dentro del cuerpo de la función."
   ]
  },
  {
   "cell_type": "code",
   "execution_count": 30,
   "metadata": {},
   "outputs": [
    {
     "name": "stdout",
     "output_type": "stream",
     "text": [
      "¿Conozco a la variable? 1\n",
      "1\n"
     ]
    }
   ],
   "source": [
    "def miFuncion():\n",
    "    print(\"¿Conozco a la variable?\", var)\n",
    "\n",
    "var = 1\n",
    "miFuncion()\n",
    "print(var)"
   ]
  },
  {
   "cell_type": "code",
   "execution_count": 91,
   "metadata": {},
   "outputs": [
    {
     "name": "stdout",
     "output_type": "stream",
     "text": [
      "¿Conozco a la variable? 2\n",
      "1\n"
     ]
    }
   ],
   "source": [
    "def miFuncion():\n",
    "    var = 2\n",
    "    print(\"¿Conozco a la variable?\", var)\n",
    "\n",
    "var = 1\n",
    "miFuncion()\n",
    "print(var)"
   ]
  },
  {
   "cell_type": "markdown",
   "metadata": {},
   "source": [
    "¿Qué es lo que ocurrió en el último código?\n",
    "\n",
    "La variable var creada dentro de la función no es la misma que la que se definió fuera de ella, parece ser que hay dos variables diferentes con el mismo nombre.\n",
    "La variable de la función es una sombra de la variable fuera de la función.\n",
    "La regla anterior se puede definir de una manera mas precisa y adecuada:\n",
    "\n",
    "Una variable que existe fuera de una función tiene un alcance dentro del cuerpo de la función, excluyendo a aquellas que tienen el mismo nombre.\n",
    "\n",
    "También significa que el alcance de una variable existente fuera de una función solo se puede implementar dentro de una función cuando su valor es leído. El asignar un valor hace que la función cree su propia variable."
   ]
  },
  {
   "cell_type": "markdown",
   "metadata": {},
   "source": [
    "Existe un método especial en Python el cual puede extender el alcance de una variable incluyendo el cuerpo de las funciones para poder no solo leer los valores de las variables sino también modificarlos.\n",
    "\n",
    "Este efecto es causado por la palabra reservada llamada global:"
   ]
  },
  {
   "cell_type": "code",
   "execution_count": 32,
   "metadata": {},
   "outputs": [
    {
     "name": "stdout",
     "output_type": "stream",
     "text": [
      "¿Conozco a aquella variable? 2\n",
      "2\n"
     ]
    }
   ],
   "source": [
    "def miFuncion():\n",
    "    global var #este nombre (var) se convierte en global (tiene un alcance global)\n",
    "    var = 2\n",
    "    print(\"¿Conozco a aquella variable?\", var)\n",
    "\n",
    "var = 'hola'\n",
    "miFuncion()\n",
    "print(var)"
   ]
  },
  {
   "cell_type": "code",
   "execution_count": 36,
   "metadata": {},
   "outputs": [
    {
     "name": "stdout",
     "output_type": "stream",
     "text": [
      "2\n",
      "3\n"
     ]
    }
   ],
   "source": [
    "\n",
    "\n",
    "def fun():\n",
    "    global a\n",
    "    a = 2\n",
    "    print(a)\n",
    "\n",
    "\n",
    "a = 1\n",
    "fun()\n",
    "a = 3 #la variable a vuelve a ser modificada (su valor) luego de invocar la función. \n",
    "print(a)\n"
   ]
  },
  {
   "cell_type": "markdown",
   "metadata": {},
   "source": [
    "Nota: Una función por si sola NO es capaz de modificar una variable que fue definida fuera de ella"
   ]
  },
  {
   "cell_type": "markdown",
   "metadata": {},
   "source": [
    "Ahora descubramos como la función interactúa con sus argumentos.\n",
    "\n",
    "El código en editor nos enseña algo. Como puedes observar, la función cambia el valor de su parámetro. ¿Este cambio afecta el argumento?"
   ]
  },
  {
   "cell_type": "code",
   "execution_count": 37,
   "metadata": {},
   "outputs": [
    {
     "name": "stdout",
     "output_type": "stream",
     "text": [
      "Yo obtuve 1\n",
      "Yo ahora tengo 2\n",
      "1\n"
     ]
    }
   ],
   "source": [
    "def miFuncion(n):\n",
    "    print(\"Yo obtuve\", n)\n",
    "    n += 1\n",
    "    print(\"Yo ahora tengo\", n)\n",
    "\n",
    "var = 1\n",
    "miFuncion(var)\n",
    "print(var)"
   ]
  },
  {
   "cell_type": "markdown",
   "metadata": {},
   "source": [
    "Al cambiar el valor del parámetro este no se propaga fuera de la función (más específicamente, no cuando la variable es un valor escalar, como en el ejemplo).\n",
    "\n",
    "Esto también significa que una función recibe el valor del argumento, no el argumento en sí. Esto es cierto para los valores escalares.\n",
    "\n",
    "¿Qué ocurre con las listas?"
   ]
  },
  {
   "cell_type": "code",
   "execution_count": 41,
   "metadata": {},
   "outputs": [
    {
     "name": "stdout",
     "output_type": "stream",
     "text": [
      "[2, 3]\n",
      "['Hola', 3]\n"
     ]
    }
   ],
   "source": [
    "def miFuncion(miLista1=[]):\n",
    "    print(miLista1)\n",
    "    del miLista1[0] #se modifica la lista identificada por el parámetro\n",
    "\n",
    "miLista2 = [2, 3]\n",
    "miFuncion(miLista2)\n",
    "print(miLista2)"
   ]
  },
  {
   "cell_type": "markdown",
   "metadata": {},
   "source": [
    "- Si el argumento es una lista, el cambiar el valor del parámetro correspondiente no afecta la lista (Recuerda: las variables que contienen listas son almacenadas de manera diferente que las escalares).\n",
    "- Pero si se modifica la lista identificada por el parámetro (Nota: ¡La lista no el parámetro!), la lista reflejará el cambio."
   ]
  },
  {
   "cell_type": "markdown",
   "metadata": {},
   "source": [
    "***Funciones con recursividad***\n",
    "\n",
    "La recursividad es una técnica donde una función se invoca a si misma. Tanto el factorial como la serie Fibonacci, son las mejores opciones para ilustrar este fenómeno.\n"
   ]
  },
  {
   "cell_type": "code",
   "execution_count": 2,
   "metadata": {},
   "outputs": [
    {
     "name": "stdout",
     "output_type": "stream",
     "text": [
      "1 -> 1\n",
      "2 -> 1\n",
      "3 -> 2\n",
      "4 -> 3\n",
      "5 -> 5\n",
      "6 -> 8\n",
      "7 -> 13\n",
      "8 -> 21\n",
      "9 -> 34\n"
     ]
    }
   ],
   "source": [
    "#Serie Fibonacci con recursividad\n",
    "def fibonacci(n):\n",
    "    if n < 1:\n",
    "        return None\n",
    "    if n < 3:\n",
    "        return 1\n",
    "    return fibonacci(n - 1) + fibonacci(n - 2) #Se invoca a si misma.\n",
    "\n",
    "for n in range(1, 10):\n",
    "    print(n, \"->\", fibonacci(n))"
   ]
  },
  {
   "cell_type": "code",
   "execution_count": 2,
   "metadata": {},
   "outputs": [
    {
     "name": "stdout",
     "output_type": "stream",
     "text": [
      "3628800\n"
     ]
    }
   ],
   "source": [
    "#Factorial de un número con recursividad\n",
    "\n",
    "def factorialFun(n):\n",
    "    if n < 0:\n",
    "        return None\n",
    "    if n < 2:\n",
    "        return 1\n",
    "    return n * factorialFun(n - 1)\n",
    "\n",
    "print(factorialFun(10))"
   ]
  },
  {
   "cell_type": "code",
   "execution_count": 3,
   "metadata": {},
   "outputs": [
    {
     "name": "stdout",
     "output_type": "stream",
     "text": [
      "56\n"
     ]
    }
   ],
   "source": [
    "def fun(a):\n",
    "    if a > 30:\n",
    "        return 3\n",
    "    else:\n",
    "        return a + fun(a + 3)\n",
    "\n",
    "print(fun(25))"
   ]
  },
  {
   "cell_type": "markdown",
   "metadata": {},
   "source": [
    "Las funciones que se invocan a si mismas deben contener una condición de terminación:"
   ]
  },
  {
   "cell_type": "code",
   "execution_count": null,
   "metadata": {},
   "outputs": [
    {
     "ename": "",
     "evalue": "",
     "output_type": "error",
     "traceback": [
      "\u001b[1;31mCanceled future for execute_request message before replies were done"
     ]
    },
    {
     "ename": "",
     "evalue": "",
     "output_type": "error",
     "traceback": [
      "\u001b[1;31mThe Kernel crashed while executing code in the the current cell or a previous cell. Please review the code in the cell(s) to identify a possible cause of the failure. Click <a href='https://aka.ms/vscodeJupyterKernelCrash'>here</a> for more info. View Jupyter <a href='command:jupyter.viewOutput'>log</a> for further details."
     ]
    }
   ],
   "source": [
    "def factorial(n):\n",
    "    return n * factorial(n - 1)\n",
    "\n",
    "print(factorial(4))"
   ]
  },
  {
   "cell_type": "markdown",
   "metadata": {},
   "source": [
    "**Tuplas**"
   ]
  },
  {
   "cell_type": "markdown",
   "metadata": {},
   "source": [
    "Una tupla es una secuencia inmutable. Se puede comportar como una lista pero no puede ser modificada en el momento (in situ).\n",
    "\n",
    "Nota: una secuencia es un tipo de dato que puede ser escaneado por el bucle for."
   ]
  },
  {
   "cell_type": "markdown",
   "metadata": {},
   "source": [
    "Lo primero que distingue una lista de una tupla es la sintaxis empleada para crearlas. Las tuplas utilizan paréntesis, mientras que las listas usan corchetes, aunque también es posible crear una tupla tan solo separando los valores por comas.\n",
    "\n",
    "Observa el ejemplo:\n"
   ]
  },
  {
   "cell_type": "code",
   "execution_count": 42,
   "metadata": {},
   "outputs": [
    {
     "name": "stdout",
     "output_type": "stream",
     "text": [
      "(1, 2, 4, 8)\n",
      "(1.0, 0.5, 0.25, 0.125)\n",
      "(1,)\n",
      "(1.0,)\n",
      "()\n"
     ]
    }
   ],
   "source": [
    "tupla1 = (1, 2, 4, 8)\n",
    "tupla2 = 1., .5, .25, .125\n",
    "tuplaUnElemento1 = (1, )\n",
    "tuplaUnElemento2 = 1.,\n",
    "tuplaVacia =()\n",
    "\n",
    "\n",
    "print(tupla1)\n",
    "print(tupla2)\n",
    "print(tuplaUnElemento1)\n",
    "print(tuplaUnElemento2)\n",
    "print(tuplaVacia)"
   ]
  },
  {
   "cell_type": "markdown",
   "metadata": {},
   "source": [
    "Nota: cada elemento de una tupla puede ser de distinto tipo (punto flotante, entero, cadena, etc.)."
   ]
  },
  {
   "cell_type": "code",
   "execution_count": null,
   "metadata": {},
   "outputs": [],
   "source": [
    "miTupla = (1, 10, 100, 1000)\n",
    "\n",
    "print(miTupla[0]) #Al igual que una lista, una tupla se puede indexar. \n",
    "print(miTupla[-1])\n",
    "print(miTupla[1:]) #slicing\n",
    "print(miTupla[:-2])\n",
    "\n",
    "for elem in miTupla: \n",
    "    print(elem)\n",
    "\n",
    "#Todas estas instrucciones causarán un error\n",
    "miTupla.append(10000) \n",
    "del miTupla[0] \n",
    "miTupla[1] = -10"
   ]
  },
  {
   "cell_type": "code",
   "execution_count": 44,
   "metadata": {},
   "outputs": [
    {
     "name": "stdout",
     "output_type": "stream",
     "text": [
      "4\n"
     ]
    }
   ],
   "source": [
    "tup = 1, 2, 3, 2, 4, 5, 6, 2, 7, 2, 8, 9\n",
    "duplicados = tup.count(2)\n",
    "\n",
    "print(duplicados)    # salida: 4"
   ]
  },
  {
   "cell_type": "markdown",
   "metadata": {},
   "source": [
    "Sin embargo, se puede eliminar la tupla completa:"
   ]
  },
  {
   "cell_type": "code",
   "execution_count": 21,
   "metadata": {},
   "outputs": [
    {
     "ename": "NameError",
     "evalue": "name 'miTupla' is not defined",
     "output_type": "error",
     "traceback": [
      "\u001b[1;31m---------------------------------------------------------------------------\u001b[0m",
      "\u001b[1;31mNameError\u001b[0m                                 Traceback (most recent call last)",
      "\u001b[1;32m~\\AppData\\Local\\Temp/ipykernel_2848/3873634694.py\u001b[0m in \u001b[0;36m<module>\u001b[1;34m\u001b[0m\n\u001b[0;32m      1\u001b[0m \u001b[0mmiTupla\u001b[0m \u001b[1;33m=\u001b[0m \u001b[1;36m1\u001b[0m\u001b[1;33m,\u001b[0m \u001b[1;36m2\u001b[0m\u001b[1;33m,\u001b[0m \u001b[1;36m3\u001b[0m\u001b[1;33m,\u001b[0m\u001b[1;33m\u001b[0m\u001b[1;33m\u001b[0m\u001b[0m\n\u001b[0;32m      2\u001b[0m \u001b[1;32mdel\u001b[0m \u001b[0mmiTupla\u001b[0m\u001b[1;33m\u001b[0m\u001b[1;33m\u001b[0m\u001b[0m\n\u001b[1;32m----> 3\u001b[1;33m \u001b[0mprint\u001b[0m\u001b[1;33m(\u001b[0m\u001b[0mmiTupla\u001b[0m\u001b[1;33m)\u001b[0m    \u001b[1;31m# NameError: name 'miTupla' is not defined\u001b[0m\u001b[1;33m\u001b[0m\u001b[1;33m\u001b[0m\u001b[0m\n\u001b[0m",
      "\u001b[1;31mNameError\u001b[0m: name 'miTupla' is not defined"
     ]
    }
   ],
   "source": [
    "\n",
    "miTupla = 1, 2, 3, \n",
    "del miTupla\n",
    "print(miTupla)    # NameError: name 'miTupla' is not defined"
   ]
  },
  {
   "cell_type": "markdown",
   "metadata": {},
   "source": [
    "¿Qué más pueden hacer las tuplas? Al igual que las listas, se puedan sumar y multiplicar:"
   ]
  },
  {
   "cell_type": "code",
   "execution_count": 10,
   "metadata": {},
   "outputs": [
    {
     "name": "stdout",
     "output_type": "stream",
     "text": [
      "9\n",
      "(1, 10, 100, 1000, 10000, 'Hola mundo', 1.0, False)\n",
      "(1, 10, 100, 1, 10, 100, 1, 10, 100)\n",
      "True\n",
      "True\n"
     ]
    }
   ],
   "source": [
    "\n",
    "\n",
    "miTupla = (1, 10, 100)\n",
    "\n",
    "t1 = miTupla + (1000, 10000, 'Hola mundo', 1., False)\n",
    "t2 = miTupla * 3\n",
    "\n",
    "print(len(t2))\n",
    "print(t1)\n",
    "print(t2)\n",
    "print(10 in miTupla)\n",
    "print(-10 not in miTupla)"
   ]
  },
  {
   "cell_type": "markdown",
   "metadata": {},
   "source": [
    "Una de las propiedades de las tuplas mas útiles es que pueden aparecer en el lado izquierdo del operador de asignación. Este fenómeno ya se vio con anterioridad, cuando fue necesario encontrar una manera de intercambiar los valores entre dos variables:\n"
   ]
  },
  {
   "cell_type": "code",
   "execution_count": 9,
   "metadata": {},
   "outputs": [
    {
     "name": "stdout",
     "output_type": "stream",
     "text": [
      "(2,) (3, 123) (1,)\n"
     ]
    }
   ],
   "source": [
    "\n",
    "var = 123\n",
    "\n",
    "t1 = (1, )\n",
    "t2 = (2, )\n",
    "t3 = (3, var)\n",
    "#esto es una tupla !       esto es una tupla ! \n",
    "t1, t2, t3         =       t2, t3, t1\n",
    "\n",
    "print(t1, t2, t3)"
   ]
  },
  {
   "cell_type": "markdown",
   "metadata": {},
   "source": [
    "Nota: el ejemplo presenta un importante hecho mas: los elementos de una tupla pueden ser variables, no solo literales. Además, pueden ser expresiones si se encuentran en el lado derecho del operador de asignacion.\n"
   ]
  },
  {
   "cell_type": "markdown",
   "metadata": {},
   "source": [
    "También se puede crear una tupla utilizando la función integrada de Python tuple(). Esto es particularmente útil cuando se desea convertir un iterable (por ejemplo, una lista, rango, cadena, etcétera) en una tupla:\n"
   ]
  },
  {
   "cell_type": "code",
   "execution_count": 22,
   "metadata": {},
   "outputs": [
    {
     "name": "stdout",
     "output_type": "stream",
     "text": [
      "(1, 2, 'cadena')\n",
      "[2, 4, 6]\n",
      "<class 'list'>\n",
      "(2, 4, 6)\n",
      "<class 'tuple'>\n"
     ]
    }
   ],
   "source": [
    "miTup = tuple((1, 2, \"cadena\"))\n",
    "print(miTup)\n",
    "\n",
    "lst = [2, 4, 6]\n",
    "print(lst)    # salida: [2, 4, 6]\n",
    "print(type(lst))    # salida: <class 'list'>\n",
    "tup = tuple(lst)\n",
    "print(tup)    # outputs: (2, 4, 6)\n",
    "print(type(tup))"
   ]
  },
  {
   "cell_type": "code",
   "execution_count": null,
   "metadata": {},
   "outputs": [],
   "source": [
    "l = [\"carro\", \"Ford\", \"flor\", \"Tulipán\"]\n",
    "\n",
    "t = tuple(l)\n",
    "print(t)\n"
   ]
  },
  {
   "cell_type": "markdown",
   "metadata": {},
   "source": [
    "tuple() con cero argumentos es un constructor vacío. Eso quiere decir que se puede utilizar para construir una tupla vacía: "
   ]
  },
  {
   "cell_type": "code",
   "execution_count": 4,
   "metadata": {},
   "outputs": [
    {
     "name": "stdout",
     "output_type": "stream",
     "text": [
      "()\n",
      "()\n"
     ]
    }
   ],
   "source": [
    "TuplaVacia = ()\n",
    "print(TuplaVacia)\n",
    "TuplaVacia = tuple()\n",
    "print(TuplaVacia)"
   ]
  },
  {
   "cell_type": "markdown",
   "metadata": {},
   "source": [
    "De la misma manera, cuando se desea convertir un iterable en una liste, se puede emplear la función integrada de Python denominada list():"
   ]
  },
  {
   "cell_type": "code",
   "execution_count": 3,
   "metadata": {},
   "outputs": [
    {
     "name": "stdout",
     "output_type": "stream",
     "text": [
      "<class 'list'>\n",
      "[1, 2, 3]\n",
      "[]\n"
     ]
    }
   ],
   "source": [
    "tup = 1, 2, 3, \n",
    "lst = list(tup)\n",
    "print(type(lst))    # outputs: <class 'list'>\n",
    "print(lst)\n",
    "ListaVacia = list()\n",
    "print(ListaVacia)"
   ]
  },
  {
   "cell_type": "markdown",
   "metadata": {},
   "source": [
    "**Diccionarios**"
   ]
  },
  {
   "cell_type": "markdown",
   "metadata": {},
   "source": [
    "El diccionario es otro tipo de estructura de datos de Python. No es una secuencia (pero puede adaptarse fácilmente a un procesamiento secuencial) y además es mutable."
   ]
  },
  {
   "cell_type": "markdown",
   "metadata": {},
   "source": [
    "un diccionario es un conjunto de pares de claves y valores. Nota:\n",
    "\n",
    "- Cada clave debe de ser única. No es posible tener una clave duplicada.\n",
    "- Una clave puede ser un tipo de dato de cualquier tipo: puede ser un número (entero o flotante), o incluso una cadena.\n",
    "- Un diccionario no es una lista. Una lista contiene un conjunto de valores numerados, mientras que un diccionario almacena pares de valores.\n",
    "- La función len() aplica también para los diccionarios, regresa la cantidad de pares (clave-valor) en el diccionario.\n",
    "- Un diccionario es una herramienta de un solo sentido. Si fuese un diccionario español-francés, podríamos buscar en español (clave) para encontrar su contraparte en francés (valor) mas no viceversa."
   ]
  },
  {
   "cell_type": "code",
   "execution_count": 64,
   "metadata": {},
   "outputs": [
    {
     "ename": "TypeError",
     "evalue": "'dict' object is not callable",
     "output_type": "error",
     "traceback": [
      "\u001b[1;31m---------------------------------------------------------------------------\u001b[0m",
      "\u001b[1;31mTypeError\u001b[0m                                 Traceback (most recent call last)",
      "\u001b[1;32m~\\AppData\\Local\\Temp/ipykernel_1336/1583261225.py\u001b[0m in \u001b[0;36m<module>\u001b[1;34m\u001b[0m\n\u001b[0;32m      3\u001b[0m \u001b[0mdict_esp_fra\u001b[0m \u001b[1;33m=\u001b[0m \u001b[1;33m{\u001b[0m\u001b[1;34m\"gato\"\u001b[0m \u001b[1;33m:\u001b[0m \u001b[1;34m\"chat\"\u001b[0m\u001b[1;33m,\u001b[0m \u001b[1;34m\"perro\"\u001b[0m \u001b[1;33m:\u001b[0m \u001b[1;34m\"chien\"\u001b[0m\u001b[1;33m,\u001b[0m \u001b[1;34m\"caballo\"\u001b[0m \u001b[1;33m:\u001b[0m \u001b[1;34m\"cheval\"\u001b[0m\u001b[1;33m}\u001b[0m\u001b[1;33m\u001b[0m\u001b[1;33m\u001b[0m\u001b[0m\n\u001b[0;32m      4\u001b[0m \u001b[0mnumerosTelefono\u001b[0m \u001b[1;33m=\u001b[0m \u001b[1;33m{\u001b[0m\u001b[1;34m'jefe'\u001b[0m \u001b[1;33m:\u001b[0m \u001b[1;36m5551234567\u001b[0m\u001b[1;33m,\u001b[0m \u001b[1;34m'Suzy'\u001b[0m \u001b[1;33m:\u001b[0m \u001b[1;36m22657854310\u001b[0m\u001b[1;33m}\u001b[0m\u001b[1;33m\u001b[0m\u001b[1;33m\u001b[0m\u001b[0m\n\u001b[1;32m----> 5\u001b[1;33m \u001b[0mdiccionarioVacio\u001b[0m \u001b[1;33m=\u001b[0m \u001b[0mdict\u001b[0m\u001b[1;33m(\u001b[0m\u001b[1;33m)\u001b[0m\u001b[1;33m\u001b[0m\u001b[1;33m\u001b[0m\u001b[0m\n\u001b[0m\u001b[0;32m      6\u001b[0m \u001b[1;33m\u001b[0m\u001b[0m\n\u001b[0;32m      7\u001b[0m \u001b[1;33m\u001b[0m\u001b[0m\n",
      "\u001b[1;31mTypeError\u001b[0m: 'dict' object is not callable"
     ]
    }
   ],
   "source": [
    "#¿Cómo crear un diccionario?\n",
    "\n",
    "dict_esp_fra = {\"gato\" : \"chat\", \"perro\" : \"chien\", \"caballo\" : \"cheval\"}\n",
    "numerosTelefono = {'jefe' : 5551234567, 'Suzy' : 22657854310}\n",
    "diccionarioVacio = {}\n",
    "\n",
    "print(dict)  #dict es una palabra reservada, al igual que tuple, list, float o int. \n",
    "print(numerosTelefono)\n",
    "print(diccionarioVacio)"
   ]
  },
  {
   "cell_type": "markdown",
   "metadata": {},
   "source": [
    "La lista de todos los pares es encerrada con llaves, mientras que los pares son separados por comas, y las claves y valores por dos puntos.\n",
    "\n",
    "Recordar: los diccionarios no son listas - no guardan el orden de sus datos, el orden no tiene significado (a diferencia de los diccionarios reales). El orden en que un diccionario almacena sus datos esta fuera de nuestro control."
   ]
  },
  {
   "cell_type": "markdown",
   "metadata": {},
   "source": [
    "Si deseas obtener cualquiera de los valores, debes de proporcionar una clave válida:"
   ]
  },
  {
   "cell_type": "code",
   "execution_count": 5,
   "metadata": {},
   "outputs": [
    {
     "name": "stdout",
     "output_type": "stream",
     "text": [
      "chat\n",
      "22657854310\n"
     ]
    },
    {
     "ename": "KeyError",
     "evalue": "'presidente'",
     "output_type": "error",
     "traceback": [
      "\u001b[1;31m---------------------------------------------------------------------------\u001b[0m",
      "\u001b[1;31mKeyError\u001b[0m                                  Traceback (most recent call last)",
      "\u001b[1;32m~\\AppData\\Local\\Temp/ipykernel_2848/4271245681.py\u001b[0m in \u001b[0;36m<module>\u001b[1;34m\u001b[0m\n\u001b[0;32m      1\u001b[0m \u001b[0mprint\u001b[0m\u001b[1;33m(\u001b[0m\u001b[0mdict_esp_fra\u001b[0m\u001b[1;33m[\u001b[0m\u001b[1;34m'gato'\u001b[0m\u001b[1;33m]\u001b[0m\u001b[1;33m)\u001b[0m\u001b[1;33m\u001b[0m\u001b[1;33m\u001b[0m\u001b[0m\n\u001b[0;32m      2\u001b[0m \u001b[0mprint\u001b[0m\u001b[1;33m(\u001b[0m\u001b[0mnumerosTelefono\u001b[0m\u001b[1;33m[\u001b[0m\u001b[1;34m'Suzy'\u001b[0m\u001b[1;33m]\u001b[0m\u001b[1;33m)\u001b[0m\u001b[1;33m\u001b[0m\u001b[1;33m\u001b[0m\u001b[0m\n\u001b[1;32m----> 3\u001b[1;33m \u001b[0mprint\u001b[0m\u001b[1;33m(\u001b[0m\u001b[0mnumerosTelefono\u001b[0m\u001b[1;33m[\u001b[0m\u001b[1;34m'presidente'\u001b[0m\u001b[1;33m]\u001b[0m\u001b[1;33m)\u001b[0m \u001b[1;31m#No se puede utilizar una clave que no exista.\u001b[0m\u001b[1;33m\u001b[0m\u001b[1;33m\u001b[0m\u001b[0m\n\u001b[0m\u001b[0;32m      4\u001b[0m \u001b[1;33m\u001b[0m\u001b[0m\n\u001b[0;32m      5\u001b[0m \u001b[1;31m#El obtener el valor de un diccionario es semejante a la indexación\u001b[0m\u001b[1;33m\u001b[0m\u001b[1;33m\u001b[0m\u001b[0m\n",
      "\u001b[1;31mKeyError\u001b[0m: 'presidente'"
     ]
    }
   ],
   "source": [
    "print(dict_esp_fra['gato'])\n",
    "print(numerosTelefono['Suzy'])\n",
    "print(numerosTelefono['presidente']) #No se puede utilizar una clave que no exista.\n",
    "\n",
    "#El obtener el valor de un diccionario es semejante a la indexación"
   ]
  },
  {
   "cell_type": "code",
   "execution_count": 2,
   "metadata": {},
   "outputs": [
    {
     "name": "stdout",
     "output_type": "stream",
     "text": [
      "chat\n",
      "{'gato': 'chat', 'perro': 'chien', 'caballo': 'cheval'}\n",
      "gato -> chat\n",
      "leon no está en el diccionario\n",
      "caballo -> cheval\n"
     ]
    }
   ],
   "source": [
    "dict = {\"gato\" : \"chat\", \"perro\" : \"chien\", \"caballo\" : \"cheval\"}\n",
    "words = ['gato', 'leon', 'caballo']\n",
    "\n",
    "print(dict)\n",
    "for word in words:  #word recorre por defecti las claves (keys)\n",
    "    if word in dict:  \n",
    "        print(word, \"->\", dict[word])\n",
    "    else:\n",
    "        print(word, \"no está en el diccionario\")\n"
   ]
  },
  {
   "cell_type": "markdown",
   "metadata": {},
   "source": [
    "Para comprobar si una clave existe en un diccionario, se puede emplear la palabra reservada in:"
   ]
  },
  {
   "cell_type": "code",
   "execution_count": 49,
   "metadata": {},
   "outputs": [
    {
     "name": "stdout",
     "output_type": "stream",
     "text": [
      "SI\n"
     ]
    }
   ],
   "source": [
    "polEspDict = {\n",
    "    \"zamek\" : \"castillo\",\n",
    "    \"woda\"  : \"agua\",\n",
    "    \"gleba\" : \"tierra\"\n",
    "    }\n",
    "\n",
    "if \"zamek\" in polEspDict: \n",
    "    print(\"SI\")\n",
    "else:\n",
    "    print(\"NO\")"
   ]
  },
  {
   "cell_type": "markdown",
   "metadata": {},
   "source": [
    "Si los diccionarios no son secuencias ¿ Existe alguna manera de recorrerlos utilizando un ciclo for ? En parte si, porque hay herramientas simples y muy efectivas que pueden adaptar cualquier diccionario a los requerimientos del bucle for (en otras palabras, se construye un enlace intermedio entre el diccionario y una entidad secuencial temporal). Una de ellas es el método keys(), el cual es parte de todo diccionario. El método retorna o regresa una lista de todas las claves dentro del diccionario."
   ]
  },
  {
   "cell_type": "code",
   "execution_count": 50,
   "metadata": {},
   "outputs": [
    {
     "name": "stdout",
     "output_type": "stream",
     "text": [
      "dict_keys(['gato', 'perro', 'caballo'])\n",
      "gato -> chat\n",
      "perro -> chien\n",
      "caballo -> cheval\n"
     ]
    }
   ],
   "source": [
    "dict = {\"gato\" : \"chat\", \"perro\" : \"chien\", \"caballo\" : \"cheval\"}\n",
    "\n",
    "print(dict.keys())\n",
    "for key in dict.keys():\n",
    "    print(key, \"->\", dict[key])"
   ]
  },
  {
   "cell_type": "markdown",
   "metadata": {},
   "source": [
    "¿Deseas que la salida este ordenada? Solo hay que agregar al bucle for lo siguiente:"
   ]
  },
  {
   "cell_type": "code",
   "execution_count": 51,
   "metadata": {},
   "outputs": [
    {
     "name": "stdout",
     "output_type": "stream",
     "text": [
      "caballo -> cheval\n",
      "gato -> chat\n",
      "perro -> chien\n"
     ]
    }
   ],
   "source": [
    "for key in sorted(dict.keys()):\n",
    "      print(key, \"->\", dict[key])\n"
   ]
  },
  {
   "cell_type": "markdown",
   "metadata": {},
   "source": [
    "La función sorted() hará su mejor esfuerzo. "
   ]
  },
  {
   "cell_type": "markdown",
   "metadata": {},
   "source": [
    "Otra manera de hacerlo es utilizar el método items(). Este método regresa una lista de tuplas (este es el primer ejemplo en el que las tuplas son mas que un ejemplo de si mismas) donde cada tupla es un par de cada clave con su valor."
   ]
  },
  {
   "cell_type": "code",
   "execution_count": 14,
   "metadata": {},
   "outputs": [
    {
     "name": "stdout",
     "output_type": "stream",
     "text": [
      "dict_items([('gato', 'chat'), ('perro', 'chien'), ('caballo', 'cheval')])\n",
      "gato -> chat\n",
      "perro -> chien\n",
      "caballo -> cheval\n"
     ]
    }
   ],
   "source": [
    "dict = {\"gato\" : \"chat\", \"perro\" : \"chien\", \"caballo\" : \"cheval\"}\n",
    "\n",
    "print(dict.items())\n",
    "for spanish, french in dict.items(): #recorrer la \"lista de tuplas\" con dos variables de control. Una examinará los keys y la otra los values. \n",
    "    print(spanish, \"->\", french)"
   ]
  },
  {
   "cell_type": "code",
   "execution_count": 25,
   "metadata": {},
   "outputs": [
    {
     "name": "stdout",
     "output_type": "stream",
     "text": [
      "castillo\n",
      "gleba\n",
      "woda\n",
      "zamek\n"
     ]
    }
   ],
   "source": [
    "polEspDict = {\n",
    "    \"zamek\" : \"castillo\",\n",
    "    \"woda\"  : \"agua\",\n",
    "    \"gleba\" : \"tierra\"\n",
    "    }\n",
    "\n",
    "print(polEspDict[\"zamek\"])\n",
    "\n",
    "for item in sorted(polEspDict): #Por defecto, el ciclo for examinará los keys. No se ha utilizado ningún método !!. \n",
    "    print(item)"
   ]
  },
  {
   "cell_type": "markdown",
   "metadata": {},
   "source": [
    "***Edición de diccionarios***"
   ]
  },
  {
   "cell_type": "markdown",
   "metadata": {},
   "source": [
    "El asignar un nuevo valor a una clave existente es sencillo, debido a que los diccionarios son completamente mutables, no existen obstáculos para modificarlos."
   ]
  },
  {
   "cell_type": "code",
   "execution_count": 52,
   "metadata": {},
   "outputs": [
    {
     "name": "stdout",
     "output_type": "stream",
     "text": [
      "{'gato': 'minou', 'dog': 'chien', 'caballo': 'cheval', 'cisne': 'cygne'}\n"
     ]
    }
   ],
   "source": [
    "dict = {\"gato\" : \"perro\", \"dog\" : \"chien\", \"caballo\" : \"cheval\"}\n",
    "\n",
    "dict['gato'] = 'minou' #Modificar un valor\n",
    "dict['cisne'] = 'cygne' #Agregar una nueva clave (con su valor)\n",
    "print(dict)\n"
   ]
  },
  {
   "cell_type": "markdown",
   "metadata": {},
   "source": [
    "Nota: A diferencia de los diccionarios, las listas no permiten asignar valores a índices no existentes (MOD3)"
   ]
  },
  {
   "cell_type": "markdown",
   "metadata": {},
   "source": [
    "También es posible insertar un elemento al diccionario utilizando el método update(), por ejemplo:\n",
    "\n"
   ]
  },
  {
   "cell_type": "code",
   "execution_count": 15,
   "metadata": {},
   "outputs": [
    {
     "name": "stdout",
     "output_type": "stream",
     "text": [
      "{'gato': 'chat', 'perro': 'chien', 'caballo': 'cheval', 'pato': 'canard'}\n"
     ]
    }
   ],
   "source": [
    "dict = {\"gato\" : \"chat\", \"perro\" : \"chien\", \"caballo\" : \"cheval\"}\n",
    "\n",
    "dict.update({\"pato\" : \"canard\"})\n",
    "print(dict)"
   ]
  },
  {
   "cell_type": "markdown",
   "metadata": {},
   "source": [
    "Para eliminar una clave en un diccionario, podemos utilizar la instrucción del:"
   ]
  },
  {
   "cell_type": "code",
   "execution_count": 16,
   "metadata": {},
   "outputs": [
    {
     "name": "stdout",
     "output_type": "stream",
     "text": [
      "{'gato': 'chat', 'caballo': 'cheval'}\n"
     ]
    }
   ],
   "source": [
    "dict = {\"gato\" : \"chat\", \"perro\" : \"chien\", \"caballo\" : \"cheval\"}\n",
    "\n",
    "del dict['perro']\n",
    "print(dict)"
   ]
  },
  {
   "cell_type": "markdown",
   "metadata": {},
   "source": [
    "Nota: al eliminar la clave también se removerá el valor asociado. Los valores no pueden existir sin sus claves."
   ]
  },
  {
   "cell_type": "markdown",
   "metadata": {},
   "source": [
    "Para eliminar el ultimo elemento de la lista, se puede emplear el método popitem():\n",
    "\n"
   ]
  },
  {
   "cell_type": "code",
   "execution_count": 17,
   "metadata": {},
   "outputs": [
    {
     "name": "stdout",
     "output_type": "stream",
     "text": [
      "{'gato': 'chat', 'perro': 'chien'}\n"
     ]
    }
   ],
   "source": [
    "dict = {\"gato\" : \"chat\", \"perro\" : \"chien\", \"caballo\" : \"cheval\"}\n",
    "\n",
    "dict.popitem()\n",
    "print(dict)    "
   ]
  },
  {
   "cell_type": "markdown",
   "metadata": {},
   "source": [
    "Se puede emplear la palabra reservada del para eliminar un elemento, o un diccionario entero. Para eliminar todos los elementos de un diccionario se debe emplear el método clear():\n"
   ]
  },
  {
   "cell_type": "code",
   "execution_count": 55,
   "metadata": {},
   "outputs": [
    {
     "name": "stdout",
     "output_type": "stream",
     "text": [
      "3\n",
      "2\n",
      "{}\n",
      "0\n"
     ]
    },
    {
     "ename": "NameError",
     "evalue": "name 'polEspDict' is not defined",
     "output_type": "error",
     "traceback": [
      "\u001b[1;31m---------------------------------------------------------------------------\u001b[0m",
      "\u001b[1;31mNameError\u001b[0m                                 Traceback (most recent call last)",
      "\u001b[1;32m~\\AppData\\Local\\Temp/ipykernel_1336/99154688.py\u001b[0m in \u001b[0;36m<module>\u001b[1;34m\u001b[0m\n\u001b[0;32m     14\u001b[0m \u001b[1;33m\u001b[0m\u001b[0m\n\u001b[0;32m     15\u001b[0m \u001b[1;32mdel\u001b[0m \u001b[0mpolEspDict\u001b[0m    \u001b[1;31m# elimina el diccionario\u001b[0m\u001b[1;33m\u001b[0m\u001b[1;33m\u001b[0m\u001b[0m\n\u001b[1;32m---> 16\u001b[1;33m \u001b[0mprint\u001b[0m\u001b[1;33m(\u001b[0m\u001b[0mpolEspDict\u001b[0m\u001b[1;33m)\u001b[0m\u001b[1;33m\u001b[0m\u001b[1;33m\u001b[0m\u001b[0m\n\u001b[0m",
      "\u001b[1;31mNameError\u001b[0m: name 'polEspDict' is not defined"
     ]
    }
   ],
   "source": [
    "polEspDict = {\n",
    "    \"zamek\" : \"castillo\",\n",
    "    \"woda\"  : \"agua\",\n",
    "    \"gleba\" : \"tierra\"\n",
    "    }\n",
    "\n",
    "print(len(polEspDict))    # salida: 3\n",
    "del polEspDict[\"zamek\"]    # elimina un elemento\n",
    "print(len(polEspDict))    # salida: 2\n",
    "\n",
    "polEspDict.clear()   # elimina todos los elementos\n",
    "print(polEspDict)  #imprime un diccionario vacio ({})\n",
    "print(len(polEspDict))    # salida: 0\n",
    "\n",
    "del polEspDict    # elimina el diccionario\n",
    "print(polEspDict) "
   ]
  },
  {
   "cell_type": "markdown",
   "metadata": {},
   "source": [
    "Para copiar un diccionario, emplea el método copy():\n"
   ]
  },
  {
   "cell_type": "code",
   "execution_count": 33,
   "metadata": {},
   "outputs": [
    {
     "name": "stdout",
     "output_type": "stream",
     "text": [
      "{'zamek': 'castillo', 'woda': 'agua', 'gleba': 'tierra'}\n"
     ]
    }
   ],
   "source": [
    "polEspDict = {\n",
    "    \"zamek\" : \"castillo\",\n",
    "    \"woda\"  : \"agua\",\n",
    "    \"gleba\" : \"tierra\"\n",
    "    }\n",
    "\n",
    "copyDict = polEspDict.copy()\n",
    "#: copyDict = polEspDict\n",
    "print(copyDict)\n"
   ]
  },
  {
   "cell_type": "code",
   "execution_count": 67,
   "metadata": {},
   "outputs": [
    {
     "name": "stdout",
     "output_type": "stream",
     "text": [
      "{}\n"
     ]
    }
   ],
   "source": [
    "midict = {\"A\":1, \"B\":2}\n",
    "copyMiDict = midict.copy()\n",
    "#copyMiDict = midict  \n",
    "midict.clear()\n",
    "#del midict        \n",
    "\n",
    "\n",
    "print(copyMiDict)\n"
   ]
  },
  {
   "cell_type": "code",
   "execution_count": 20,
   "metadata": {},
   "outputs": [
    {
     "name": "stdout",
     "output_type": "stream",
     "text": [
      "jonathan : 10.0\n",
      "carlos : 2.0\n"
     ]
    }
   ],
   "source": [
    "grupo = {}\n",
    "\n",
    "while True:\n",
    "    nombre = input(\"Ingresa el nombre del estudiante (o exit para detenerse): \")\n",
    "    if nombre == 'exit':\n",
    "        break\n",
    "    \n",
    "    calif = int(input(\"Ingresa la calificación del alumno (0-10): \"))\n",
    "    \n",
    "    if nombre in grupo:\n",
    "        grupo[nombre] += (calif,)\n",
    "    else:\n",
    "        grupo[nombre] = (calif,)\n",
    "        \n",
    "for nombre in sorted(grupo.keys()):\n",
    "    sum = 0\n",
    "    contador = 0\n",
    "    for calif in grupo[nombre]:\n",
    "        sum += calif\n",
    "        contador += 1\n",
    "    print(nombre, \":\", sum / contador)\n"
   ]
  },
  {
   "cell_type": "code",
   "execution_count": 1,
   "metadata": {},
   "outputs": [
    {
     "name": "stdout",
     "output_type": "stream",
     "text": [
      "{'verde': '#008000', 'azul': '#0000FF'}\n"
     ]
    }
   ],
   "source": [
    "\n",
    "colores = ((\"verde\", \"#008000\"), (\"azul\", \"#0000FF\"))\n",
    "colDict = {}\n",
    "\n",
    "for i in range(len(colores)):\n",
    "    colDict[colores[i][0]] = colores[i][1]\n",
    "\n",
    "#: colDict = dict(colores)\n",
    "print(colDict)\n"
   ]
  },
  {
   "cell_type": "code",
   "execution_count": 13,
   "metadata": {},
   "outputs": [
    {
     "name": "stdout",
     "output_type": "stream",
     "text": [
      "[0, 1, 2, 3]\n",
      "['Jonathan', 'mile', 'suso', 'dembele']\n",
      "[(0, 'Jonathan'), (1, 'mile'), (2, 'suso'), (3, 'dembele')]\n"
     ]
    }
   ],
   "source": [
    "Diccionario = {0:'Jonathan', 1:'mile', 2:'suso',3:'dembele'}\n",
    "Listadediccionario =list(Diccionario.keys())\n",
    "print(Listadediccionario)\n",
    "Listadediccionario =list(Diccionario.values())\n",
    "print(Listadediccionario)\n",
    "Listadediccionario =list(Diccionario.items()) #lista de tuplas\n",
    "print(Listadediccionario)\n"
   ]
  }
 ],
 "metadata": {
  "kernelspec": {
   "display_name": "Python 3.10.4 64-bit",
   "language": "python",
   "name": "python3"
  },
  "language_info": {
   "codemirror_mode": {
    "name": "ipython",
    "version": 3
   },
   "file_extension": ".py",
   "mimetype": "text/x-python",
   "name": "python",
   "nbconvert_exporter": "python",
   "pygments_lexer": "ipython3",
   "version": "3.10.4"
  },
  "orig_nbformat": 4,
  "vscode": {
   "interpreter": {
    "hash": "110fe3fb9777db4ce1f884af3cc527a40b2c98427ad17781c021ef692bd3d28d"
   }
  }
 },
 "nbformat": 4,
 "nbformat_minor": 2
}
