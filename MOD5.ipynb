{
 "cells": [
  {
   "cell_type": "markdown",
   "metadata": {},
   "source": [
    "**Fundamentos de Programación en Python: Módulo 5**\n",
    "\n",
    "En este módulo, aprenderás acerca de:\n",
    "\n",
    "- Módulos de Python: su lógica, su función, cómo importarlos de diferentes maneras y presentar el contenido de algunos módulos estándar proporcionados por Python.\n",
    "- La forma en que los módulos se unen para formar paquetes.\n",
    "- El concepto de una excepción y su implementación en Python, incluida la instrucción try-except, con sus aplicaciones y la instrucción raise.\n",
    "- Cadenas y sus métodos específicos, junto con sus similitudes y diferencias en comparación con las listas."
   ]
  },
  {
   "cell_type": "markdown",
   "metadata": {},
   "source": [
    "En primer lugar ***¿Como identificar un módulo en python?*** :"
   ]
  },
  {
   "cell_type": "markdown",
   "metadata": {},
   "source": [
    "Un módulo se identifica por su nombre. Si se desea utilizar cualquier módulo, se necesita saber su nombre. Se entrega una cantidad (bastante grande) de módulos junto con Python. Se puede pensar en ellos como una especie de \"equipo extra de Python\".\n",
    "\n",
    "Todos estos módulos, junto con las funciones integradas, forman la Biblioteca estándar de Python - un tipo especial de biblioteca donde los módulos desempeñan el papel de libros (incluso podemos decir que las carpetas desempeñan el papel de estanterías). Si deseas ver la lista completa de todos los \"volúmenes\" recopilados en esa biblioteca, se puede encontrar aquí: https://docs.python.org/3/library/index.html.\n",
    "\n",
    "Cada módulo consta de entidades (como un libro consta de capítulos). Estas entidades pueden ser funciones, variables, constantes, clases y objetos. Si se sabe cómo acceder a un módulo en particular, se puede utilizar cualquiera de las entidades que almacena."
   ]
  },
  {
   "cell_type": "markdown",
   "metadata": {},
   "source": [
    "***Importando un módulo***"
   ]
  },
  {
   "cell_type": "markdown",
   "metadata": {},
   "source": [
    "Para que un módulo sea utilizable, hay que importarlo (piensa en ello como sacar un libro del estante). La importación de un módulo se realiza mediante una instrucción llamada import. Comencemos importando uno de los módulos más utilizados, el que lleva por nombre math. Nota: import es también una palabra reservada (con todas sus implicaciones)."
   ]
  },
  {
   "cell_type": "code",
   "execution_count": 1,
   "metadata": {},
   "outputs": [],
   "source": [
    "\n",
    "import math"
   ]
  },
  {
   "cell_type": "markdown",
   "metadata": {},
   "source": [
    " Su nombre habla por sí mismo: el módulo contiene una rica colección de entidades (no solo funciones) que permiten a un programador implementar efectivamente cálculos que exigen el uso de funciones matemáticas, como sen(), log() o pi. "
   ]
  },
  {
   "cell_type": "markdown",
   "metadata": {},
   "source": [
    "La instrucción puede colocarse en cualquier parte del código, pero debe colocarse antes del primer uso de cualquiera de las entidades del módulo. Si se desea (o se tiene que) importar más de un módulo, se puede hacer repitiendo la cláusula import, o listando los módulos despues de la palabra reservada import, por ejemplo:\n"
   ]
  },
  {
   "cell_type": "code",
   "execution_count": 2,
   "metadata": {},
   "outputs": [],
   "source": [
    "import math, sys"
   ]
  },
  {
   "cell_type": "markdown",
   "metadata": {},
   "source": [
    "Si el módulo de un nombre especificado existe y es accesible (un módulo es de hecho un archivo fuente de Python), Python importa su contenido, se hacen conocidos todos los nombres definidos en el módulo, pero no ingresan al namespace del código.\n",
    "\n",
    "Esto significa que puede tener sus propias entidades llamadas sin o pi y no serán afectadas en alguna manera por el import."
   ]
  },
  {
   "cell_type": "markdown",
   "metadata": {},
   "source": [
    "Ahora ¿Cómo acceder a una entidad del módulo?. Observa el fragmento a continuación, esta es la forma en que se habilitan los nombres de pi y sin con el nombre de su módulo de origen:\n"
   ]
  },
  {
   "cell_type": "code",
   "execution_count": 3,
   "metadata": {},
   "outputs": [
    {
     "data": {
      "text/plain": [
       "<function math.sin(x, /)>"
      ]
     },
     "execution_count": 3,
     "metadata": {},
     "output_type": "execute_result"
    }
   ],
   "source": [
    "\n",
    "math.pi\n",
    "math.sin"
   ]
  },
  {
   "cell_type": "code",
   "execution_count": 7,
   "metadata": {},
   "outputs": [
    {
     "name": "stdout",
     "output_type": "stream",
     "text": [
      "el valor de sin(1/2π) es:  1.0\n"
     ]
    }
   ],
   "source": [
    "#imprimir el valor de sin(1/2π).\n",
    "import math\n",
    "print('el valor de sin(1/2π) es: ', math.sin(math.pi/2))"
   ]
  },
  {
   "cell_type": "markdown",
   "metadata": {},
   "source": [
    "Nota: el eliminar cualquiera de las dos indicaciones hará que el código sea erróneo. No hay otra forma de entrar al namespace de math si se importo el módulo de esta manera. "
   ]
  },
  {
   "cell_type": "code",
   "execution_count": 8,
   "metadata": {},
   "outputs": [
    {
     "name": "stdout",
     "output_type": "stream",
     "text": [
      "0.99999999\n",
      "1.0\n"
     ]
    }
   ],
   "source": [
    "import math\n",
    "\n",
    "def sin(x):\n",
    "    if 2 * x == pi:\n",
    "        return 0.99999999\n",
    "    else:\n",
    "        return None\n",
    "\n",
    "pi = 3.14\n",
    "\n",
    "print(sin(pi/2))\n",
    "print(math.sin(math.pi/2))"
   ]
  },
  {
   "cell_type": "markdown",
   "metadata": {},
   "source": [
    "Se ha definido una variable y función propia para pi y sin respectivamente, y se emplean junto con los de la librería math. Como puedes ver, las entidades no se afectan entre sí."
   ]
  },
  {
   "cell_type": "markdown",
   "metadata": {},
   "source": [
    "Otra forma de importar y utilizar las entidades de un módulo o librería, se presenta a continuación:"
   ]
  },
  {
   "cell_type": "code",
   "execution_count": 9,
   "metadata": {},
   "outputs": [],
   "source": [
    "#acceder a una entidad:\n",
    "from math import pi\n",
    "\n",
    "#acceder a varias entidades:\n",
    "\n",
    "from math import pi, sin, cos\n"
   ]
  },
  {
   "cell_type": "markdown",
   "metadata": {},
   "source": [
    "La instrucción (importación selectiva) tiene este efecto:\n",
    "\n",
    "- Las entidades listadas son las unicas que son importadas del módulo indicado.\n",
    "- Los nombres de las entidades importadas pueden ser accedidas dentro del programa.\n"
   ]
  },
  {
   "cell_type": "code",
   "execution_count": 16,
   "metadata": {},
   "outputs": [
    {
     "name": "stdout",
     "output_type": "stream",
     "text": [
      "1.0\n"
     ]
    }
   ],
   "source": [
    "from math import sin, pi\n",
    "\n",
    "print(sin(pi/2))"
   ]
  },
  {
   "cell_type": "markdown",
   "metadata": {},
   "source": [
    "Nota: no se importan otras entidades, únicamente las especificadas. Además, no se pueden importar entidades adicionales utilizando una línea como esta:"
   ]
  },
  {
   "cell_type": "code",
   "execution_count": null,
   "metadata": {},
   "outputs": [],
   "source": [
    "\n",
    "\"\"\" from math import e  #e = euler\n",
    "print(math.e)  \"\"\"\n"
   ]
  },
  {
   "cell_type": "markdown",
   "metadata": {},
   "source": [
    "Analicemos el siguiente bloque de código:"
   ]
  },
  {
   "cell_type": "code",
   "execution_count": 20,
   "metadata": {},
   "outputs": [
    {
     "name": "stdout",
     "output_type": "stream",
     "text": [
      "0.99999999\n",
      "1.0\n"
     ]
    }
   ],
   "source": [
    "pi = 3.14\t# linea 01\n",
    "\n",
    "def sin(x):\n",
    "    if 2 * x == pi:\n",
    "        return 0.99999999\n",
    "    else:\n",
    "        return None\t# linea 07\n",
    "\n",
    "print(sin(pi/2))\t# linea 09\n",
    "\n",
    "\n",
    "from math import sin, pi\t# linea 12\n",
    "\n",
    "print(sin(pi/2))\t# linea 14"
   ]
  },
  {
   "cell_type": "markdown",
   "metadata": {},
   "source": [
    "Podemos observar lo siguiente:\n",
    "\n",
    "- Las líneas del 01 al 07: definen nuestro propio pi y sin.\n",
    "- La línea 09: hace uso de ellas ( 0.99999999 aparece en pantalla).\n",
    "- La línea 12: lleva a cabo la importación - los símbolos importados reemplazan sus definiciones anteriores dentro del namespace del código.\n",
    "- La línea 14: retorna 1.0 como resultado."
   ]
  },
  {
   "cell_type": "markdown",
   "metadata": {},
   "source": [
    "Una tercera forma de importar un módulo se escribe a continuación:"
   ]
  },
  {
   "cell_type": "code",
   "execution_count": 21,
   "metadata": {},
   "outputs": [],
   "source": [
    "from sys import *\n"
   ]
  },
  {
   "cell_type": "markdown",
   "metadata": {},
   "source": [
    "Como puedes ver, el nombre de una entidad (o la lista de nombres de entidades) se reemplaza con un solo asterisco (*).\n",
    "\n",
    "Tal instrucción importa todas las entidades del módulo indicado. \n",
    "Nota: a menos que conozca todos los nombres proporcionados por el módulo, es posible que no puedas evitar conflictos de nombres. Trata esto como una solución temporal e intenta no usarlo en un código regular."
   ]
  },
  {
   "cell_type": "markdown",
   "metadata": {},
   "source": [
    "***Renombrado (aliasing)***"
   ]
  },
  {
   "cell_type": "markdown",
   "metadata": {},
   "source": [
    "Aliasing (renombrado) hace que el módulo se identifique con un nombre diferente al original.\n",
    "\n",
    "La creación de un alias se realiza junto con la importación del módulo, y exige la siguiente forma de la instrucción import:"
   ]
  },
  {
   "cell_type": "code",
   "execution_count": null,
   "metadata": {},
   "outputs": [],
   "source": [
    "import math as matemáticas\n",
    "#               \"alias\""
   ]
  },
  {
   "cell_type": "markdown",
   "metadata": {},
   "source": [
    "Nota: as es una palabra reservada."
   ]
  },
  {
   "cell_type": "code",
   "execution_count": 23,
   "metadata": {},
   "outputs": [
    {
     "name": "stdout",
     "output_type": "stream",
     "text": [
      "1.0\n"
     ]
    }
   ],
   "source": [
    "import math as m\n",
    "print(m.sin(m.pi/2))\n"
   ]
  },
  {
   "cell_type": "markdown",
   "metadata": {},
   "source": [
    "Nota: después de la ejecución exitosa de una importación con alias, el nombre original del módulo se vuelve inaccesible y no debe ser utilizado"
   ]
  },
  {
   "cell_type": "markdown",
   "metadata": {},
   "source": [
    "Desde luego, también se puede crear un alias para la entidad. Esto hará que el nombre sea reemplazado por el alias que se elija.\n",
    "\n",
    "Así es como se puede hacer:\n"
   ]
  },
  {
   "cell_type": "code",
   "execution_count": 8,
   "metadata": {},
   "outputs": [],
   "source": [
    "#Renombrar una entidad: \n",
    "from math import sin as seno\n",
    "\n",
    "#Renombrar varias entidades:\n",
    "\n",
    "#from math import sin as seno, cos as coseno, log as logaritmo_base10"
   ]
  },
  {
   "cell_type": "code",
   "execution_count": 9,
   "metadata": {},
   "outputs": [
    {
     "name": "stdout",
     "output_type": "stream",
     "text": [
      "1.0\n"
     ]
    }
   ],
   "source": [
    "#Imprimir el seno de pi/2\n",
    "from math import pi as PI, sin as sine\n",
    "\n",
    "print(sine(PI/2))"
   ]
  },
  {
   "cell_type": "markdown",
   "metadata": {},
   "source": [
    "***Comando dir()***"
   ]
  },
  {
   "cell_type": "markdown",
   "metadata": {},
   "source": [
    "El comando dir() no muestra el contenido de un directorio o carpeta de disco, pero no se puede negar que hace algo similar: puede revelar todos los nombres proporcionados a través de un módulo en particular.\n",
    "\n",
    "Hay una condición: el módulo debe haberse importado previamente como un todo (es decir, utilizar la instrucción import module - from module no es suficiente).\n",
    "\n",
    "La función devuelve una lista ordenada alfabéticamente la cual contiene todos los nombres de las entidades disponibles en el módulo:\n"
   ]
  },
  {
   "cell_type": "code",
   "execution_count": 10,
   "metadata": {},
   "outputs": [
    {
     "name": "stdout",
     "output_type": "stream",
     "text": [
      "['__doc__', '__loader__', '__name__', '__package__', '__spec__', 'acos', 'acosh', 'asin', 'asinh', 'atan', 'atan2', 'atanh', 'ceil', 'comb', 'copysign', 'cos', 'cosh', 'degrees', 'dist', 'e', 'erf', 'erfc', 'exp', 'expm1', 'fabs', 'factorial', 'floor', 'fmod', 'frexp', 'fsum', 'gamma', 'gcd', 'hypot', 'inf', 'isclose', 'isfinite', 'isinf', 'isnan', 'isqrt', 'lcm', 'ldexp', 'lgamma', 'log', 'log10', 'log1p', 'log2', 'modf', 'nan', 'nextafter', 'perm', 'pi', 'pow', 'prod', 'radians', 'remainder', 'sin', 'sinh', 'sqrt', 'tan', 'tanh', 'tau', 'trunc', 'ulp']\n",
      "__doc__\t__loader__\t__name__\t__package__\t__spec__\tacos\tacosh\tasin\tasinh\tatan\tatan2\tatanh\tceil\tcomb\tcopysign\tcos\tcosh\tdegrees\tdist\te\terf\terfc\texp\texpm1\tfabs\tfactorial\tfloor\tfmod\tfrexp\tfsum\tgamma\tgcd\thypot\tinf\tisclose\tisfinite\tisinf\tisnan\tisqrt\tlcm\tldexp\tlgamma\tlog\tlog10\tlog1p\tlog2\tmodf\tnan\tnextafter\tperm\tpi\tpow\tprod\tradians\tremainder\tsin\tsinh\tsqrt\ttan\ttanh\ttau\ttrunc\tulp\t"
     ]
    }
   ],
   "source": [
    "import math\n",
    "\n",
    "print(dir(math))\n",
    "\n",
    "for name in dir(math):\n",
    "    print(name, end=\"\\t\") #\\t: caracter de tabulación. \n",
    "\n"
   ]
  },
  {
   "cell_type": "markdown",
   "metadata": {},
   "source": [
    "Nota: Si el nombre del módulo tiene un alias, debe usar el alias, no el nombre original."
   ]
  },
  {
   "cell_type": "code",
   "execution_count": 6,
   "metadata": {},
   "outputs": [
    {
     "name": "stdout",
     "output_type": "stream",
     "text": [
      "True\n",
      "True\n",
      "True\n",
      "True\n"
     ]
    }
   ],
   "source": [
    "from math import pi, radians, degrees, sin, cos, tan, asin\n",
    "\n",
    "ad = 90\n",
    "ar = radians(ad) # → una función que convierte x de grados a radianes.\n",
    "ad = degrees(ar) # → actuando en el otro sentido (de radianes a grados).\n",
    "\n",
    "print(ad == 90.)\n",
    "print(ar == pi / 2.)\n",
    "print(sin(ar) / cos(ar) == tan(ar))\n",
    "print(asin(sin(ar)) == ar)"
   ]
  },
  {
   "cell_type": "code",
   "execution_count": 16,
   "metadata": {},
   "outputs": [
    {
     "name": "stdout",
     "output_type": "stream",
     "text": [
      "True\n",
      "True\n",
      "True\n",
      "True\n",
      "True\n"
     ]
    }
   ],
   "source": [
    "from math import e, exp, log, log10, log2\n",
    "\n",
    "print(pow(e, 1) == exp(log(e)))\n",
    "print(pow(2, 2) == exp(2 * log(2))) #pow(x, y) → encontrar el valor de x^y (toma en cuenta los dominios). \n",
    "                                    #Esta es una función incorporada y no se tiene que importar.\n",
    "print(log(e, e) == exp(0)) #log(x, b) → el logaritmo de x con base b.\n",
    "print(log10(10)==log(10,10)) #log10(x) → el logaritmo decimal de x (más preciso que log(x, 10)).\n",
    "\n",
    "print(log2(5)==log(5,2)) #log2(x) → el logaritmo binario de x (más preciso que log(x, 2))."
   ]
  },
  {
   "cell_type": "code",
   "execution_count": 20,
   "metadata": {},
   "outputs": [
    {
     "name": "stdout",
     "output_type": "stream",
     "text": [
      "1 2\n",
      "-2 -3\n",
      "2 3\n",
      "-1 -2\n",
      "1 2\n",
      "-1 -2\n",
      "2 6\n",
      "3.605551275463989\n"
     ]
    }
   ],
   "source": [
    "from math import ceil, floor, trunc, factorial, hypot\n",
    "\n",
    "x = 1.4\n",
    "y = 2.6\n",
    "\n",
    "print(floor(x), floor(y)) #floor(x) → el entero más grande menor o igual que x.\n",
    "print(floor(-x), floor(-y)) \n",
    "print(ceil(x), ceil(y)) #ceil(x) → devuelve el entero más pequeño mayor o igual que x.\n",
    "print(ceil(-x), ceil(-y))\n",
    "print(trunc(x), trunc(y)) #trunc(x) → el valor de x truncado a un entero (ten cuidado, no es equivalente a ceil o floor).\n",
    "print(trunc(-x), trunc(-y))\n",
    "x, y = 2,3\n",
    "print(factorial(x), factorial(y)) #factorial(x) → devuelve x! (x tiene que ser un valor entero y no negativo).\n",
    "print(hypot(x,y)) #hypot(x, y) → devuelve la longitud de la hipotenusa de un triángulo rectángulo con las longitudes de los catetos iguales a x e \n",
    "                  #y (lo mismo que sqrt(pow(x, 2) + pow(y, 2)) pero más preciso).\n"
   ]
  },
  {
   "cell_type": "markdown",
   "metadata": {},
   "source": [
    "***Funciones seleccionadas del módulo random***"
   ]
  },
  {
   "cell_type": "markdown",
   "metadata": {},
   "source": [
    "La función general llamada random() (no debe confundirse con el nombre del módulo) produce un número flotante x entre el rango (0.0, 1.0) - en otras palabras: (0.0 <= x < 1.0)."
   ]
  },
  {
   "cell_type": "code",
   "execution_count": 23,
   "metadata": {},
   "outputs": [
    {
     "name": "stdout",
     "output_type": "stream",
     "text": [
      "0.5592075095545493\n",
      "0.32062381005073126\n",
      "0.36439960832878504\n",
      "0.7714237787518741\n",
      "0.8253128187515686\n"
     ]
    }
   ],
   "source": [
    "\n",
    "from random import random\n",
    "\n",
    "for i in range(5):\n",
    "    print(random())"
   ]
  },
  {
   "cell_type": "markdown",
   "metadata": {},
   "source": [
    "La función seed() es capaz de establecer la semilla del generador. Te mostraremos dos de sus variantes:\n",
    "\n",
    "- seed() - establece la semilla con la hora actual.\n",
    "- seed(int_value) - establece la semilla con el valor entero int_value.\n",
    "\n",
    "Hemos modificado el programa anterior; de hecho, hemos eliminado cualquier rastro de aleatoriedad del código:"
   ]
  },
  {
   "cell_type": "code",
   "execution_count": 23,
   "metadata": {},
   "outputs": [
    {
     "name": "stdout",
     "output_type": "stream",
     "text": [
      "0.40273138973923195\n",
      "0.1414648019336041\n",
      "0.9906770686682368\n",
      "0.2380946614386743\n",
      "0.11757927133152979\n"
     ]
    }
   ],
   "source": [
    "from random import random, seed\n",
    "\n",
    "seed()\n",
    "#seed(0)\n",
    "\n",
    "for i in range(5):\n",
    "    print(random())"
   ]
  },
  {
   "cell_type": "markdown",
   "metadata": {},
   "source": [
    "Si deseas valores aleatorios enteros, una de las siguientes funciones encajaría mejor:"
   ]
  },
  {
   "cell_type": "code",
   "execution_count": 5,
   "metadata": {},
   "outputs": [
    {
     "name": "stdout",
     "output_type": "stream",
     "text": [
      "1 0 0 3\n"
     ]
    }
   ],
   "source": [
    "from random import randrange, randint\n",
    "\n",
    "\"\"\" \n",
    "randrange(fin)x\n",
    "randrange(inico, fin)\n",
    "randrange(inicio, fin, incremento)\n",
    "randint(izquierda, derecha) \n",
    "\n",
    "\"\"\"\n",
    "\n",
    "print(randrange(2), end=' ')\n",
    "print(randrange(0, 1), end=' ')\n",
    "print(randrange(0, 1, 1), end=' ')\n",
    "print(randint(0, 1))"
   ]
  },
  {
   "cell_type": "markdown",
   "metadata": {},
   "source": [
    "Nota: Se debe tomar en cuenta la exclusión implícita del lado derecho. \n",
    "\n",
    "La última función es equivalente a randrange(izquierda, derecha+1) - genera el valor entero i, el cual cae en el rango [izquierda, derecha] (sin exclusión en el lado derecho)."
   ]
  },
  {
   "cell_type": "code",
   "execution_count": 66,
   "metadata": {},
   "outputs": [
    {
     "name": "stdout",
     "output_type": "stream",
     "text": [
      "6,6,6,1,5,8,5,4,2,10,"
     ]
    }
   ],
   "source": [
    "from random import randint\n",
    "\n",
    "for i in range(10):\n",
    "    print(randint(1, 10), end=',')"
   ]
  },
  {
   "cell_type": "code",
   "execution_count": 74,
   "metadata": {},
   "outputs": [
    {
     "name": "stdout",
     "output_type": "stream",
     "text": [
      "3\n",
      "[10, 5, 4, 1, 8]\n",
      "[5, 9, 8, 7, 1, 10, 6, 3, 4, 2]\n"
     ]
    }
   ],
   "source": [
    "from random import choice, sample\n",
    "\n",
    "\"\"\" \n",
    "choice(secuencia)\n",
    "sample(secuencia, elementos_a_elegir=1 -> por defecto) \n",
    "\"\"\"\n",
    "\n",
    "lst = [1, 2, 3, 4, 5, 6, 7, 8, 9, 10]\n",
    "\n",
    "print(choice(lst))\n",
    "print(sample(lst, 5))\n",
    "print(sample(lst, 10))"
   ]
  },
  {
   "cell_type": "markdown",
   "metadata": {},
   "source": [
    "***Funciones seleccionadas del módulo platform***"
   ]
  },
  {
   "cell_type": "markdown",
   "metadata": {},
   "source": [
    "El módulo platform permite acceder a los datos de la plataforma subyacente, es decir, hardware, sistema operativo e información sobre la versión del intérprete."
   ]
  },
  {
   "cell_type": "markdown",
   "metadata": {},
   "source": [
    "Existe también una función que puede mostrar todas las capas subyacentes en un solo vistazo, llamada platform. Simplemente devuelve una cadena que describe el entorno; por lo tanto, su salida está más dirigida a los humanos que al procesamiento automatizado (lo veremos pronto). Así es como se puede invocar:"
   ]
  },
  {
   "cell_type": "code",
   "execution_count": 82,
   "metadata": {},
   "outputs": [
    {
     "name": "stdout",
     "output_type": "stream",
     "text": [
      "Windows-10-10.0.19044-SP0\n",
      "Windows-10-10.0.19044-SP0\n",
      "Windows-10\n"
     ]
    }
   ],
   "source": [
    "from platform import platform\n",
    "\n",
    "\n",
    "#platform(aliased = False, terse = False)\n",
    "print(platform())\n",
    "print(platform(1))\n",
    "print(platform(0, 1))\n",
    "\n",
    "\n",
    "\n"
   ]
  },
  {
   "cell_type": "markdown",
   "metadata": {},
   "source": [
    "Ahora:\n",
    "\n",
    "- aliased → cuando se establece a True (o cualquier valor distinto de cero) puede hacer que la función presente los nombres de capa subyacentes alternativos en lugar de los comunes.\n",
    "- terse → cuando se establece a True (o cualquier valor distinto de cero) puede convencer a la función de presentar una forma más breve del resultado (si lo fuera posible)."
   ]
  },
  {
   "cell_type": "markdown",
   "metadata": {},
   "source": [
    "A veces, es posible que solo se desee conocer el nombre genérico del procesador que ejecuta el sistema operativo junto con Python y el código, una función llamada machine() te lo dirá. Como anteriormente, la función devuelve una cadena."
   ]
  },
  {
   "cell_type": "code",
   "execution_count": 84,
   "metadata": {},
   "outputs": [
    {
     "name": "stdout",
     "output_type": "stream",
     "text": [
      "AMD64\n"
     ]
    }
   ],
   "source": [
    "from platform import machine\n",
    "\n",
    "print(machine())"
   ]
  },
  {
   "cell_type": "markdown",
   "metadata": {},
   "source": [
    "La función processor() devuelve una cadena con el nombre real del procesador (si lo fuese posible)."
   ]
  },
  {
   "cell_type": "code",
   "execution_count": 85,
   "metadata": {},
   "outputs": [
    {
     "name": "stdout",
     "output_type": "stream",
     "text": [
      "Intel64 Family 6 Model 142 Stepping 10, GenuineIntel\n"
     ]
    }
   ],
   "source": [
    "from platform import processor\n",
    "\n",
    "print(processor())"
   ]
  },
  {
   "cell_type": "markdown",
   "metadata": {},
   "source": [
    "Una función llamada system() devuelve el nombre genérico del sistema operativo en una cadena."
   ]
  },
  {
   "cell_type": "code",
   "execution_count": 5,
   "metadata": {},
   "outputs": [
    {
     "name": "stdout",
     "output_type": "stream",
     "text": [
      "Windows\n"
     ]
    }
   ],
   "source": [
    "from platform import system\n",
    "\n",
    "print(system())"
   ]
  },
  {
   "cell_type": "markdown",
   "metadata": {},
   "source": [
    "La versión del sistema operativo se proporciona como una cadena por la función version()."
   ]
  },
  {
   "cell_type": "code",
   "execution_count": 4,
   "metadata": {},
   "outputs": [
    {
     "name": "stdout",
     "output_type": "stream",
     "text": [
      "10.0.19044\n"
     ]
    }
   ],
   "source": [
    "from platform import version\n",
    "\n",
    "print(version())"
   ]
  },
  {
   "cell_type": "markdown",
   "metadata": {},
   "source": [
    "Si necesitas saber qué versión de Python está ejecutando tu código, puedes verificarlo utilizando una serie de funciones dedicadas, aquí hay dos de ellas:\n",
    "\n",
    "- python_implementation() → devuelve una cadena que denota la implementación de Python (espera CPython aquí, a menos que decidas utilizar cualquier rama de Python no canónica).\n",
    "- python_version_tuple() → devuelve una tupla de tres elementos la cual contiene:\n",
    "   - la parte mayor de la versión de Python.\n",
    "   - la parte menor,\n",
    "   - el número de nivel del patch."
   ]
  },
  {
   "cell_type": "code",
   "execution_count": 3,
   "metadata": {},
   "outputs": [
    {
     "name": "stdout",
     "output_type": "stream",
     "text": [
      "CPython\n",
      "3\n",
      "10\n",
      "4\n"
     ]
    }
   ],
   "source": [
    "from platform import python_implementation, python_version_tuple\n",
    "\n",
    "print(python_implementation())\n",
    "\n",
    "for atr in python_version_tuple():\n",
    "    print(atr)"
   ]
  },
  {
   "cell_type": "markdown",
   "metadata": {},
   "source": [
    "**Paquetes**"
   ]
  },
  {
   "cell_type": "markdown",
   "metadata": {},
   "source": [
    "Crear muchos módulos puede causar desorden: tarde que temprano querrás agrupar tus módulos de la misma manera que previamente has agrupado funciones: ¿Existe un contenedor más general que un módulo?.\n",
    "Sí lo hay, es un paquete: en el mundo de los módulos, un paquete juega un papel similar al de una carpeta o directorio en el mundo de los archivos."
   ]
  },
  {
   "cell_type": "markdown",
   "metadata": {},
   "source": [
    "Cuando un módulo es importado, su contenido es ejecutado implícitamente por Python. Le da al módulo la oportunidad de inicializar algunos de sus aspectos internos (por ejemplo, puede asignar a algunas variables valores útiles). Nota: la inicialización se realiza solo una vez, cuando se produce la primera importación, por lo que las asignaciones realizadas por el módulo no se repiten innecesariamente.\n",
    "\n",
    "Imaginemos el siguiente contexto:\n",
    "\n",
    "- Existe un módulo llamado mod1.\n",
    "- Existe un módulo llamado mod2 el cual contiene la instrucción import mod1.\n",
    "- Hay un archivo principal que contiene las instrucciones import mod1 y import mod2.\n",
    "\n",
    "A primera vista, se puede pensar que mod1 será importado dos veces - afortunadamente, solo se produce la primera importación. Python recuerda los módulos importados y omite silenciosamente todas las importaciones posteriores.\n",
    "\n"
   ]
  },
  {
   "cell_type": "markdown",
   "metadata": {},
   "source": [
    "Pero ...¿Cómo convencer a Python que un paquete no es solo un montón de archivos basura, sino un conjunto de módulos?"
   ]
  },
  {
   "cell_type": "markdown",
   "metadata": {},
   "source": [
    "Los paquetes, como los módulos, pueden requerir inicialización.\n",
    "\n",
    "La inicialización de un módulo se realiza mediante un código independiente (que no forma parte de ninguna función) ubicado dentro del archivo del módulo. Como un paquete no es un archivo, esta técnica es inútil para inicializar paquetes.\n",
    "\n",
    "En su lugar, debes usar un truco diferente: Python espera que haya un archivo con un nombre muy exclusivo dentro de la carpeta del paquete: __init__.py.\n",
    "\n",
    "El contenido del archivo se ejecuta cuando se importa cualquiera de los módulos del paquete. Si no deseas ninguna inicialización especial, puedes dejar el archivo vacío, pero no debes omitirlo.\n",
    "\n"
   ]
  },
  {
   "cell_type": "markdown",
   "metadata": {},
   "source": [
    "Hemos creado un paquete desde cero y ha sido guardado en la siguiente ruta:\n",
    "\n",
    "C:\\Users\\USUARIO\\Documents\\TI\\Python\\Cisco\\Nuestro primer módulo\n"
   ]
  },
  {
   "cell_type": "markdown",
   "metadata": {},
   "source": [
    "Cada uno de sus archivos contiene comentarios que explican el paso a paso de este proceso."
   ]
  },
  {
   "cell_type": "markdown",
   "metadata": {},
   "source": [
    "**Tratamiento de los errores**"
   ]
  },
  {
   "cell_type": "markdown",
   "metadata": {},
   "source": [
    "Observa el siguiente código:"
   ]
  },
  {
   "cell_type": "code",
   "execution_count": null,
   "metadata": {},
   "outputs": [],
   "source": [
    "import math\n",
    "\n",
    "x = float(input(\"Ingresa x: \"))\n",
    "y = math.sqrt(x)\n",
    "\n",
    "print(\"La raíz cuadrada de\", x, \"es igual a\", y)"
   ]
  },
  {
   "cell_type": "markdown",
   "metadata": {},
   "source": [
    "Hay al menos dos formas posibles de que \"salga mal\" la ejecución. ¿Puedes verlas?\n",
    "\n",
    "- Como el usuario puede ingresar una cadena de caracteres completamente arbitraria, no hay garantía de que la cadena se pueda convertir en un valor flotante - esta es la primera vulnerabilidad del código.\n",
    "- La segunda es que la función sqrt() fallará si se le ingresa un valor negativo."
   ]
  },
  {
   "cell_type": "markdown",
   "metadata": {},
   "source": [
    "***Excepciones***\n",
    "\n",
    "Cada vez que tu código intenta hacer algo erroneo, irresponsable o inaplicable, Python hace dos cosas:\n",
    "\n",
    "- Detiene tu programa.\n",
    "- Crea un tipo especial de dato, llamado excepción."
   ]
  },
  {
   "cell_type": "markdown",
   "metadata": {},
   "source": [
    "Ambas actividades llevan por nombre lanzar una excepción. Podemos decir que Python siempre lanza una excepción (o que una excepción ha sido lanzada) cuando no tiene idea de qué hacer con el código.\n",
    "\n",
    "¿Qué ocurre después?\n",
    "\n",
    "- La excepción lanzada espera que alguien o algo lo note y haga algo al respecto.\n",
    "- Si la excepción no es resuelta, el programa será terminado abruptamente, y verás un mensaje de error enviado a la consola por Python.\n",
    "- De otra manera, si se atiende la excepción y es manejada apropiadamente, el programa puede reanudarse y su ejecución puede continuar.\n",
    "\n",
    "Python proporciona herramientas efectivas que permiten observar, identificar y manejar las excepciones eficientemente. Esto es posible debido a que todas las excepciones potenciales tienen un nombre específico, por lo que se pueden clasificar y reaccionar a ellas adecuadamente."
   ]
  },
  {
   "cell_type": "markdown",
   "metadata": {},
   "source": [
    "Ya conoces algunos nombres de excepción.\n",
    "\n",
    "Observa el siguiente mensaje de diagnóstico:\n",
    "\n",
    "\n"
   ]
  },
  {
   "cell_type": "code",
   "execution_count": 7,
   "metadata": {},
   "outputs": [
    {
     "ename": "ValueError",
     "evalue": "could not convert string to float: 'abcadra'",
     "output_type": "error",
     "traceback": [
      "\u001b[1;31m---------------------------------------------------------------------------\u001b[0m",
      "\u001b[1;31mValueError\u001b[0m                                Traceback (most recent call last)",
      "\u001b[1;32mc:\\Users\\USUARIO\\Documents\\TI\\Python\\Cisco\\MOD5.ipynb Cell 13'\u001b[0m in \u001b[0;36m<cell line: 3>\u001b[1;34m()\u001b[0m\n\u001b[0;32m      <a href='vscode-notebook-cell:/c%3A/Users/USUARIO/Documents/TI/Python/Cisco/MOD5.ipynb#ch0000012?line=0'>1</a>\u001b[0m \u001b[39mimport\u001b[39;00m \u001b[39mmath\u001b[39;00m\n\u001b[1;32m----> <a href='vscode-notebook-cell:/c%3A/Users/USUARIO/Documents/TI/Python/Cisco/MOD5.ipynb#ch0000012?line=2'>3</a>\u001b[0m x \u001b[39m=\u001b[39m \u001b[39mfloat\u001b[39;49m(\u001b[39minput\u001b[39;49m(\u001b[39m\"\u001b[39;49m\u001b[39mIngresa x: \u001b[39;49m\u001b[39m\"\u001b[39;49m))\n\u001b[0;32m      <a href='vscode-notebook-cell:/c%3A/Users/USUARIO/Documents/TI/Python/Cisco/MOD5.ipynb#ch0000012?line=3'>4</a>\u001b[0m y \u001b[39m=\u001b[39m math\u001b[39m.\u001b[39msqrt(x)\n\u001b[0;32m      <a href='vscode-notebook-cell:/c%3A/Users/USUARIO/Documents/TI/Python/Cisco/MOD5.ipynb#ch0000012?line=5'>6</a>\u001b[0m \u001b[39mprint\u001b[39m(\u001b[39m\"\u001b[39m\u001b[39mLa raíz cuadrada de\u001b[39m\u001b[39m\"\u001b[39m, x, \u001b[39m\"\u001b[39m\u001b[39mes igual a\u001b[39m\u001b[39m\"\u001b[39m, y)\n",
      "\u001b[1;31mValueError\u001b[0m: could not convert string to float: 'abcadra'"
     ]
    }
   ],
   "source": [
    "import math\n",
    "\n",
    "x = float(input(\"Ingresa x: \"))\n",
    "y = math.sqrt(x)\n",
    "\n",
    "print(\"La raíz cuadrada de\", x, \"es igual a\", y)"
   ]
  },
  {
   "cell_type": "markdown",
   "metadata": {},
   "source": [
    "La palabra en rojo es solo el nombre de la excepción. Vamos a familiarizarnos con algunas otras excepciones.\n",
    "\n"
   ]
  },
  {
   "cell_type": "code",
   "execution_count": 9,
   "metadata": {},
   "outputs": [
    {
     "ename": "ZeroDivisionError",
     "evalue": "division by zero",
     "output_type": "error",
     "traceback": [
      "\u001b[1;31m---------------------------------------------------------------------------\u001b[0m",
      "\u001b[1;31mZeroDivisionError\u001b[0m                         Traceback (most recent call last)",
      "\u001b[1;32mc:\\Users\\USUARIO\\Documents\\TI\\Python\\Cisco\\MOD5.ipynb Cell 18'\u001b[0m in \u001b[0;36m<cell line: 2>\u001b[1;34m()\u001b[0m\n\u001b[0;32m      <a href='vscode-notebook-cell:/c%3A/Users/USUARIO/Documents/TI/Python/Cisco/MOD5.ipynb#ch0000017?line=0'>1</a>\u001b[0m valor \u001b[39m=\u001b[39m \u001b[39m1\u001b[39m\n\u001b[1;32m----> <a href='vscode-notebook-cell:/c%3A/Users/USUARIO/Documents/TI/Python/Cisco/MOD5.ipynb#ch0000017?line=1'>2</a>\u001b[0m valor \u001b[39m/\u001b[39m\u001b[39m=\u001b[39m \u001b[39m0\u001b[39m\n",
      "\u001b[1;31mZeroDivisionError\u001b[0m: division by zero"
     ]
    }
   ],
   "source": [
    "valor = 1\n",
    "valor /= 0"
   ]
  },
  {
   "cell_type": "code",
   "execution_count": 10,
   "metadata": {},
   "outputs": [
    {
     "ename": "IndexError",
     "evalue": "list index out of range",
     "output_type": "error",
     "traceback": [
      "\u001b[1;31m---------------------------------------------------------------------------\u001b[0m",
      "\u001b[1;31mIndexError\u001b[0m                                Traceback (most recent call last)",
      "\u001b[1;32mc:\\Users\\USUARIO\\Documents\\TI\\Python\\Cisco\\MOD5.ipynb Cell 40'\u001b[0m in \u001b[0;36m<cell line: 2>\u001b[1;34m()\u001b[0m\n\u001b[0;32m      <a href='vscode-notebook-cell:/c%3A/Users/USUARIO/Documents/TI/Python/Cisco/MOD5.ipynb#ch0000039?line=0'>1</a>\u001b[0m lista \u001b[39m=\u001b[39m []\n\u001b[1;32m----> <a href='vscode-notebook-cell:/c%3A/Users/USUARIO/Documents/TI/Python/Cisco/MOD5.ipynb#ch0000039?line=1'>2</a>\u001b[0m x \u001b[39m=\u001b[39m lista[\u001b[39m0\u001b[39;49m]\n",
      "\u001b[1;31mIndexError\u001b[0m: list index out of range"
     ]
    }
   ],
   "source": [
    "lista = []\n",
    "x = lista[0]"
   ]
  },
  {
   "cell_type": "markdown",
   "metadata": {},
   "source": [
    "***Instrucciones try-except***"
   ]
  },
  {
   "cell_type": "markdown",
   "metadata": {},
   "source": [
    "- Primero, se debe intentar (try) hacer algo.\n",
    "- Después, tienes que comprobar si todo salió bien."
   ]
  },
  {
   "cell_type": "code",
   "execution_count": 1,
   "metadata": {},
   "outputs": [
    {
     "name": "stdout",
     "output_type": "stream",
     "text": [
      "1\n",
      "Oh cielos, algo salio mal...\n",
      "3\n"
     ]
    }
   ],
   "source": [
    "try:\n",
    "    print(\"1\")\n",
    "    x = 1 / 0\n",
    "    print(\"2\")\n",
    "except:\n",
    "    print(\"Oh cielos, algo salio mal...\")\n",
    "\n",
    "print(\"3\")\n",
    "\n"
   ]
  },
  {
   "cell_type": "markdown",
   "metadata": {},
   "source": [
    "- Lineas 01 - 04: La palabra reservada try comienza con un bloque de código el cual puede o no estar funcionando correctamente. Después, Python intenta realizar la acción arriesgada: si falla, se genera una excepción y Python comienza a buscar una solución.\n",
    "- Lineas 05 & 06: La palabra reservada except comienza con un bloque de código que será ejecutado si algo dentro del bloque try sale mal - si se genera una excepción dentro del bloque anterior try, fallará aquí, entonces el código ubicado después de la palabra clave except debería proporcionar una reacción adecuada a la excepción planteada.\n",
    "- Linea 08: Se regresa al nivel de anidación anterior, es decir, se termina la sección try-except."
   ]
  },
  {
   "cell_type": "markdown",
   "metadata": {},
   "source": [
    "Nota: la instrucción print(\"2\") se perdió en el proceso. Si algo sale mal dentro del bloque try: o except:, la ejecución salta inmediatamente fuera del bloque y entra en la primera instrucción ubicada después de la palabra reservada except: : esto significa que algunas de las instrucciones del bloque pueden ser silenciosamente omitidas.\n"
   ]
  },
  {
   "cell_type": "markdown",
   "metadata": {},
   "source": [
    "¿Como saber que tipo de excepción ocurrió? Técnicamente, hay dos formas de resolver el problema:\n",
    "\n",
    "- Construir dos bloques consecutivos try-except, uno por cada posible motivo de excepción (fácil, pero provocará un crecimiento desfavorable del código).\n",
    "- Emplear una variante más avanzada de la instrucción.\n",
    "\n",
    "Se parece a esto:\n"
   ]
  },
  {
   "cell_type": "code",
   "execution_count": null,
   "metadata": {},
   "outputs": [],
   "source": [
    "try:\n",
    "    x = int(input(\"Ingresa un numero: \"))\n",
    "    y = 1 / x\n",
    "    print(y)\n",
    "except ZeroDivisionError: #except exc1:\n",
    "    print(\"No puedes dividir entre cero, lo siento.\")\n",
    "except ValueError: #except exc2:\n",
    "    print(\"Debes ingresar un valor entero.\")\n",
    "except:\n",
    "    print(\"Oh cielos, algo salio mal...\")\n",
    "\n",
    "print(\"THE END.\")"
   ]
  },
  {
   "cell_type": "markdown",
   "metadata": {},
   "source": [
    "- Si el try lanza la excepción exc1, esta será manejada por el bloque except exc1:.\n",
    "- De la misma manera, si el try lanza la excepción exc2, esta será manejada por el bloque except exc2:.\n",
    "- Si el try lanza cualquier otra excepción, será manejado por el bloque sin nombre except."
   ]
  },
  {
   "cell_type": "markdown",
   "metadata": {},
   "source": [
    "Nota: si se emplea el try, debes poner al menos un except (nombrado o no) después de el."
   ]
  },
  {
   "cell_type": "markdown",
   "metadata": {},
   "source": [
    "¿Qué ocurre si ninguno de los bloques except especificados coincide con la excepción planteada? Simple, la excepción permanece sin manejar"
   ]
  },
  {
   "cell_type": "code",
   "execution_count": 2,
   "metadata": {},
   "outputs": [
    {
     "ename": "ZeroDivisionError",
     "evalue": "division by zero",
     "output_type": "error",
     "traceback": [
      "\u001b[1;31m---------------------------------------------------------------------------\u001b[0m",
      "\u001b[1;31mZeroDivisionError\u001b[0m                         Traceback (most recent call last)",
      "\u001b[1;32mc:\\Users\\USUARIO\\Documents\\TI\\Python\\Cisco\\MOD5.ipynb Cell 9'\u001b[0m in \u001b[0;36m<cell line: 1>\u001b[1;34m()\u001b[0m\n\u001b[0;32m      <a href='vscode-notebook-cell:/c%3A/Users/USUARIO/Documents/TI/Python/Cisco/MOD5.ipynb#ch0000008?line=0'>1</a>\u001b[0m \u001b[39mtry\u001b[39;00m:\n\u001b[0;32m      <a href='vscode-notebook-cell:/c%3A/Users/USUARIO/Documents/TI/Python/Cisco/MOD5.ipynb#ch0000008?line=1'>2</a>\u001b[0m     x \u001b[39m=\u001b[39m \u001b[39mint\u001b[39m(\u001b[39minput\u001b[39m(\u001b[39m\"\u001b[39m\u001b[39mIngresa un numero: \u001b[39m\u001b[39m\"\u001b[39m))\n\u001b[1;32m----> <a href='vscode-notebook-cell:/c%3A/Users/USUARIO/Documents/TI/Python/Cisco/MOD5.ipynb#ch0000008?line=2'>3</a>\u001b[0m     y \u001b[39m=\u001b[39m \u001b[39m1\u001b[39;49m \u001b[39m/\u001b[39;49m x\n\u001b[0;32m      <a href='vscode-notebook-cell:/c%3A/Users/USUARIO/Documents/TI/Python/Cisco/MOD5.ipynb#ch0000008?line=3'>4</a>\u001b[0m     \u001b[39mprint\u001b[39m(y)\n\u001b[0;32m      <a href='vscode-notebook-cell:/c%3A/Users/USUARIO/Documents/TI/Python/Cisco/MOD5.ipynb#ch0000008?line=4'>5</a>\u001b[0m \u001b[39mexcept\u001b[39;00m \u001b[39mValueError\u001b[39;00m:\n",
      "\u001b[1;31mZeroDivisionError\u001b[0m: division by zero"
     ]
    }
   ],
   "source": [
    "try:\n",
    "    x = int(input(\"Ingresa un numero: \"))\n",
    "    y = 1 / x\n",
    "    print(y)\n",
    "except ValueError:\n",
    "    print(\"Debes ingresar un valor entero.\")\n",
    "\n",
    "print(\"FIN.\")"
   ]
  },
  {
   "cell_type": "markdown",
   "metadata": {},
   "source": [
    "***Excepciones integradas***"
   ]
  },
  {
   "cell_type": "markdown",
   "metadata": {},
   "source": [
    "Python 3 define 63 excepciones integradas, y todos ellos forman una jerarquía en forma de árbol:"
   ]
  },
  {
   "cell_type": "markdown",
   "metadata": {},
   "source": [
    "<img src=\"Arbol de excepciones.JPG\"/>"
   ]
  },
  {
   "cell_type": "markdown",
   "metadata": {},
   "source": [
    "Algunas de las excepciones integradas son más generales (incluyen otras excepciones) mientras que otras son completamente concretas (solo se representan a sí mismas). Podemos decir que cuanto más cerca de la raíz se encuentra una excepción, más general (abstracta) es. A su vez, las excepciones ubicadas en los extremos del árbol (podemos llamarlas hojas) son concretas. Por ejemplo:"
   ]
  },
  {
   "cell_type": "markdown",
   "metadata": {},
   "source": [
    "- ZeroDivisionError es un caso especial de una clase de excepción más general llamada ArithmeticError.\n",
    "- ArithmeticError es un caso especial de una clase de excepción más general llamada solo Exception.\n",
    "- Exception es un caso especial de una clase más general llamada BaseException.\n",
    "Podemos describirlo de la siguiente manera (observa la dirección de las flechas; siempre apuntan a la entidad más general):\n",
    "\n"
   ]
  },
  {
   "cell_type": "raw",
   "metadata": {},
   "source": [
    "BaseException\n",
    "↑\n",
    "Exception\n",
    "↑\n",
    "ArithmeticError\n",
    "↑\n",
    "ZeroDivisionError"
   ]
  },
  {
   "cell_type": "code",
   "execution_count": 3,
   "metadata": {},
   "outputs": [
    {
     "name": "stdout",
     "output_type": "stream",
     "text": [
      "Uuuppsss...\n",
      "FIN.\n"
     ]
    }
   ],
   "source": [
    "try:\n",
    "    y = 1 / 0\n",
    "except ZeroDivisionError:\n",
    "    print(\"Uuuppsss...\")\n",
    "\n",
    "print(\"FIN.\")"
   ]
  },
  {
   "cell_type": "code",
   "execution_count": 4,
   "metadata": {},
   "outputs": [
    {
     "name": "stdout",
     "output_type": "stream",
     "text": [
      "Uuuppsss...\n",
      "FIN.\n"
     ]
    }
   ],
   "source": [
    "try:\n",
    "    y = 1 / 0\n",
    "except ArithmeticError:\n",
    "    print(\"Uuuppsss...\")\n",
    "\n",
    "print(\"FIN.\")"
   ]
  },
  {
   "cell_type": "markdown",
   "metadata": {},
   "source": [
    "ArithmeticError es una excepción abstracta que incluye todas las excepciones causadas por operaciones aritméticas como división cero o dominio inválido de un argumento.\n",
    "\n",
    "Como ArithmeticError es una clase general que incluye (entre otras) la excepción ZeroDivisionError, la salida del código permanece sin cambios.\n",
    "\n",
    "Esto también significa que reemplazar el nombre de la excepción ya sea con Exception o BaseException no cambiará el comportamiento del programa."
   ]
  },
  {
   "cell_type": "markdown",
   "metadata": {},
   "source": [
    "En conclusión:\n",
    "\n",
    "- Cada excepción cae en la primer coincidencia.\n",
    "- La coincidencia correspondiente no tiene que especificar exactamente la misma excepción, es suficiente que la excepción sea mas general (mas abstracta) que la lanzada."
   ]
  },
  {
   "cell_type": "code",
   "execution_count": 5,
   "metadata": {},
   "outputs": [
    {
     "name": "stdout",
     "output_type": "stream",
     "text": [
      "¡División entre Cero!\n",
      "FIN.\n"
     ]
    }
   ],
   "source": [
    "try:\n",
    "    y = 1 / 0\n",
    "except ZeroDivisionError:\n",
    "    print(\"¡División entre Cero!\")\n",
    "except ArithmeticError:\n",
    "    print(\"¡Problema aritmético!\")\n",
    "\n",
    "print(\"FIN.\")"
   ]
  },
  {
   "cell_type": "code",
   "execution_count": 6,
   "metadata": {},
   "outputs": [
    {
     "name": "stdout",
     "output_type": "stream",
     "text": [
      "¡Problema aritmético!\n",
      "FIN.\n"
     ]
    }
   ],
   "source": [
    "try:\n",
    "    y = 1 / 0\n",
    "except ArithmeticError:\n",
    "    print(\"¡Problema aritmético!\")\n",
    "except ZeroDivisionError:\n",
    "    print(\"¡División entre Cero!\")\n",
    "\n",
    "print(\"FIN.\")"
   ]
  },
  {
   "cell_type": "markdown",
   "metadata": {},
   "source": [
    "La excepción es la misma, pero la excepción más general ahora aparece primero: también capturará todas las divisiones entre cero. También significa que no hay posibilidad de que alguna excepción llegue a ZeroDivisionError. Ahora es completamente inalcanzable."
   ]
  },
  {
   "cell_type": "markdown",
   "metadata": {},
   "source": [
    "Lo mejor es no poner excepciones más generales antes que otras más concretas."
   ]
  },
  {
   "cell_type": "markdown",
   "metadata": {},
   "source": [
    "Si se desea manejar dos o mas excepciones de la misma manera, puedes usar la siguiente sintaxis:"
   ]
  },
  {
   "cell_type": "code",
   "execution_count": 7,
   "metadata": {},
   "outputs": [
    {
     "name": "stdout",
     "output_type": "stream",
     "text": [
      "¡División entre Cero!\n"
     ]
    }
   ],
   "source": [
    "try:\n",
    "    y = 1 / 0\n",
    "except (ArithmeticError, ZeroDivisionError): #except (exc1, exc2):\n",
    "    print(\"¡División entre Cero!\")"
   ]
  },
  {
   "cell_type": "markdown",
   "metadata": {},
   "source": [
    "Si una excepción se genera dentro de una función, puede ser manejada:\n",
    "\n",
    "- Dentro de la función.\n",
    "- Fuera de la función."
   ]
  },
  {
   "cell_type": "code",
   "execution_count": 12,
   "metadata": {},
   "outputs": [
    {
     "name": "stdout",
     "output_type": "stream",
     "text": [
      "¡Problema aritmético!\n",
      "FIN.\n"
     ]
    }
   ],
   "source": [
    "#Dentro de la función\n",
    "\n",
    "def badFun(n):\n",
    "    try:\n",
    "        return 1 / n\n",
    "    except ArithmeticError:\n",
    "        print(\"¡Problema aritmético!\")\n",
    "    return None\n",
    "\n",
    "badFun(0)\n",
    "\n",
    "print(\"FIN.\")"
   ]
  },
  {
   "cell_type": "code",
   "execution_count": 12,
   "metadata": {},
   "outputs": [
    {
     "name": "stdout",
     "output_type": "stream",
     "text": [
      "¿Que pasó? ¡Se lanzo una excepción!\n",
      "FIN.\n"
     ]
    }
   ],
   "source": [
    "#Fuera de la función\n",
    "\n",
    "def badFun(n):\n",
    "    return 1 / n\n",
    "\n",
    "try:\n",
    "    badFun(0)\n",
    "except ArithmeticError:\n",
    "    print(\"¿Que pasó? ¡Se lanzo una excepción!\")\n",
    "\n",
    "print(\"FIN.\")"
   ]
  },
  {
   "cell_type": "markdown",
   "metadata": {},
   "source": [
    "***Instrucción raise***"
   ]
  },
  {
   "cell_type": "markdown",
   "metadata": {},
   "source": [
    "La instrucción raise genera la excepción especificada denominada exc como si fuese generada de manera natural:\n",
    "\n"
   ]
  },
  {
   "cell_type": "code",
   "execution_count": null,
   "metadata": {
    "vscode": {
     "languageId": "bat"
    }
   },
   "outputs": [],
   "source": [
    "raise exc"
   ]
  },
  {
   "cell_type": "markdown",
   "metadata": {},
   "source": [
    "Nota: raise es una palabra reservada.\n",
    "\n",
    "La instrucción permite:\n",
    "\n",
    "- Simular excepciones reales (por ejemplo, para probar tu estrategia de manejo de excepciones).\n",
    "- Parcialmente manejar una excepción y hacer que otra parte del código sea responsable de completar el manejo."
   ]
  },
  {
   "cell_type": "code",
   "execution_count": 3,
   "metadata": {},
   "outputs": [
    {
     "name": "stdout",
     "output_type": "stream",
     "text": [
      "¿Que pasó? ¿Un error?\n",
      "FIN.\n"
     ]
    }
   ],
   "source": [
    "def badFun(n):\n",
    "    raise KeyError\n",
    "\n",
    "try:\n",
    "    badFun(0)\n",
    "except LookupError:\n",
    "    print(\"¿Que pasó? ¿Un error?\")\n",
    "\n",
    "print(\"FIN.\")"
   ]
  },
  {
   "cell_type": "markdown",
   "metadata": {},
   "source": [
    "La instrucción raise también se puede utilizar de la siguiente manera (toma en cuenta la ausencia del nombre de la excepción):\n"
   ]
  },
  {
   "cell_type": "code",
   "execution_count": null,
   "metadata": {
    "vscode": {
     "languageId": "bat"
    }
   },
   "outputs": [],
   "source": [
    "raise"
   ]
  },
  {
   "cell_type": "markdown",
   "metadata": {},
   "source": [
    "Existe una seria restricción: esta variante de la instrucción raise puede ser utilizada solamente dentro de la rama except; usarla en cualquier otro contexto causa un error.\n",
    "\n",
    "La instrucción volverá a generar la misma excepción que se maneja actualmente."
   ]
  },
  {
   "cell_type": "code",
   "execution_count": 15,
   "metadata": {},
   "outputs": [
    {
     "name": "stdout",
     "output_type": "stream",
     "text": [
      "¡Lo hice otra vez!\n",
      "¡Ya veo!\n",
      "FIN.\n"
     ]
    }
   ],
   "source": [
    "def badFun(n):\n",
    "    try:\n",
    "        return n / 0\n",
    "    except:\n",
    "        print(\"¡Lo hice otra vez!\")\n",
    "        raise\n",
    "try:\n",
    "    badFun(3)\n",
    "except ArithmeticError:\n",
    "    print(\"¡Ya veo!\")\n",
    "\n",
    "print(\"FIN.\")"
   ]
  },
  {
   "cell_type": "markdown",
   "metadata": {},
   "source": [
    "La excepción ZeroDivisionError es generada dos veces:\n",
    "\n",
    "- Primero, dentro del try debido a que se intentó realizar una división entre cero.\n",
    "- Segundo, dentro de la parte except por la instrucción raise."
   ]
  },
  {
   "cell_type": "markdown",
   "metadata": {},
   "source": [
    "***Instrucción assert***"
   ]
  },
  {
   "cell_type": "markdown",
   "metadata": {},
   "source": [
    "Su sintaxis es la siguiente:"
   ]
  },
  {
   "cell_type": "raw",
   "metadata": {},
   "source": [
    "assert expresión"
   ]
  },
  {
   "cell_type": "markdown",
   "metadata": {},
   "source": [
    "¿Como funciona?\n",
    "\n",
    "1. Evalúa la expresión.\n",
    "2. Si la expresión se evalúa como True (verdadero), o un valor numérico distinto de cero, o una cadena no vacía, o cualquier otro valor diferente de None, no hará nada más.\n",
    "3. De lo contrario, automáticamente e inmediatamente genera una excepción llamada AssertionError (en este caso, decimos que la afirmación ha fallado)."
   ]
  },
  {
   "cell_type": "code",
   "execution_count": 8,
   "metadata": {},
   "outputs": [
    {
     "ename": "AssertionError",
     "evalue": "",
     "output_type": "error",
     "traceback": [
      "\u001b[1;31m---------------------------------------------------------------------------\u001b[0m",
      "\u001b[1;31mAssertionError\u001b[0m                            Traceback (most recent call last)",
      "\u001b[1;32mc:\\Users\\USUARIO\\Documents\\TI\\Python\\Cisco\\MOD5.ipynb Cell 15'\u001b[0m in \u001b[0;36m<cell line: 4>\u001b[1;34m()\u001b[0m\n\u001b[0;32m      <a href='vscode-notebook-cell:/c%3A/Users/USUARIO/Documents/TI/Python/Cisco/MOD5.ipynb#ch0000014?line=0'>1</a>\u001b[0m \u001b[39mimport\u001b[39;00m \u001b[39mmath\u001b[39;00m\n\u001b[0;32m      <a href='vscode-notebook-cell:/c%3A/Users/USUARIO/Documents/TI/Python/Cisco/MOD5.ipynb#ch0000014?line=2'>3</a>\u001b[0m x \u001b[39m=\u001b[39m \u001b[39mfloat\u001b[39m(\u001b[39minput\u001b[39m(\u001b[39m\"\u001b[39m\u001b[39mIngresa un numero: \u001b[39m\u001b[39m\"\u001b[39m))\n\u001b[1;32m----> <a href='vscode-notebook-cell:/c%3A/Users/USUARIO/Documents/TI/Python/Cisco/MOD5.ipynb#ch0000014?line=3'>4</a>\u001b[0m \u001b[39massert\u001b[39;00m x \u001b[39m>\u001b[39m\u001b[39m=\u001b[39m \u001b[39m0.0\u001b[39m\n\u001b[0;32m      <a href='vscode-notebook-cell:/c%3A/Users/USUARIO/Documents/TI/Python/Cisco/MOD5.ipynb#ch0000014?line=5'>6</a>\u001b[0m x \u001b[39m=\u001b[39m math\u001b[39m.\u001b[39msqrt(x)\n\u001b[0;32m      <a href='vscode-notebook-cell:/c%3A/Users/USUARIO/Documents/TI/Python/Cisco/MOD5.ipynb#ch0000014?line=7'>8</a>\u001b[0m \u001b[39mprint\u001b[39m(x)\n",
      "\u001b[1;31mAssertionError\u001b[0m: "
     ]
    }
   ],
   "source": [
    "import math\n",
    "\n",
    "x = float(input(\"Ingresa un numero: \"))\n",
    "assert x >= 0.0\n",
    "\n",
    "x = math.sqrt(x)\n",
    "\n",
    "print(x)"
   ]
  },
  {
   "cell_type": "code",
   "execution_count": 19,
   "metadata": {},
   "outputs": [
    {
     "name": "stdout",
     "output_type": "stream",
     "text": [
      "5.671281819617707\n"
     ]
    }
   ],
   "source": [
    "from math import tan, radians\n",
    "angle = int(input('Ingresa el angulo entero en grados: '))\n",
    "\n",
    "# debemos estar seguros de ese angulo != 90 + k * 180\n",
    "assert angle % 180 != 90\n",
    "print(tan(radians(angle)))\n"
   ]
  },
  {
   "cell_type": "markdown",
   "metadata": {},
   "source": [
    "¿Cómo puede ser utilizada?\n",
    "\n",
    "- Puedes ponerlo en la parte del código donde quieras estar absolutamente a salvo de datos incorrectos, y donde no estés absolutamente seguro de que los datos hayan sido examinados cuidadosamente antes (por ejemplo, dentro de una función utilizada por otra persona).\n",
    "- El generar una excepción AssertionError asegura que tu código no produzca resultados no válidos y muestra claramente la naturaleza de la falla.\n",
    "- Las aserciones no reemplazan las excepciones ni validan los datos, son suplementos.\n",
    "\n",
    "Si las excepciones y la validación de datos son como conducir con cuidado, la aserción puede desempeñar el papel de una bolsa de aire.\n",
    "\n",
    "A continuación se muestra su ubicación en el arbol de excepciones:"
   ]
  },
  {
   "cell_type": "raw",
   "metadata": {},
   "source": [
    "BaseException ← Exception ← AssertionError"
   ]
  },
  {
   "cell_type": "markdown",
   "metadata": {},
   "source": [
    "A continuación, se mostrará una breve lista de otras excepciones igual de útiles, con su ubicación en el arbol de excepciones, descripción y un fragmento de código conciso que muestre las circunstancias en las que se puede generar la excepción:"
   ]
  },
  {
   "cell_type": "markdown",
   "metadata": {},
   "source": [
    "***BaseException***\n",
    "\n",
    "* Ubicación:\n",
    "\n"
   ]
  },
  {
   "cell_type": "raw",
   "metadata": {},
   "source": [
    "BaseException"
   ]
  },
  {
   "cell_type": "markdown",
   "metadata": {},
   "source": [
    "* Descripción:\n",
    "\n",
    "La excepción más general (abstracta) de todas las excepciones de Python: todas las demás excepciones se incluyen en esta; se puede decir que las siguientes dos excepciones son equivalentes: except: y except BaseException:."
   ]
  },
  {
   "cell_type": "markdown",
   "metadata": {},
   "source": [
    "***IndexError***\n",
    "\n",
    "* Ubicación:\n",
    "\n"
   ]
  },
  {
   "cell_type": "raw",
   "metadata": {},
   "source": [
    "BaseException ← Exception ← LookupError ← IndexError\n"
   ]
  },
  {
   "cell_type": "markdown",
   "metadata": {},
   "source": [
    "* Descripción:\n",
    "\n",
    "Una excepción concreta que surge cuando se intenta acceder al elemento de una secuencia inexistente (por ejemplo, el elemento de una lista).\n",
    "\n",
    "* Código:\n"
   ]
  },
  {
   "cell_type": "code",
   "execution_count": 22,
   "metadata": {},
   "outputs": [
    {
     "name": "stdout",
     "output_type": "stream",
     "text": [
      "1\n",
      "2\n",
      "3\n",
      "4\n",
      "5\n",
      "Listo\n"
     ]
    }
   ],
   "source": [
    "# el codigo muestra una forma extravagante\n",
    "# de dejar el bucle\n",
    "\n",
    "lista = [1, 2, 3, 4, 5]\n",
    "ix = 0\n",
    "doit = True\n",
    "\n",
    "while doit:\n",
    "    try:\n",
    "        print(lista[ix])\n",
    "        ix += 1\n",
    "    except IndexError:\n",
    "        doit = False\n",
    "\n",
    "print('Listo')"
   ]
  },
  {
   "cell_type": "markdown",
   "metadata": {},
   "source": [
    "***KeyboardInterrupt***\n",
    "\n",
    "* Ubicación:\n"
   ]
  },
  {
   "cell_type": "raw",
   "metadata": {},
   "source": [
    "BaseException ← KeyboardInterrupt\n"
   ]
  },
  {
   "cell_type": "markdown",
   "metadata": {},
   "source": [
    "* Descripción:\n",
    "\n",
    "Una excepción concreta que surge cuando el usuario usa un atajo de teclado diseñado para terminar la ejecución de un programa (Ctrl-C en la mayoría de los Sistemas Operativos); si manejar esta excepción no conduce a la terminación del programa, el programa continúa su ejecución. Nota: esta excepción no se deriva de la clase Exception. \n",
    "\n",
    "* Código:\n"
   ]
  },
  {
   "cell_type": "code",
   "execution_count": null,
   "metadata": {},
   "outputs": [],
   "source": [
    "\n",
    "# este código no puede ser terminado\n",
    "# presionando Ctrl-C o el botón 'stop' en Jupyter Notebook. \n",
    "\n",
    "from time import sleep\n",
    "seconds = 0\n",
    "while True:\n",
    "    try:\n",
    "        print(seconds)\n",
    "        seconds += 1\n",
    "        sleep(1)\n",
    "    except KeyboardInterrupt:\n",
    "        print(\"¡No hagas eso!\")"
   ]
  },
  {
   "cell_type": "markdown",
   "metadata": {},
   "source": [
    "***KeyError***\n",
    "\n",
    "* Ubicación:\n"
   ]
  },
  {
   "cell_type": "raw",
   "metadata": {},
   "source": [
    "BaseException ← Exception ← LookupError ← KeyError"
   ]
  },
  {
   "cell_type": "markdown",
   "metadata": {},
   "source": [
    "* Descripción:\n",
    "\n",
    "Una excepción concreta que surge cuando intentas acceder al elemento inexistente de una colección (por ejemplo, el elemento de un diccionario).\n",
    "\n"
   ]
  },
  {
   "cell_type": "markdown",
   "metadata": {},
   "source": [
    "* Código:\n"
   ]
  },
  {
   "cell_type": "code",
   "execution_count": 1,
   "metadata": {},
   "outputs": [
    {
     "name": "stdout",
     "output_type": "stream",
     "text": [
      "b\n",
      "c\n",
      "d\n",
      "No existe tal clave: d\n"
     ]
    }
   ],
   "source": [
    "\n",
    "# como abusar del diccionario\n",
    "# y cómo lidiar con ello\n",
    "\n",
    "dict = { 'a' : 'b', 'b' : 'c', 'c' : 'd' }\n",
    "ch = 'a'\n",
    "try:\n",
    "    while True:\n",
    "        ch = dict[ch]\n",
    "        print(ch)\n",
    "except KeyError:\n",
    "    print('No existe tal clave:', ch)"
   ]
  },
  {
   "cell_type": "code",
   "execution_count": 1,
   "metadata": {},
   "outputs": [],
   "source": [
    "# escribir una función capaz de ingresar valores enteros y verificar si están dentro de un rango especificado."
   ]
  },
  {
   "cell_type": "code",
   "execution_count": null,
   "metadata": {},
   "outputs": [],
   "source": [
    "\n",
    "def readint(prompt, min, max):\n",
    "   try:\n",
    "       assert prompt>=-10 and prompt<=10\n",
    "       return print(\"El numero es:\", prompt)\n",
    "   except AssertionError:\n",
    "       print(\"Error: el valor no está dentro del rango permitido (-10..10)\")\n",
    "       num = readint(int(input(\"Ingrese un número entre -10 y 10\")), -10, 10)\n",
    "  \n",
    "Correct = False\n",
    "while Correct == False:\n",
    "    try: \n",
    "        num = readint(int(input(\"Ingrese un número entre -10 y 10\")), -10, 10)\n",
    "        Correct = True\n",
    "    except ValueError: print(\"Error: entrada incorrecta\")\n",
    "\n"
   ]
  },
  {
   "cell_type": "markdown",
   "metadata": {},
   "source": [
    "**Caracteres y Cadenas**"
   ]
  },
  {
   "cell_type": "markdown",
   "metadata": {},
   "source": [
    "***ASCII (American Standard Code for Information Interchange)***. "
   ]
  },
  {
   "cell_type": "markdown",
   "metadata": {},
   "source": [
    "Las computadoras almacenan los caracteres como números. Cada carácter utilizado por una computadora corresponde a un número único, y viceversa. Muchos de ellos son invisibles para los humanos, pero esenciales para las computadoras.   Algunos de estos caracteres se llaman espacios en blanco, mientras que otros se nombran caracteres de control, porque su propósito es controlar dispositivos de entrada / salida.\n",
    "\n",
    "Este sistema ha llevado a la necesidad de introducir un estándar universal y ampliamente aceptado, implementado por (casi) todas las computadoras y sistemas operativos en todo el mundo. \n",
    "\n",
    "El denominado ASCII es el más utilizado, y es posible suponer que casi todos los dispositivos modernos (como computadoras, impresoras, teléfonos móviles, tabletas, etc.) usan este código. \n",
    "\n",
    "A continuación se muestra una tabla de 128 caracteres con sus equivalentes en los tres sistemas númericos que hasta ahora se han trabajado:"
   ]
  },
  {
   "cell_type": "markdown",
   "metadata": {},
   "source": [
    "<img src=\"https://www.asciitable.xyz/images/ascii-table.png\"/>"
   ]
  },
  {
   "cell_type": "markdown",
   "metadata": {},
   "source": [
    "En total consta de 256 caracteres pero solo los primeros 128 se usan para el alfabeto latino estándar (tanto en mayúsculas como en minúsculas). El código ASCII emplea ocho bits para cada signo. Ocho bits significan 256 caracteres diferentes. "
   ]
  },
  {
   "cell_type": "markdown",
   "metadata": {},
   "source": [
    "Ahora verifica el código de la letra minúscula a. El cual es 97. Ahora encuentra la A mayúscula. Su codigo es 65. Ahora calcula la diferencia entre el código de la a y la A. Es igual a 32. Ese es el códgo del espacio. Interesante, ¿no es así?\n",
    "\n",
    "Ahora, el alfabeto latino no es suficiente para toda la humanidad. Los usuarios de ese alfabeto son minoría. Era necesario idear algo más flexible y capaz que ASCII, algo capaz de hacer que todo el software del mundo sea susceptible de internacionalización, porque diferentes idiomas usan alfabetos completamente diferentes, y a veces estos alfabetos no son tan simples como el latino.\n",
    "\n",
    "La palabra internacionalización se acorta comúnmente a I18N."
   ]
  },
  {
   "cell_type": "markdown",
   "metadata": {},
   "source": [
    "***I18N (Internacionalization)***"
   ]
  },
  {
   "cell_type": "markdown",
   "metadata": {},
   "source": [
    "* Puntos de código:\n",
    "\n",
    "Un punto de código es un numero que compone un caracter. Por ejemplo, 32 es un punto de código que compone un espacio en codificación ASCII. Podemos decir que el código ASCII estándar consta de 128 puntos de código. Como el ASCII estándar ocupa 128 de 256 puntos de código posibles, solo puedes hacer uso de los 128 restantes. No es suficiente para todos los idiomas posibles, pero puede ser suficiente para un idioma o para un pequeño grupo de idiomas similares.\n",
    "\n",
    "¿Se puede establecer la mitad superior de los puntos de código de manera diferente para diferentes idiomas? Si, por supuesto. A tal concepto se le denomina una página de códigos.\n",
    "\n",
    "* Páginas de códigos:\n",
    "\n",
    "Una página de códigos es un estándar para usar los 128 puntos de código superiores (restantes) para almacenar caracteres específicos. Por ejemplo, hay diferentes páginas de códigos para Europa Occidental y Europa del Este, alfabetos cirílicos y griegos, idiomas árabe y hebreo, etc.\n",
    "\n",
    "Esto significa que el mismo punto de código puede formar diferentes caracteres cuando se usa en diferentes páginas de códigos.\n",
    "\n",
    "Por ejemplo, el punto de código 200 forma una Č (una letra usada por algunas lenguas eslavas) cuando lo utiliza la página de códigos ISO/IEC 8859-2, pero forma un Ш (una letra cirílica) cuando es usado por la página de códigos ISO/IEC 8859-5."
   ]
  },
  {
   "cell_type": "markdown",
   "metadata": {},
   "source": [
    "Las páginas de códigos ayudaron a la industria informática a resolver problemas de I18N durante algún tiempo, pero pronto resultó que no serían una solución permanente.\n",
    "\n",
    "El concepto que resolvió el problema a largo plazo fue el Unicode."
   ]
  },
  {
   "cell_type": "markdown",
   "metadata": {},
   "source": [
    "***Unicode***\n",
    "\n",
    "Unicode asigna caracteres únicos (letras, guiones, ideogramas, etc.) a más de un millón de puntos de código. Los primeros 128 puntos de código Unicode son idénticos a ASCII, y los primeros 256 puntos de código Unicode son idénticos a la página de códigos ISO / IEC 8859-1 (una página de códigos diseñada para idiomas de Europa occidental).\n",
    "\n",
    "El estándar Unicode no dice nada sobre cómo codificar y almacenar los caracteres en la memoria y los archivos. Solo nombra todos los caracteres disponibles y los asigna a planos (un grupo de caracteres de origen, aplicación o naturaleza similares)."
   ]
  },
  {
   "cell_type": "markdown",
   "metadata": {},
   "source": [
    "Existe más de un estándar que describe las técnicas utilizadas para implementar Unicode en computadoras y sistemas de almacenamiento informáticos reales. El más general de ellos es UCS-4.\n",
    "\n",
    "* ***UCS-4***\n",
    "\n",
    "El nombre viene de Universal Character Set (Conjunto de Caracteres Universales).\n",
    "\n",
    "UCS-4 emplea 32 bits (cuatro bytes) para almacenar cada caracter, y el código es solo el número único de los puntos de código Unicode. Un archivo que contiene texto codificado UCS-4 puede comenzar con un BOM (byte order mark - marca de orden de bytes), una combinación no imprimible de bits que anuncia la naturaleza del contenido del archivo. Algunas utilidades pueden requerirlo.\n",
    "\n"
   ]
  },
  {
   "cell_type": "markdown",
   "metadata": {},
   "source": [
    "Como puedes ver, UCS-4 es un estándar bastante derrochador: aumenta el tamaño de un texto cuatro veces en comparación con el estándar ASCII. Afortunadamente, hay formas más inteligentes de codificar textos Unicode. Uno de los más utilizados es UTF-8.\n",
    "\n",
    "* ***UTF-8***\n",
    "\n",
    "El nombre se deriva de Unicode Transformation Format (Formato de Transformación Unicode).\n",
    "\n",
    "El concepto es muy inteligente. UTF-8 emplea tantos bits para cada uno de los puntos de código como realmente necesita para representarlos.\n",
    "\n",
    "\n",
    "Por ejemplo:\n",
    "\n",
    "- Todos los caracteres latinos (y todos los caracteres ASCII estándar) ocupan ocho bits.\n",
    "- Los caracteres no latinos ocupan 16 bits.\n",
    "- Los ideógrafos CJK (China-Japón-Corea) ocupan 24 bits.\n",
    "\n",
    "Debido a las características del método utilizado por UTF-8 para almacenar los puntos de código, no es necesario usar el BOM, pero algunas de las herramientas lo buscan al leer el archivo, y muchos editores lo configuran durante el guardado.\n",
    "\n",
    "Python 3 es totalmente compatible con Unicode y UTF-8:\n",
    "\n",
    "- Puedes usar caracteres codificados Unicode / UTF-8 para nombrar variables y otras entidades.\n",
    "- Puedes usarlos durante todas las entradas y salidas.\n",
    "\n",
    "Esto significa que Python3 está completamente Internacionalizado."
   ]
  },
  {
   "cell_type": "markdown",
   "metadata": {},
   "source": [
    "***Cadenas (string)***"
   ]
  },
  {
   "cell_type": "markdown",
   "metadata": {},
   "source": [
    "En primer lugar, las cadenas de Python (o simplemente cadenas, ya que no vamos a discutir las cadenas de ningún otro lenguaje) son secuencias inmutables, al igual que las tuplas. "
   ]
  },
  {
   "cell_type": "code",
   "execution_count": 2,
   "metadata": {},
   "outputs": [
    {
     "name": "stdout",
     "output_type": "stream",
     "text": [
      "3\n",
      "0\n",
      "3\n"
     ]
    }
   ],
   "source": [
    "# Ejemplo 1\n",
    "\n",
    "palabra = 'por'\n",
    "print(len(palabra))\n",
    "\n",
    "\n",
    "# Ejemplo 2\n",
    "\n",
    "vacio = ''\n",
    "print(len(vacio))\n",
    "\n",
    "\n",
    "# Ejemplo 3\n",
    "\n",
    "yo_soy = 'I\\'m' #la diagonal invertida (\\) no esta incluida en la longitud total de la cadena.\n",
    "print(len(yo_soy))"
   ]
  },
  {
   "cell_type": "markdown",
   "metadata": {},
   "source": [
    "***Cadenas multilínea***\n",
    "\n",
    "¿Como usar una cadena que ocupe más de una línea de texto?"
   ]
  },
  {
   "cell_type": "code",
   "execution_count": 8,
   "metadata": {},
   "outputs": [
    {
     "name": "stdout",
     "output_type": "stream",
     "text": [
      "17\n",
      "17\n"
     ]
    }
   ],
   "source": [
    "#opción 1\n",
    "multiLinea = '''Linea #1\n",
    "Linea #2'''\n",
    "\n",
    "print(len(multiLinea))\n",
    "\n",
    "#opción 2\n",
    "multiLinea = \"\"\"Linea #1\n",
    "Linea #2\"\"\"\n",
    "\n",
    "print(len(multiLinea))"
   ]
  },
  {
   "cell_type": "markdown",
   "metadata": {},
   "source": [
    "La Linea #1 contiene ocho caracteres. Las dos líneas juntas contienen 16 caracteres. ¿Perdimos un caracter? ¿Dónde? ¿Cómo?\n",
    "\n",
    "No, no lo hicimos. El caracter que falta es simplemente invisible: es un espacio en blanco. Se encuentra entre las dos líneas de texto. Se denota como: ***\\n*** ."
   ]
  },
  {
   "cell_type": "markdown",
   "metadata": {},
   "source": [
    "***Operaciones con Cadenas***\n",
    "\n",
    "En general, las cadenas pueden ser:\n",
    "\n",
    "- Concatenadas (unidas) (+).\n",
    "- Replicadas (*)."
   ]
  },
  {
   "cell_type": "code",
   "execution_count": 11,
   "metadata": {},
   "outputs": [
    {
     "name": "stdout",
     "output_type": "stream",
     "text": [
      "ab\n",
      "ba\n",
      "aaaaa\n",
      "bbbb\n",
      "aaaaaaaa\n"
     ]
    }
   ],
   "source": [
    "str1 = 'a'\n",
    "str2 = 'b'\n",
    "\n",
    "print(str1 + str2)\n",
    "print(str2 + str1) #el orden es relevante aquí. No es una operación conmutativa\n",
    "print(5 * str1)\n",
    "print(str2 * 4)\n",
    "\n",
    "str1 *= 8\n",
    "print(str1)\n"
   ]
  },
  {
   "cell_type": "markdown",
   "metadata": {},
   "source": [
    "Nota: La capacidad de usar el mismo operador en tipos de datos completamente diferentes (como números o cadenas) se llama overloading - sobrecarga (debido a que el operador está sobrecargado con diferentes tareas)."
   ]
  },
  {
   "cell_type": "markdown",
   "metadata": {},
   "source": [
    "A continuación, se explicaran algunas funciones que pueden utilizar las cadenas y que pueden ser útiles:"
   ]
  },
  {
   "cell_type": "markdown",
   "metadata": {},
   "source": [
    "- Si deseas saber el valor del punto de código ASCII/UNICODE de un caracter específico, puedes usar la función ord() (proveniente de ordinal):"
   ]
  },
  {
   "cell_type": "code",
   "execution_count": 15,
   "metadata": {},
   "outputs": [
    {
     "name": "stdout",
     "output_type": "stream",
     "text": [
      "97\n",
      "32\n",
      "945\n",
      "946\n"
     ]
    }
   ],
   "source": [
    "# Demostrando la función ord ()\n",
    "\n",
    "ch1 = 'a' \n",
    "ch2 = ' ' # espacio\n",
    "ch3 = 'α'\n",
    "ch4 = 'β'\n",
    "\n",
    "\n",
    "print(ord(ch1))\n",
    "print(ord(ch2))\n",
    "print(ord(ch3))\n",
    "print(ord(ch4))"
   ]
  },
  {
   "cell_type": "markdown",
   "metadata": {},
   "source": [
    "La función necesita estrictamente una cadena de un caracter como argumento - incumplir este requisito provoca una excepción TypeError, y devuelve un número que representa el punto de código del argumento."
   ]
  },
  {
   "cell_type": "code",
   "execution_count": 13,
   "metadata": {},
   "outputs": [
    {
     "name": "stdout",
     "output_type": "stream",
     "text": [
      "97\n"
     ]
    },
    {
     "ename": "TypeError",
     "evalue": "ord() expected a character, but string of length 0 found",
     "output_type": "error",
     "traceback": [
      "\u001b[1;31m---------------------------------------------------------------------------\u001b[0m",
      "\u001b[1;31mTypeError\u001b[0m                                 Traceback (most recent call last)",
      "\u001b[1;32mc:\\Users\\USUARIO\\Documents\\TI\\Python\\Cisco\\MOD5.ipynb Cell 180'\u001b[0m in \u001b[0;36m<cell line: 5>\u001b[1;34m()\u001b[0m\n\u001b[0;32m      <a href='vscode-notebook-cell:/c%3A/Users/USUARIO/Documents/TI/Python/Cisco/MOD5.ipynb#ch0000188?line=1'>2</a>\u001b[0m ch2 \u001b[39m=\u001b[39m\u001b[39m\"\u001b[39m\u001b[39m\"\u001b[39m \u001b[39m# espacio\u001b[39;00m\n\u001b[0;32m      <a href='vscode-notebook-cell:/c%3A/Users/USUARIO/Documents/TI/Python/Cisco/MOD5.ipynb#ch0000188?line=3'>4</a>\u001b[0m \u001b[39mprint\u001b[39m(\u001b[39mord\u001b[39m(ch1))\n\u001b[1;32m----> <a href='vscode-notebook-cell:/c%3A/Users/USUARIO/Documents/TI/Python/Cisco/MOD5.ipynb#ch0000188?line=4'>5</a>\u001b[0m \u001b[39mprint\u001b[39m(\u001b[39mord\u001b[39;49m(ch2))\n",
      "\u001b[1;31mTypeError\u001b[0m: ord() expected a character, but string of length 0 found"
     ]
    }
   ],
   "source": [
    "ch1 = 'a' \n",
    "ch2 =\"\" # espacio\n",
    "\n",
    "print(ord(ch1))\n",
    "print(ord(ch2))"
   ]
  },
  {
   "cell_type": "markdown",
   "metadata": {},
   "source": [
    "- Si conoces el punto de código (número) y deseas obtener el carácter correspondiente, puedes usar la función llamada chr(). La función toma un punto de código y devuelve su carácter:"
   ]
  },
  {
   "cell_type": "code",
   "execution_count": 16,
   "metadata": {},
   "outputs": [
    {
     "name": "stdout",
     "output_type": "stream",
     "text": [
      "a\n",
      "α\n"
     ]
    }
   ],
   "source": [
    "print(chr(97))\n",
    "print(chr(945))"
   ]
  },
  {
   "cell_type": "markdown",
   "metadata": {},
   "source": [
    "Desde luego, chr() es la operación inversa de ord():"
   ]
  },
  {
   "cell_type": "code",
   "execution_count": null,
   "metadata": {},
   "outputs": [],
   "source": [
    "x = 'A'\n",
    "\n",
    "print(chr(ord(x)) == x)\n",
    "print(ord(chr(x)) == x)"
   ]
  },
  {
   "cell_type": "markdown",
   "metadata": {},
   "source": [
    "Invocándolo con un argumento inválido (por ejemplo, un punto de código negativo o inválido) provoca las excepciones ValueError o TypeError."
   ]
  },
  {
   "cell_type": "code",
   "execution_count": 17,
   "metadata": {},
   "outputs": [
    {
     "ename": "ValueError",
     "evalue": "chr() arg not in range(0x110000)",
     "output_type": "error",
     "traceback": [
      "\u001b[1;31m---------------------------------------------------------------------------\u001b[0m",
      "\u001b[1;31mValueError\u001b[0m                                Traceback (most recent call last)",
      "\u001b[1;32mc:\\Users\\USUARIO\\Documents\\TI\\Python\\Cisco\\MOD5.ipynb Cell 184'\u001b[0m in \u001b[0;36m<cell line: 1>\u001b[1;34m()\u001b[0m\n\u001b[1;32m----> <a href='vscode-notebook-cell:/c%3A/Users/USUARIO/Documents/TI/Python/Cisco/MOD5.ipynb#ch0000192?line=0'>1</a>\u001b[0m \u001b[39mprint\u001b[39m(\u001b[39mchr\u001b[39;49m(\u001b[39m-\u001b[39;49m\u001b[39m100\u001b[39;49m))\n",
      "\u001b[1;31mValueError\u001b[0m: chr() arg not in range(0x110000)"
     ]
    }
   ],
   "source": [
    "print(chr(-100))"
   ]
  },
  {
   "cell_type": "markdown",
   "metadata": {},
   "source": [
    "***Cadenas como secuencias: indexación***"
   ]
  },
  {
   "cell_type": "code",
   "execution_count": 21,
   "metadata": {},
   "outputs": [
    {
     "name": "stdout",
     "output_type": "stream",
     "text": [
      "s i l l y   w a l k s \n"
     ]
    }
   ],
   "source": [
    "# Indexando cadenas\n",
    "\n",
    "exampleString = 'silly walks'\n",
    "\n",
    "for ix in range(len(exampleString)):\n",
    "    print(exampleString[ix], end=' ')\n",
    "\n",
    "print()"
   ]
  },
  {
   "cell_type": "markdown",
   "metadata": {},
   "source": [
    "***Cadenas como secuencias: iterando***"
   ]
  },
  {
   "cell_type": "markdown",
   "metadata": {},
   "source": [
    "Iterar a través de las cadenas funciona también. Observa el siguiente ejemplo:\n"
   ]
  },
  {
   "cell_type": "code",
   "execution_count": 23,
   "metadata": {},
   "outputs": [
    {
     "name": "stdout",
     "output_type": "stream",
     "text": [
      "s i l l y   w a l k s \n"
     ]
    }
   ],
   "source": [
    "\n",
    "# Iterando a través de una cadena\n",
    "\n",
    "exampleString = 'silly walks'\n",
    "\n",
    "for ch in exampleString:\n",
    "    print(ch, end=' ')\n",
    "\n",
    "print()   #La salida es la misma que el ejemplo anterior\n",
    "\n"
   ]
  },
  {
   "cell_type": "markdown",
   "metadata": {},
   "source": [
    "***Rodajas o Rebanadas***"
   ]
  },
  {
   "cell_type": "code",
   "execution_count": 25,
   "metadata": {},
   "outputs": [
    {
     "name": "stdout",
     "output_type": "stream",
     "text": [
      "bd\n",
      "efg\n",
      "abd\n",
      "e\n",
      "e\n",
      "adf\n",
      "beg\n"
     ]
    }
   ],
   "source": [
    "# Rodajas o rebanadas\n",
    "\n",
    "alpha = \"abdefg\"\n",
    "\n",
    "print(alpha[1:3])\n",
    "print(alpha[3:])\n",
    "print(alpha[:3])\n",
    "print(alpha[3:-2])\n",
    "print(alpha[-3:4])\n",
    "print(alpha[::2])\n",
    "print(alpha[1::2])"
   ]
  },
  {
   "cell_type": "markdown",
   "metadata": {},
   "source": [
    "***Los operadores in y not in***"
   ]
  },
  {
   "cell_type": "code",
   "execution_count": 30,
   "metadata": {},
   "outputs": [
    {
     "name": "stdout",
     "output_type": "stream",
     "text": [
      "True\n",
      "False\n",
      "False\n",
      "False\n",
      "False\n"
     ]
    }
   ],
   "source": [
    "alpfabeto = \"abcdefghijklmnopqrstuvwxyz\"\n",
    "\n",
    "print(\"f\" in alpfabeto)\n",
    "print(\"F\" in alpfabeto)\n",
    "print(\"1\" in alpfabeto)\n",
    "print(\"ghi\" not in alpfabeto)\n",
    "print(\"Xyz\" in alpfabeto)"
   ]
  },
  {
   "cell_type": "markdown",
   "metadata": {},
   "source": [
    "También se ha mencionado que las cadenas de Python son inmutables. Esta es una característica muy importante. ¿Qué significa?.\n",
    "\n",
    "Esto significa que no todo lo que puede hacerse con una lista puede hacerse con una cadena. Por ejemplo, los métodos append() e insert(), ó la instrucción del aplicada a uno o varios elementos, resultan ser ilegales cuando una cadena intenta utilizar:\n"
   ]
  },
  {
   "cell_type": "code",
   "execution_count": 32,
   "metadata": {},
   "outputs": [
    {
     "ename": "TypeError",
     "evalue": "'str' object doesn't support item deletion",
     "output_type": "error",
     "traceback": [
      "\u001b[1;31m---------------------------------------------------------------------------\u001b[0m",
      "\u001b[1;31mTypeError\u001b[0m                                 Traceback (most recent call last)",
      "\u001b[1;32mc:\\Users\\USUARIO\\Documents\\TI\\Python\\Cisco\\MOD5.ipynb Cell 197'\u001b[0m in \u001b[0;36m<cell line: 3>\u001b[1;34m()\u001b[0m\n\u001b[0;32m      <a href='vscode-notebook-cell:/c%3A/Users/USUARIO/Documents/TI/Python/Cisco/MOD5.ipynb#ch0000206?line=0'>1</a>\u001b[0m alfabeto \u001b[39m=\u001b[39m \u001b[39m\"\u001b[39m\u001b[39mabcdefghijklmnopqrstuvwxyz\u001b[39m\u001b[39m\"\u001b[39m\n\u001b[1;32m----> <a href='vscode-notebook-cell:/c%3A/Users/USUARIO/Documents/TI/Python/Cisco/MOD5.ipynb#ch0000206?line=2'>3</a>\u001b[0m \u001b[39mdel\u001b[39;00m alfabeto[\u001b[39m0\u001b[39m]\n",
      "\u001b[1;31mTypeError\u001b[0m: 'str' object doesn't support item deletion"
     ]
    }
   ],
   "source": [
    "alfabeto = \"abcdefghijklmnopqrstuvwxyz\"\n",
    "\n",
    "del alfabeto[0]\n"
   ]
  },
  {
   "cell_type": "code",
   "execution_count": 33,
   "metadata": {},
   "outputs": [
    {
     "ename": "AttributeError",
     "evalue": "'str' object has no attribute 'append'",
     "output_type": "error",
     "traceback": [
      "\u001b[1;31m---------------------------------------------------------------------------\u001b[0m",
      "\u001b[1;31mAttributeError\u001b[0m                            Traceback (most recent call last)",
      "\u001b[1;32mc:\\Users\\USUARIO\\Documents\\TI\\Python\\Cisco\\MOD5.ipynb Cell 198'\u001b[0m in \u001b[0;36m<cell line: 1>\u001b[1;34m()\u001b[0m\n\u001b[1;32m----> <a href='vscode-notebook-cell:/c%3A/Users/USUARIO/Documents/TI/Python/Cisco/MOD5.ipynb#ch0000207?line=0'>1</a>\u001b[0m alfabeto\u001b[39m.\u001b[39;49mappend(\u001b[39m\"\u001b[39m\u001b[39mA\u001b[39m\u001b[39m\"\u001b[39m)\n",
      "\u001b[1;31mAttributeError\u001b[0m: 'str' object has no attribute 'append'"
     ]
    }
   ],
   "source": [
    "alfabeto.append(\"A\")"
   ]
  },
  {
   "cell_type": "code",
   "execution_count": 34,
   "metadata": {},
   "outputs": [
    {
     "ename": "AttributeError",
     "evalue": "'str' object has no attribute 'insert'",
     "output_type": "error",
     "traceback": [
      "\u001b[1;31m---------------------------------------------------------------------------\u001b[0m",
      "\u001b[1;31mAttributeError\u001b[0m                            Traceback (most recent call last)",
      "\u001b[1;32mc:\\Users\\USUARIO\\Documents\\TI\\Python\\Cisco\\MOD5.ipynb Cell 199'\u001b[0m in \u001b[0;36m<cell line: 1>\u001b[1;34m()\u001b[0m\n\u001b[1;32m----> <a href='vscode-notebook-cell:/c%3A/Users/USUARIO/Documents/TI/Python/Cisco/MOD5.ipynb#ch0000208?line=0'>1</a>\u001b[0m alfabeto\u001b[39m.\u001b[39;49minsert(\u001b[39m0\u001b[39m,\u001b[39m'\u001b[39m\u001b[39mA\u001b[39m\u001b[39m'\u001b[39m)\n",
      "\u001b[1;31mAttributeError\u001b[0m: 'str' object has no attribute 'insert'"
     ]
    }
   ],
   "source": [
    "alfabeto.insert(0,'A')"
   ]
  },
  {
   "cell_type": "markdown",
   "metadata": {},
   "source": [
    "De todas maneras, el hecho de que las cadenas sean secuencias inmutables no es un problema, se puede crear una nueva copia de una cadena y listo:\n"
   ]
  },
  {
   "cell_type": "code",
   "execution_count": 37,
   "metadata": {},
   "outputs": [
    {
     "name": "stdout",
     "output_type": "stream",
     "text": [
      "bcdefghijklmnopqrstuvwxyaz\n"
     ]
    }
   ],
   "source": [
    "alfabeto = \"bcdefghijklmnopqrstuvwxy\"\n",
    "\n",
    "alfabeto += \"a\" \n",
    "alfabeto += \"z\"\n",
    "\n",
    "print(alfabeto)"
   ]
  },
  {
   "cell_type": "markdown",
   "metadata": {},
   "source": [
    "Ahora que sabemos que las cadenas son secuencias, podemos mostrar algunas capacidades de secuencia menos obvias. Las presentaremos utilizando cadenas, pero no olvides que las listas también pueden adoptar los mismos trucos."
   ]
  },
  {
   "cell_type": "markdown",
   "metadata": {},
   "source": [
    "- La función min() encuentra el elemento mínimo de la secuencia pasada como argumento. Existe una condición - la secuencia (cadena o lista) no puede estar vacía, de lo contrario obtendrás una excepción ValueError."
   ]
  },
  {
   "cell_type": "code",
   "execution_count": 38,
   "metadata": {},
   "outputs": [
    {
     "name": "stdout",
     "output_type": "stream",
     "text": [
      "A\n",
      "[ ]\n",
      "0\n"
     ]
    }
   ],
   "source": [
    "# Demonstrando min() - Ejemplo 1\n",
    "print(min(\"aAbByYzZ\"))\n",
    "\n",
    "\n",
    "# Demonstrando min() - Examplos 2 y 3\n",
    "t = 'Los Caballeros Que Dicen \"¡Ni!\"'\n",
    "print('[' + min(t) + ']')\n",
    "\n",
    "t = [0, 1, 2]\n",
    "print(min(t))"
   ]
  },
  {
   "cell_type": "markdown",
   "metadata": {},
   "source": [
    "En el ejmplo 1 la salida es una A mayúscula. ¿Por qué? Recuerda la tabla ASCII, ¿qué letras ocupan las primeras posiciones, mayúsculas o minúsculas?"
   ]
  },
  {
   "cell_type": "markdown",
   "metadata": {},
   "source": [
    "- Del mismo modo, una función llamada max() encuentra el elemento máximo de la secuencia."
   ]
  },
  {
   "cell_type": "code",
   "execution_count": 39,
   "metadata": {},
   "outputs": [
    {
     "name": "stdout",
     "output_type": "stream",
     "text": [
      "z\n",
      "[¡]\n",
      "2\n"
     ]
    }
   ],
   "source": [
    "# Demostrando max() - Ejemplo 1\n",
    "print(max(\"aAbByYzZ\"))\n",
    "\n",
    "\n",
    "# Demonstrando max() - Examplos 2 y 3\n",
    "t = 'Los Caballeros Que Dicen \"¡Ni!\"'\n",
    "print('[' + max(t) + ']')\n",
    "\n",
    "t = [0, 1, 2]\n",
    "print(max(t))"
   ]
  },
  {
   "cell_type": "markdown",
   "metadata": {},
   "source": [
    "* El método index() (es un método, no una función) busca la secuencia desde el principio, para encontrar el primer elemento del valor especificado en su argumento. El método devuelve el índice de la primera aparición del argumento"
   ]
  },
  {
   "cell_type": "code",
   "execution_count": 40,
   "metadata": {},
   "outputs": [
    {
     "name": "stdout",
     "output_type": "stream",
     "text": [
      "2\n",
      "7\n",
      "1\n"
     ]
    }
   ],
   "source": [
    "# Demonstrando el método index()\n",
    "print(\"aAbByYzZaA\".index(\"b\"))\n",
    "print(\"aAbByYzZaA\".index(\"Z\"))\n",
    "print(\"aAbByYzZaA\".index(\"A\"))"
   ]
  },
  {
   "cell_type": "markdown",
   "metadata": {},
   "source": [
    "Nota: el elemento buscado debe aparecer en la secuencia - su ausencia causará una excepción ValueError."
   ]
  },
  {
   "cell_type": "markdown",
   "metadata": {},
   "source": [
    "* La función list() toma su argumento (una cadena) y crea una nueva lista que contiene todos los caracteres de la cadena, uno por elemento de la lista."
   ]
  },
  {
   "cell_type": "markdown",
   "metadata": {},
   "source": [
    "* El método count() cuenta todas las apariciones del elemento dentro de la secuencia. La ausencia de tal elemento no causa ningún problema."
   ]
  },
  {
   "cell_type": "code",
   "execution_count": 41,
   "metadata": {},
   "outputs": [
    {
     "name": "stdout",
     "output_type": "stream",
     "text": [
      "['a', 'b', 'c', 'a', 'b', 'c']\n",
      "2\n",
      "0\n"
     ]
    }
   ],
   "source": [
    "# Demostrando la función list()\n",
    "print(list(\"abcabc\"))\n",
    "\n",
    "# Demostrando el método count()\n",
    "print(\"abcabc\".count(\"b\"))\n",
    "print('abcabc'.count(\"d\"))"
   ]
  },
  {
   "cell_type": "markdown",
   "metadata": {},
   "source": [
    "Las cadenas de Python tienen un número significativo de métodos destinados exclusivamente al procesamiento de caracteres. No esperes que trabajen con otras colecciones. La lista completa se presenta aquí: https://docs.python.org/3.4/library/stdtypes.html#string-methods.\n",
    "\n",
    "mostraremos los que consideramos más útiles."
   ]
  },
  {
   "cell_type": "markdown",
   "metadata": {},
   "source": [
    "***Métodos de cadenas***\n"
   ]
  },
  {
   "cell_type": "markdown",
   "metadata": {},
   "source": [
    "* El método capitalize() hace exactamente lo que dice - crea una nueva cadena con los caracteres tomados de la cadena fuente, pero intenta modificarlos de la siguiente manera:\n",
    "   - Si el primer caracter dentro de la cadena es una letra (nota: el primer carácter es el elemento con un índice igual a 0, no es el primer caracter visible), se convertirá a mayúsculas.\n",
    "  - Todas las letras restantes de la cadena se convertirán a minúsculas."
   ]
  },
  {
   "cell_type": "code",
   "execution_count": 42,
   "metadata": {},
   "outputs": [
    {
     "name": "stdout",
     "output_type": "stream",
     "text": [
      "Alpha\n",
      "Alpha\n",
      " alpha\n",
      "123\n",
      "Αβγδ\n"
     ]
    }
   ],
   "source": [
    "print(\"Alpha\".capitalize())\n",
    "print('ALPHA'.capitalize())\n",
    "print(' Alpha'.capitalize())\n",
    "print('123'.capitalize())\n",
    "print(\"αβγδ\".capitalize())"
   ]
  },
  {
   "cell_type": "markdown",
   "metadata": {},
   "source": [
    "Nota: la cadena modificada (en mayúscula en este caso) se devuelve como resultado; si no se usa de alguna manera (asígnala a una variable o pásala a una función / método) desaparecerá sin dejar rastro."
   ]
  },
  {
   "cell_type": "markdown",
   "metadata": {},
   "source": [
    "* La variante de un parámetro del método center() genera una copia de la cadena original, tratando de centrarla dentro de un campo de un ancho especificado. El centrado se realiza realmente al agregar algunos espacios antes y después de la cadena."
   ]
  },
  {
   "cell_type": "code",
   "execution_count": 45,
   "metadata": {},
   "outputs": [
    {
     "name": "stdout",
     "output_type": "stream",
     "text": [
      "[Beta]\n",
      "[Beta]\n",
      "[                                      Beta                                      ]\n"
     ]
    }
   ],
   "source": [
    "\n",
    "# Demostración del método center()\n",
    "print('[' + 'Beta'.center(2) + ']')\n",
    "print('[' + 'Beta'.center(4) + ']')\n",
    "print('[' + 'Beta'.center(80) + ']')\n"
   ]
  },
  {
   "cell_type": "markdown",
   "metadata": {},
   "source": [
    "Nota: Si la longitud del campo de destino es demasiado pequeña para ajustarse a la cadena, se devuelve la cadena original."
   ]
  },
  {
   "cell_type": "markdown",
   "metadata": {},
   "source": [
    "La variante de dos parámetros de center() hace uso del caracter del segundo argumento, en lugar de un espacio. Analiza el siguiente ejemplo:\n"
   ]
  },
  {
   "cell_type": "code",
   "execution_count": 46,
   "metadata": {},
   "outputs": [
    {
     "name": "stdout",
     "output_type": "stream",
     "text": [
      "*******gamma********\n"
     ]
    }
   ],
   "source": [
    "\n",
    "print('' + 'gamma'.center(20, '*') + '')"
   ]
  },
  {
   "cell_type": "markdown",
   "metadata": {},
   "source": [
    "* El método endswith() comprueba si la cadena dada termina con el argumento (subcadena) especificado y devuelve True (verdadero) o False (falso), dependiendo del resultado."
   ]
  },
  {
   "cell_type": "code",
   "execution_count": 47,
   "metadata": {},
   "outputs": [
    {
     "name": "stdout",
     "output_type": "stream",
     "text": [
      "si\n"
     ]
    }
   ],
   "source": [
    "# Demostración del método endswith()\n",
    "if \"epsilon\".endswith(\"on\"):\n",
    "    print(\"si\")\n",
    "else:\n",
    "    print(\"no\")"
   ]
  },
  {
   "cell_type": "code",
   "execution_count": 48,
   "metadata": {},
   "outputs": [
    {
     "name": "stdout",
     "output_type": "stream",
     "text": [
      "True\n",
      "False\n",
      "False\n",
      "True\n"
     ]
    }
   ],
   "source": [
    "t = \"zeta\"\n",
    "print(t.endswith(\"a\"))\n",
    "print(t.endswith(\"A\"))\n",
    "print(t.endswith(\"et\"))\n",
    "print(t.endswith(\"eta\"))"
   ]
  },
  {
   "cell_type": "markdown",
   "metadata": {},
   "source": [
    "* El método startswith() es un espejo del método endswith() - comprueba si una cadena dada comienza con la subcadena especificada."
   ]
  },
  {
   "cell_type": "code",
   "execution_count": 84,
   "metadata": {},
   "outputs": [
    {
     "name": "stdout",
     "output_type": "stream",
     "text": [
      "False\n",
      "True\n"
     ]
    }
   ],
   "source": [
    "# Demostración del método startswith()\n",
    "print(\"omega\".startswith(\"meg\"))\n",
    "print(\"omega\".startswith(\"om\"))\n"
   ]
  },
  {
   "cell_type": "markdown",
   "metadata": {},
   "source": [
    "* El método find() es similar al método index(), el cual ya conoces - busca una subcadena y devuelve el índice de la primera aparición de esta subcadena, pero:\n",
    "\n",
    "  - Es más seguro, no genera un error para un argumento que contiene una subcadena inexistente (devuelve -1 en dicho caso).\n",
    "  - Funciona solo con cadenas - no intentes aplicarlo a ninguna otra secuencia."
   ]
  },
  {
   "cell_type": "code",
   "execution_count": 49,
   "metadata": {},
   "outputs": [
    {
     "name": "stdout",
     "output_type": "stream",
     "text": [
      "1\n",
      "-1\n"
     ]
    }
   ],
   "source": [
    "# Demostración del método find()\n",
    "print(\"Eta\".find(\"ta\"))\n",
    "print(\"Eta\".find(\"mma\"))"
   ]
  },
  {
   "cell_type": "code",
   "execution_count": 3,
   "metadata": {},
   "outputs": [
    {
     "name": "stdout",
     "output_type": "stream",
     "text": [
      "1\n",
      "1\n",
      "0\n",
      "-1\n"
     ]
    }
   ],
   "source": [
    "t = 'teta'\n",
    "print(t.find('eta'))\n",
    "print(t.find('et'))\n",
    "print(t.find('te'))\n",
    "print(t.find('ha'))"
   ]
  },
  {
   "cell_type": "markdown",
   "metadata": {},
   "source": [
    "Si deseas realizar la búsqueda, no desde el principio de la cadena, sino desde cualquier posición, puedes usar una variante de dos parámetros del método find(). Mira el ejemplo:\n"
   ]
  },
  {
   "cell_type": "code",
   "execution_count": 51,
   "metadata": {},
   "outputs": [
    {
     "name": "stdout",
     "output_type": "stream",
     "text": [
      "4\n"
     ]
    }
   ],
   "source": [
    "\n",
    "print('kappa'.find('a', 2))\n",
    "\n",
    "#El segundo argumento especifica el índice en el que se iniciará la búsqueda."
   ]
  },
  {
   "cell_type": "code",
   "execution_count": 52,
   "metadata": {},
   "outputs": [
    {
     "name": "stdout",
     "output_type": "stream",
     "text": [
      "15\n",
      "80\n",
      "198\n",
      "221\n",
      "238\n"
     ]
    }
   ],
   "source": [
    "txt = \"\"\"A variation of the ordinary lorem ipsum\n",
    "text has been used in typesetting since the 1960s \n",
    "or earlier, when it was popularized by advertisements \n",
    "for Letraset transfer sheets. It was introduced to \n",
    "the Information Age in the mid-1980s by the Aldus Corporation, \n",
    "which employed it in graphics and word-processing templates\n",
    "for its desktop publishing program PageMaker (from Wikipedia)\"\"\"\n",
    "\n",
    "fnd = txt.find('the')\n",
    "while fnd != -1:\n",
    "    print(fnd)\n",
    "    fnd = txt.find('the', fnd + 1)"
   ]
  },
  {
   "cell_type": "markdown",
   "metadata": {},
   "source": [
    "Existe también una mutación de tres parámetros del método find() - el tercer argumento apunta al primer índice que no se tendrá en cuenta durante la búsqueda (en realidad es el límite superior de la búsqueda).\n",
    "\n",
    "Observa el ejemplo a continuación:\n"
   ]
  },
  {
   "cell_type": "code",
   "execution_count": 53,
   "metadata": {},
   "outputs": [
    {
     "name": "stdout",
     "output_type": "stream",
     "text": [
      "1\n",
      "-1\n"
     ]
    }
   ],
   "source": [
    "\n",
    "print('kappa'.find('a', 1, 4))\n",
    "print('kappa'.find('a', 2, 4))"
   ]
  },
  {
   "cell_type": "markdown",
   "metadata": {},
   "source": [
    "El segundo argumento especifica el índice en el que se iniciará la búsqueda (no tiene que caber dentro de la cadena)."
   ]
  },
  {
   "cell_type": "markdown",
   "metadata": {},
   "source": [
    "* Los métodos de uno, dos y tres parámetros denominados rfind() hacen casi lo mismo que sus contrapartes (las que carecen del prefijo r), pero comienzan sus búsquedas desde el final de la cadena, no el principio (de ahí el prefijo r, de reversa)."
   ]
  },
  {
   "cell_type": "code",
   "execution_count": 89,
   "metadata": {},
   "outputs": [
    {
     "name": "stdout",
     "output_type": "stream",
     "text": [
      "8\n",
      "-1\n",
      "4\n"
     ]
    }
   ],
   "source": [
    "# Demostración del método rfind()\n",
    "print(\"tau tau tau\".rfind(\"ta\"))\n",
    "print(\"tau tau tau\".rfind(\"ta\", 9))\n",
    "print(\"tau tau tau\".rfind(\"ta\", 3, 9))"
   ]
  },
  {
   "cell_type": "markdown",
   "metadata": {},
   "source": [
    "* El método sin parámetros llamado isalnum() comprueba si la cadena contiene solo dígitos o caracteres alfabéticos (letras) y devuelve True (verdadero) o False (falso) de acuerdo al resultado."
   ]
  },
  {
   "cell_type": "code",
   "execution_count": 54,
   "metadata": {},
   "outputs": [
    {
     "name": "stdout",
     "output_type": "stream",
     "text": [
      "True\n",
      "True\n",
      "True\n",
      "False\n",
      "False\n",
      "False\n"
     ]
    }
   ],
   "source": [
    "# Demostración del método the isalnum()\n",
    "print('lambda30'.isalnum())\n",
    "print('lambda'.isalnum())\n",
    "print('30'.isalnum())\n",
    "print('@'.isalnum())\n",
    "print('lambda_30'.isalnum())\n",
    "print(''.isalnum())"
   ]
  },
  {
   "cell_type": "code",
   "execution_count": 55,
   "metadata": {},
   "outputs": [
    {
     "name": "stdout",
     "output_type": "stream",
     "text": [
      "False\n",
      "True\n",
      "True\n"
     ]
    }
   ],
   "source": [
    "t = 'Six lambdas' #un espacio no es ni un dígito ni una letra.\n",
    "print(t.isalnum()) \n",
    "\n",
    "t = 'ΑβΓδ'\n",
    "print(t.isalnum())\n",
    "\n",
    "t = '20E1'\n",
    "print(t.isalnum())"
   ]
  },
  {
   "cell_type": "markdown",
   "metadata": {},
   "source": [
    "* El método isalpha() es más especializado, se interesa en letras solamente.\n",
    "* Al contrario, el método isdigit() busca sólo dígitos - cualquier otra cosa produce False (falso) como resultado."
   ]
  },
  {
   "cell_type": "code",
   "execution_count": 56,
   "metadata": {},
   "outputs": [
    {
     "name": "stdout",
     "output_type": "stream",
     "text": [
      "True\n",
      "False\n",
      "True\n",
      "False\n"
     ]
    }
   ],
   "source": [
    "# Ejemplo 1: Demostración del método isapha()\n",
    "print(\"Moooo\".isalpha())\n",
    "print('Mu40'.isalpha())\n",
    "\n",
    "# Ejemplo 2: Demostración del método isdigit()\n",
    "    \n",
    "print('2018'.isdigit())\n",
    "print(\"Año2019\".isdigit())"
   ]
  },
  {
   "cell_type": "markdown",
   "metadata": {},
   "source": [
    "* El método islower() es una variante de isalpha() - solo acepta letras minúsculas.\n",
    "* El método isspace() identifica espacios en blanco solamente - no tiene en cuenta ningún otro caracter (el resultado es entonces False).\n",
    "* El método isupper() es la versión en mayúscula de islower() - se concentra solo en letras mayúsculas."
   ]
  },
  {
   "cell_type": "code",
   "execution_count": 59,
   "metadata": {},
   "outputs": [
    {
     "name": "stdout",
     "output_type": "stream",
     "text": [
      "False\n",
      "True\n",
      "\n",
      "\n",
      "True\n",
      "True\n",
      "False\n",
      "\n",
      "\n",
      "False\n",
      "False\n",
      "True\n"
     ]
    }
   ],
   "source": [
    "# Ejemplo 1: Demostración del método islower()\n",
    "print(\"Moooo\".islower())\n",
    "print('moooo'.islower())\n",
    "print('\\n')\n",
    "# Ejemplo 2: Demostración del método isspace()\n",
    "print(' \\n '.isspace())\n",
    "print(\" \".isspace())\n",
    "print(\"mooo mooo mooo\".isspace())\n",
    "print('\\n')\n",
    "# Ejemplo 3: Demostración del método isupper() \n",
    "print(\"Moooo\".isupper())\n",
    "print('moooo'.isupper())\n",
    "print('MOOOO'.isupper())"
   ]
  },
  {
   "cell_type": "markdown",
   "metadata": {},
   "source": [
    "* El método lower() genera una copia de una cadena, reemplaza todas las letras mayúsculas con sus equivalentes en minúsculas, y devuelve la cadena como resultado. Nuevamente, la cadena original permanece intacta. Si la cadena no contiene caracteres en mayúscula, el método devuelve la cadena original."
   ]
  },
  {
   "cell_type": "code",
   "execution_count": 62,
   "metadata": {},
   "outputs": [
    {
     "name": "stdout",
     "output_type": "stream",
     "text": [
      "sigma=60\n"
     ]
    }
   ],
   "source": [
    "# Demostración del método lower()\n",
    "print(\"SiGmA=60\".lower())\n",
    "# lower() toma cero parametros. "
   ]
  },
  {
   "cell_type": "markdown",
   "metadata": {},
   "source": [
    "* El método sin parámetros lstrip() devuelve una cadena recién creada formada a partir de la original eliminando todos los espacios en blanco iniciales."
   ]
  },
  {
   "cell_type": "code",
   "execution_count": 64,
   "metadata": {},
   "outputs": [
    {
     "name": "stdout",
     "output_type": "stream",
     "text": [
      "[tau ]\n",
      "Jonathan\n"
     ]
    }
   ],
   "source": [
    "#Demostración del método the lstrip()\n",
    "print(\"[\" + \" tau \".lstrip() + \"]\")\n",
    "print(\" Jonathan\".lstrip())"
   ]
  },
  {
   "cell_type": "markdown",
   "metadata": {},
   "source": [
    "\n",
    "El método con un parámetro lstrip() hace lo mismo que su versión sin parámetros, pero elimina todos los caracteres incluidos en el argumento (una cadena), no solo espacios en blanco:\n",
    "\n"
   ]
  },
  {
   "cell_type": "code",
   "execution_count": 78,
   "metadata": {},
   "outputs": [
    {
     "name": "stdout",
     "output_type": "stream",
     "text": [
      "cisco.com\n"
     ]
    }
   ],
   "source": [
    "print(\"www.cisco.com\".lstrip(\"w.\"))"
   ]
  },
  {
   "cell_type": "code",
   "execution_count": 66,
   "metadata": {},
   "outputs": [
    {
     "name": "stdout",
     "output_type": "stream",
     "text": [
      "pythoninstitute.org\n"
     ]
    }
   ],
   "source": [
    "print(\"pythoninstitute.org\". lstrip(\".org\"))"
   ]
  },
  {
   "cell_type": "markdown",
   "metadata": {},
   "source": [
    "* Dos variantes del método rstrip() hacen casi lo mismo que el método lstrip, pero afecta el lado opuesto de la cadena."
   ]
  },
  {
   "cell_type": "code",
   "execution_count": 88,
   "metadata": {},
   "outputs": [
    {
     "name": "stdout",
     "output_type": "stream",
     "text": [
      "[ upsilon]\n",
      "cis\n"
     ]
    }
   ],
   "source": [
    "# Demostración del método rstrip()\n",
    "print(\"[\" + \" upsilon \".rstrip() + \"]\")\n",
    "print(\"cisco.com\".rstrip(\".com\"))"
   ]
  },
  {
   "cell_type": "markdown",
   "metadata": {},
   "source": [
    "* El método strip() combina los efectos causados por rstrip() y lstrip() - crea una nueva cadena que carece de todos los espacios en blanco iniciales y finales."
   ]
  },
  {
   "cell_type": "code",
   "execution_count": 87,
   "metadata": {},
   "outputs": [
    {
     "name": "stdout",
     "output_type": "stream",
     "text": [
      "[aleph]\n"
     ]
    }
   ],
   "source": [
    "# Demostración del método strip() \n",
    "print(\"[\" + \"   aleph   \".strip() + \"]\")"
   ]
  },
  {
   "cell_type": "markdown",
   "metadata": {},
   "source": [
    "* El método replace() con dos parámetros devuelve una copia de la cadena original en la que todas las apariciones del primer argumento han sido reemplazadas por el segundo argumento."
   ]
  },
  {
   "cell_type": "code",
   "execution_count": 67,
   "metadata": {},
   "outputs": [
    {
     "name": "stdout",
     "output_type": "stream",
     "text": [
      "www.pythoninstitute.org\n",
      "Thare are it!\n",
      "Apple \n"
     ]
    }
   ],
   "source": [
    "# Demostración del método replace()\n",
    "print(\"www.netacad.com\".replace(\"netacad.com\", \"pythoninstitute.org\"))\n",
    "print(\"This is it!\".replace(\"is\", \"are\"))\n",
    "print(\"Apple juice\".replace(\"juice\", \"\")) "
   ]
  },
  {
   "cell_type": "markdown",
   "metadata": {},
   "source": [
    "Nota: el segundo argumento puede ser una cadena vacía (lo que hace es eliminar en lugar de reemplazar), pero el primer argumento no puede estar vacío."
   ]
  },
  {
   "cell_type": "markdown",
   "metadata": {},
   "source": [
    "La variante del métdodo replace() con tres parámetros emplea un tercer argumento (un número) para limitar el número de reemplazos.\n",
    "\n",
    "Observa el código modificado a continuación:\n",
    "\n"
   ]
  },
  {
   "cell_type": "code",
   "execution_count": 68,
   "metadata": {},
   "outputs": [
    {
     "name": "stdout",
     "output_type": "stream",
     "text": [
      "Thare is it!\n",
      "Thare are it!\n"
     ]
    }
   ],
   "source": [
    "print(\"This is it!\".replace(\"is\", \"are\", 1))\n",
    "print(\"This is it!\".replace(\"is\", \"are\", 2))"
   ]
  },
  {
   "cell_type": "markdown",
   "metadata": {},
   "source": [
    "Nota: si la cadena está vacía, la lista resultante también está vacía."
   ]
  },
  {
   "cell_type": "markdown",
   "metadata": {},
   "source": [
    "* El método swapcase() crea una nueva cadena intercambiando todas las letras por mayúsculas o minúsculas dentro de la cadena original: los caracteres en mayúscula se convierten en minúsculas y viceversa. Todos los demás caracteres permanecen intactos.\n",
    "\n",
    "* El método title() realiza una función algo similar cambia la primera letra de cada palabra a mayúsculas, convirtiendo todas las demás a minúsculas.\n",
    "\n",
    "* el método upper() hace una copia de la cadena de origen, reemplaza todas las letras minúsculas con sus equivalentes en mayúsculas, y devuelve la cadena como resultado."
   ]
  },
  {
   "cell_type": "code",
   "execution_count": 90,
   "metadata": {},
   "outputs": [
    {
     "name": "stdout",
     "output_type": "stream",
     "text": [
      "yO SÉ QUE NO SÉ NADA.\n",
      "\n",
      "Yo Sé Que No Sé Nada. Parte 1.\n",
      "\n",
      "YO SÉ QUE NO SÉ NADA. PARTE 2.\n"
     ]
    }
   ],
   "source": [
    "# Demostración del método swapcase()\n",
    "print(\"Yo sé que no sé nada.\".swapcase())\n",
    "\n",
    "print()\n",
    "\n",
    "# Demostración del método title()\n",
    "print(\"Yo sé que no sé nada. Parte 1.\".title())\n",
    "\n",
    "print()\n",
    "\n",
    "# Demostración del método upper()\n",
    "print(\"Yo sé que no sé nada. Parte 2.\".upper())"
   ]
  },
  {
   "cell_type": "markdown",
   "metadata": {},
   "source": [
    "* El método split() divide la cadena y crea una lista de todas las subcadenas detectadas. El método asume que las subcadenas están delimitadas por espacios en blanco - los espacios no participan en la operación y no se copian en la lista resultante."
   ]
  },
  {
   "cell_type": "code",
   "execution_count": 92,
   "metadata": {},
   "outputs": [
    {
     "name": "stdout",
     "output_type": "stream",
     "text": [
      "['phi', 'chi', 'psi']\n"
     ]
    }
   ],
   "source": [
    "# Demostración del método split()\n",
    "print(\"phi       chi\\npsi\".split())"
   ]
  },
  {
   "cell_type": "code",
   "execution_count": 10,
   "metadata": {},
   "outputs": [
    {
     "name": "stdout",
     "output_type": "stream",
     "text": [
      "['Ser', 'o', 'no', 'ser,', 'esa', 'es', 'la', 'pregunta']\n",
      "['Ser', 'o', 'no', 'ser,esa', 'es', 'la', 'pregunta']\n",
      "[]\n",
      "['abc']\n",
      "[]\n"
     ]
    }
   ],
   "source": [
    "#Escribir una función que se comporte casi como el método original split():\n",
    "\"\"\" \n",
    "- Debe aceptar únicamente un argumento: una cadena.\n",
    "- Debe devolver una lista de palabras creadas a partir de la cadena, dividida en \n",
    "  los lugares donde la cadena contiene espacios en blanco.\n",
    "- Si la cadena está vacía, la función debería devolver una lista vacía. \"\"\"\n",
    "\n",
    "\n",
    "def misplit(strng:str):\n",
    "  strng, lista, word = strng.strip(), [], '' \n",
    "  for chr in strng:\n",
    "    if chr == \" \":\n",
    "      lista.append(word)\n",
    "      word = ''                   \n",
    "      continue\n",
    "    word = word + chr\n",
    "  lista.append(word)\n",
    "  if lista == ['']: lista = []\n",
    "  return lista\n",
    "\n",
    "\n",
    "print(misplit(\"Ser o no ser, esa es la pregunta\"))\n",
    "print(misplit(\"Ser o no ser,esa es la pregunta\"))\n",
    "print(misplit(\"   \"))\n",
    "print(misplit(\" abc \"))\n",
    "print(misplit(\"\"))\n"
   ]
  },
  {
   "cell_type": "markdown",
   "metadata": {},
   "source": [
    "Su método inverso es join(), el cuál se explica a continuación."
   ]
  },
  {
   "cell_type": "markdown",
   "metadata": {},
   "source": [
    "***El método join()***"
   ]
  },
  {
   "cell_type": "markdown",
   "metadata": {},
   "source": [
    "* Como su nombre lo indica, el método realiza una unión y espera un argumento del tipo lista; se debe asegurar que todos los elementos de la lista sean cadenas: de lo contrario, el método generará una excepción TypeError.\n",
    "* Todos los elementos de la lista serán unidos en una sola cadena pero...\n",
    "...la cadena desde la que se ha invocado el método será utilizada como separador, puesta entre las cadenas.\n",
    "* La cadena recién creada se devuelve como resultado."
   ]
  },
  {
   "cell_type": "code",
   "execution_count": 61,
   "metadata": {},
   "outputs": [
    {
     "name": "stdout",
     "output_type": "stream",
     "text": [
      "omicron,pi,rho\n",
      "omicron pi rho\n"
     ]
    }
   ],
   "source": [
    "# Demostración del método join()\n",
    "print(\",\".join([\"omicron\", \"pi\", \"rho\"]))\n",
    "print(\" \".join([\"omicron\", \"pi\", \"rho\"]))"
   ]
  },
  {
   "cell_type": "markdown",
   "metadata": {},
   "source": [
    "***Comparando cadenas***\n",
    "\n",
    "Python simplemente compara valores de puntos de código (ASCII / UNICODE), caracter por caracter.\n",
    "\n",
    "Dos cadenas son iguales cuando consisten en los mismos caracteres en el mismo orden. Del mismo modo, dos cadenas no son iguales cuando no consisten en los mismos caracteres en el mismo orden."
   ]
  },
  {
   "cell_type": "code",
   "execution_count": 2,
   "metadata": {},
   "outputs": [
    {
     "name": "stdout",
     "output_type": "stream",
     "text": [
      "True\n",
      "True\n"
     ]
    }
   ],
   "source": [
    "print('alfa' == 'alfa')\n",
    "print('alfa' != 'Alfa')"
   ]
  },
  {
   "cell_type": "markdown",
   "metadata": {},
   "source": [
    "La relación final entre cadenas está determinada por comparar el primer caracter diferente en ambas cadenas. Cuando se comparan dos cadenas de diferentes longitudes y la más corta es idéntica a la más larga, la cadena más larga se considera mayor.\n",
    "\n",
    "Justo como aquí:"
   ]
  },
  {
   "cell_type": "code",
   "execution_count": 17,
   "metadata": {},
   "outputs": [
    {
     "name": "stdout",
     "output_type": "stream",
     "text": [
      "True\n"
     ]
    }
   ],
   "source": [
    "print(\n",
    "'alfa' < 'alfabeto')"
   ]
  },
  {
   "cell_type": "markdown",
   "metadata": {},
   "source": [
    "La comparación de cadenas siempre distingue entre mayúsculas y minúsculas (las letras mayúsculas se consideran menores en comparación con las minúsculas)."
   ]
  },
  {
   "cell_type": "code",
   "execution_count": 5,
   "metadata": {},
   "outputs": [
    {
     "name": "stdout",
     "output_type": "stream",
     "text": [
      "True\n"
     ]
    }
   ],
   "source": [
    "print(\n",
    "'alfa' > 'Alfabeto')"
   ]
  },
  {
   "cell_type": "markdown",
   "metadata": {},
   "source": [
    "¿Qué ocurre al comparar cadenas que solo contienen digitos? Nada, siguen siendo cadenas, su aspecto numérico (potencial) no se toma en cuenta, en ninguna manera."
   ]
  },
  {
   "cell_type": "code",
   "execution_count": 7,
   "metadata": {},
   "outputs": [
    {
     "name": "stdout",
     "output_type": "stream",
     "text": [
      "False\n",
      "True\n",
      "False\n",
      "True\n",
      "True\n"
     ]
    }
   ],
   "source": [
    "print('10' == '010')\n",
    "print('10' > '010')\n",
    "print('10' > '8')\n",
    "print('20' < '8')\n",
    "print('20' < '80')"
   ]
  },
  {
   "cell_type": "markdown",
   "metadata": {},
   "source": [
    "¿Y si comparamos una cadena de este tipo con un número? Las únicas comparaciones que puede realizar con impunidad son aquellas simbolizadas por los operadores == y !=. El primero siempre devuelve False, mientras que el segundo siempre devuelve True. El uso de cualquiera de los operadores de comparación restantes generará una excepción TypeError."
   ]
  },
  {
   "cell_type": "code",
   "execution_count": 9,
   "metadata": {},
   "outputs": [
    {
     "name": "stdout",
     "output_type": "stream",
     "text": [
      "False\n",
      "True\n",
      "False\n",
      "True\n"
     ]
    },
    {
     "ename": "TypeError",
     "evalue": "'>' not supported between instances of 'str' and 'int'",
     "output_type": "error",
     "traceback": [
      "\u001b[1;31m---------------------------------------------------------------------------\u001b[0m",
      "\u001b[1;31mTypeError\u001b[0m                                 Traceback (most recent call last)",
      "\u001b[1;32mc:\\Users\\USUARIO\\Documents\\TI\\Python\\Cisco\\MOD5.ipynb Cell 18'\u001b[0m in \u001b[0;36m<cell line: 5>\u001b[1;34m()\u001b[0m\n\u001b[0;32m      <a href='vscode-notebook-cell:/c%3A/Users/USUARIO/Documents/TI/Python/Cisco/MOD5.ipynb#ch0000017?line=2'>3</a>\u001b[0m \u001b[39mprint\u001b[39m(\u001b[39m'\u001b[39m\u001b[39m10\u001b[39m\u001b[39m'\u001b[39m \u001b[39m==\u001b[39m \u001b[39m1\u001b[39m)\n\u001b[0;32m      <a href='vscode-notebook-cell:/c%3A/Users/USUARIO/Documents/TI/Python/Cisco/MOD5.ipynb#ch0000017?line=3'>4</a>\u001b[0m \u001b[39mprint\u001b[39m(\u001b[39m'\u001b[39m\u001b[39m10\u001b[39m\u001b[39m'\u001b[39m \u001b[39m!=\u001b[39m \u001b[39m1\u001b[39m)\n\u001b[1;32m----> <a href='vscode-notebook-cell:/c%3A/Users/USUARIO/Documents/TI/Python/Cisco/MOD5.ipynb#ch0000017?line=4'>5</a>\u001b[0m \u001b[39mprint\u001b[39m(\u001b[39m'\u001b[39;49m\u001b[39m10\u001b[39;49m\u001b[39m'\u001b[39;49m \u001b[39m>\u001b[39;49m \u001b[39m10\u001b[39;49m)\n",
      "\u001b[1;31mTypeError\u001b[0m: '>' not supported between instances of 'str' and 'int'"
     ]
    }
   ],
   "source": [
    "print('10' == 10)\n",
    "print('10' != 10)\n",
    "print('10' == 1)\n",
    "print('10' != 1)\n",
    "print('10' > 10)\n",
    "\n"
   ]
  },
  {
   "cell_type": "markdown",
   "metadata": {},
   "source": [
    "***Ordenamiento de cadenas***"
   ]
  },
  {
   "cell_type": "markdown",
   "metadata": {},
   "source": [
    "Ordenar listas que contienen cadenas.\n",
    "\n",
    "En general, Python ofrece dos formas diferentes de ordenar las listas:\n",
    "\n",
    "- El primero se implementa con una función llamada sorted(), la cual toma un argumento (una lista) y devuelve una nueva lista, con los elementos ordenados del argumento. La lista original permanece intacta.\n",
    "- El segundo método afecta a la lista misma - no se crea una nueva lista. El ordenamiento se realiza por el método denominado sort()."
   ]
  },
  {
   "cell_type": "code",
   "execution_count": 11,
   "metadata": {},
   "outputs": [
    {
     "name": "stdout",
     "output_type": "stream",
     "text": [
      "['omega', 'alfa', 'pi', 'gama']\n",
      "['alfa', 'gama', 'omega', 'pi']\n",
      "\n",
      "['omega', 'alfa', 'pi', 'gama']\n",
      "['alfa', 'gama', 'omega', 'pi']\n"
     ]
    }
   ],
   "source": [
    "# Demostración de la función sorted()\n",
    "firstGreek = ['omega', 'alfa', 'pi', 'gama']\n",
    "firstGreek2 = sorted(firstGreek)\n",
    "\n",
    "print(firstGreek)\n",
    "print(firstGreek2)\n",
    "\n",
    "print()\n",
    "\n",
    "# Demostración del método sort()\n",
    "secondGreek = ['omega', 'alfa', 'pi', 'gama']\n",
    "print(secondGreek)\n",
    "\n",
    "secondGreek.sort()\n",
    "print(secondGreek)"
   ]
  },
  {
   "cell_type": "markdown",
   "metadata": {},
   "source": [
    "***Conversión de cadenas en números***"
   ]
  },
  {
   "cell_type": "markdown",
   "metadata": {},
   "source": [
    "La conversión de cadena a número es simple, ya que siempre es posible. Se realiza mediante una función llamada str().\n",
    "\n"
   ]
  },
  {
   "cell_type": "code",
   "execution_count": 12,
   "metadata": {},
   "outputs": [
    {
     "name": "stdout",
     "output_type": "stream",
     "text": [
      "13 1.3\n"
     ]
    }
   ],
   "source": [
    "itg = 13\n",
    "flt = 1.3\n",
    "si = str(itg)\n",
    "sf = str(flt)\n",
    "\n",
    "print(si + ' ' + sf)"
   ]
  },
  {
   "cell_type": "markdown",
   "metadata": {},
   "source": [
    "La transformación inversa solo es posible cuando la cadena representa un número válido. Si no se cumple la condición, espera una excepción ValueError.\n",
    "\n",
    "Emplea la función int() si deseas obtener un entero, y float() si necesitas un valor punto flotante."
   ]
  },
  {
   "cell_type": "code",
   "execution_count": 13,
   "metadata": {},
   "outputs": [
    {
     "name": "stdout",
     "output_type": "stream",
     "text": [
      "14.3\n"
     ]
    }
   ],
   "source": [
    "si = '13'\n",
    "sf = '1.3'\n",
    "itg = int(si)\n",
    "flt = float(sf)\n",
    "\n",
    "print(itg + flt)"
   ]
  },
  {
   "cell_type": "code",
   "execution_count": null,
   "metadata": {},
   "outputs": [],
   "source": [
    "\"\"\" \n",
    "escribir un programa que puede simular el funcionamiento de un display de siete segmentos, \n",
    "aunque vas a usar LEDs individuales (#) en lugar de segmentos.\n",
    "\n",
    "\"\"\""
   ]
  },
  {
   "cell_type": "markdown",
   "metadata": {},
   "source": [
    "<img src=\"https://upload.wikimedia.org/wikipedia/commons/a/a4/7segment_multiplexing.gif\"/>\n"
   ]
  },
  {
   "cell_type": "code",
   "execution_count": null,
   "metadata": {},
   "outputs": [],
   "source": [
    "P= \"\"\"  \n",
    "        # ### ### # # ### ### ### ### ### ### \n",
    "        #   #   # # # #   #     # # # # # # # \n",
    "        # ### ### ### ### ###   # ### ### # # \n",
    "        # #     #   #   # # #   # # #   # # # \n",
    "        # ### ###   # ### ###   # ### ### ###  \n",
    " \"\"\"       \n",
    " \n",
    "print(list(P))"
   ]
  },
  {
   "cell_type": "markdown",
   "metadata": {},
   "source": [
    "# Pendiente 5.1.10.6 LABORATORIO: Un Display LED"
   ]
  },
  {
   "cell_type": "code",
   "execution_count": 1,
   "metadata": {},
   "outputs": [
    {
     "name": "stdout",
     "output_type": "stream",
     "text": [
      "BCDYZABCDYZA\n"
     ]
    }
   ],
   "source": [
    "# Cifrado César \n",
    "text = input(\"Ingresa tu mensaje: \")\n",
    "cifrado = ''\n",
    "for char in text:\n",
    "    if not char.isalpha():\n",
    "        continue\n",
    "    char = char.upper()\n",
    "    code = ord(char) + 1\n",
    "    if code > ord('Z'):\n",
    "        code = ord('A')\n",
    "    cifrado += chr(code)\n",
    "\n",
    "print(cifrado)"
   ]
  },
  {
   "cell_type": "code",
   "execution_count": 24,
   "metadata": {},
   "outputs": [
    {
     "name": "stdout",
     "output_type": "stream",
     "text": [
      "\n"
     ]
    }
   ],
   "source": [
    "# Cifrado César - a la inversa\n",
    "cifrado = input('Ingresa tu criptograma: ')\n",
    "text = ''\n",
    "for char in cifrado:\n",
    "    if not char.isalpha():\n",
    "        continue\n",
    "    char = char.upper()\n",
    "    code = ord(char) - 1\n",
    "    if code < ord('A'):\n",
    "        code = ord('Z')\n",
    "    text += chr(code)\n",
    "\n",
    "print(text)"
   ]
  },
  {
   "cell_type": "code",
   "execution_count": 26,
   "metadata": {},
   "outputs": [
    {
     "name": "stdout",
     "output_type": "stream",
     "text": [
      "El total es: 0\n"
     ]
    }
   ],
   "source": [
    "#Procesador de números\n",
    "\n",
    "linea = input(\"Ingresa una línea de números, sepáralos con espacios: \")\n",
    "strings = linea.split()\n",
    "total = 0\n",
    "try:\n",
    "    for substr in strings:\n",
    "        total += float(substr)\n",
    "    print(\"El total es:\", total)\n",
    "except:\n",
    "    print(substr, \"no es un numero.\")"
   ]
  },
  {
   "cell_type": "code",
   "execution_count": 29,
   "metadata": {},
   "outputs": [
    {
     "name": "stdout",
     "output_type": "stream",
     "text": [
      "El IBAN ingresado es válido.\n"
     ]
    }
   ],
   "source": [
    "# Validador IBAN\n",
    "\n",
    "iban = input(\"Ingresa IBAN, por favor: \")\n",
    "iban = iban.replace(' ','')\n",
    "if not iban.isalnum():\n",
    "    print(\"Has introducido caracteres no válidos.\")\n",
    "elif len(iban) < 15:\n",
    "    print(\"El IBAN ingresado es demasiado corto.\")\n",
    "elif len(iban) > 31:\n",
    "    print(\"El IBAN ingresado es demasiado largo.\")\n",
    "else:\n",
    "    iban = (iban[4:] + iban[0:4]).upper()\n",
    "    iban2 = ''\n",
    "    for ch in iban:\n",
    "        if ch.isdigit():\n",
    "            iban2 += ch\n",
    "        else:\n",
    "            iban2 += str(10 + ord(ch) - ord('A'))\n",
    "    ibann = int(iban2)\n",
    "    if ibann % 97 == 1:\n",
    "        print(\"El IBAN ingresado es válido.\")\n",
    "    else:\n",
    "        print(\"El IBAN ingresado no es válido.\")"
   ]
  },
  {
   "cell_type": "code",
   "execution_count": null,
   "metadata": {},
   "outputs": [],
   "source": [
    "# Cifrado César - modificado\n",
    "text = input(\"Ingresa tu mensaje: \")\n",
    "print(text)\n",
    "\n",
    "ValordeCambio = 0\n",
    "while ValordeCambio < 1 or ValordeCambio > 25:\n",
    " ValordeCambio = int(input(\"Ingresa un valor de cambio\"))\n",
    " \n",
    "cifrado = ''\n",
    "for char in text:\n",
    "    \n",
    "    if not char.isalpha():code = ord(char)\n",
    "    else: code = ord(char) + ValordeCambio\n",
    "    \n",
    "    if char.lower() == char:\n",
    "      if code > ord('z') : code = code - 26\n",
    "    else: \n",
    "        if code > ord('Z'): code = code - 26\n",
    "\n",
    "    cifrado += chr(code)\n",
    "\n",
    "print(cifrado)"
   ]
  },
  {
   "cell_type": "code",
   "execution_count": 45,
   "metadata": {},
   "outputs": [
    {
     "name": "stdout",
     "output_type": "stream",
     "text": [
      "No es un palíndromo\n"
     ]
    }
   ],
   "source": [
    "#Palíndromos\n",
    "def Palíndromos (text):\n",
    "    if text.isspace(): return print(\"No es un palíndromo\")  \n",
    "    cadena = text\n",
    "    cadena = cadena.replace(' ','').upper() #invocar dos métodos en una sola línea\n",
    "    text = list(text.replace(' ','').upper())  \n",
    "    for i in range(len(text)-1):\n",
    "        text[i], text[i+1] = text[(len(text)-1)-i], text[(len(text)-2)-i]\n",
    "    if text == list(cadena):return print(\"Es un palíndromo\")\n",
    "    else: return print(\"No es un palíndromo\")  \n",
    "\n",
    "text = input(\"Ingresa una palabra o frase\")\n",
    "Palíndromos(text)\n"
   ]
  },
  {
   "cell_type": "code",
   "execution_count": null,
   "metadata": {},
   "outputs": [],
   "source": [
    "#Anagramas\n",
    "\n",
    "def Anagramas(text, text2):\n",
    "    text, text2 = text.upper(), text2.upper()\n",
    "    contador = 0\n",
    "    for i in text:\n",
    "      if i in text2:\n",
    "          contador +=1\n",
    "    if contador == len(text):\n",
    "        return print('Son anagramas')\n",
    "    else: \n",
    "        return print('No son anagramas')\n",
    "    \n",
    "\n",
    "text = input(\"Ingresa una palabra o frase\")\n",
    "text2 = input(\"Ingresa otra palabra o frase\")\n",
    "Anagramas(text, text2)\n"
   ]
  },
  {
   "cell_type": "code",
   "execution_count": 66,
   "metadata": {},
   "outputs": [
    {
     "name": "stdout",
     "output_type": "stream",
     "text": [
      "Su digito de la vida es : 6\n"
     ]
    }
   ],
   "source": [
    "#El digito de la vida\n",
    "\n",
    "AAAAMMDD = input(\"AAAAMMDD\")\n",
    "suma = 0\n",
    "for i in AAAAMMDD:\n",
    "    suma += int(i)\n",
    "    if suma >= 10:\n",
    "        suma2 = 0\n",
    "        for j in str(suma):\n",
    "           suma2 += int(j)\n",
    "        suma = suma2\n",
    "\n",
    "print(\"Su digito de la vida es :\", suma)\n",
    "            \n",
    "\n"
   ]
  },
  {
   "cell_type": "code",
   "execution_count": null,
   "metadata": {},
   "outputs": [],
   "source": [
    "#Caracteres ocultos\n",
    "\n",
    "palabra = input(\"Escriba una palabra\")\n",
    "caracteres = input(\"Escriba un grupo de caracteres sin ningún orden o patrón\")\n",
    "\n",
    "palabraOculta = ''\n",
    "n = 0\n",
    "for chr in palabra:\n",
    "     if caracteres.find(chr, n) != -1:\n",
    "        palabraOculta += chr\n",
    "        n = caracteres.find(chr)\n",
    "\n",
    "if palabra == palabraOculta: print('si')\n",
    "else: print('No')\n",
    "    \n"
   ]
  },
  {
   "cell_type": "markdown",
   "metadata": {},
   "source": [
    "# Pendiente 5.1.11.11 LABORATORIO: Sudoku"
   ]
  }
 ],
 "metadata": {
  "kernelspec": {
   "display_name": "Python 3.10.4 64-bit",
   "language": "python",
   "name": "python3"
  },
  "language_info": {
   "codemirror_mode": {
    "name": "ipython",
    "version": 3
   },
   "file_extension": ".py",
   "mimetype": "text/x-python",
   "name": "python",
   "nbconvert_exporter": "python",
   "pygments_lexer": "ipython3",
   "version": "3.10.4"
  },
  "orig_nbformat": 4,
  "vscode": {
   "interpreter": {
    "hash": "110fe3fb9777db4ce1f884af3cc527a40b2c98427ad17781c021ef692bd3d28d"
   }
  }
 },
 "nbformat": 4,
 "nbformat_minor": 2
}
